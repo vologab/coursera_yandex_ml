{
 "cells": [
  {
   "cell_type": "markdown",
   "metadata": {},
   "source": [
    "## Предсказание результатов игры"
   ]
  },
  {
   "cell_type": "markdown",
   "metadata": {},
   "source": [
    "### Введение\n",
    " Это задание - финальный проект курса\n",
    "Coursera [Введение в машинное обучение](https://www.coursera.org/learn/vvedenie-mashinnoe-obuchenie). На [Kaggle](https://kaggle.com/join/coursera_ml_dota2_contest) есть соотвествующее этому заданию соревнование.\n",
    "\n",
    " В данной работе с помощью методов машнного обучения *градиентного бустинга* и *логистической регресии* предсказывается результат игры Dota 2 по первым 5 минутам игры. \n",
    "\n"
   ]
  },
  {
   "cell_type": "code",
   "execution_count": 1,
   "metadata": {
    "collapsed": true
   },
   "outputs": [],
   "source": [
    "#общие библиотеки работы с данными\n",
    "import numpy as np\n",
    "import pandas\n",
    "\n",
    "#визуализация\n",
    "import matplotlib.pyplot as plt\n",
    "%matplotlib inline\n",
    "\n",
    "from sklearn.cross_validation import cross_val_score\n",
    "from sklearn.cross_validation import KFold\n",
    "\n",
    "from sklearn.preprocessing import StandardScaler\n",
    "\n",
    "from sklearn.ensemble import GradientBoostingClassifier\n",
    "from sklearn.linear_model import LogisticRegression \n",
    "\n",
    "import time\n",
    "import datetime"
   ]
  },
  {
   "cell_type": "markdown",
   "metadata": {},
   "source": [
    "## Загрузка данных\n",
    " Данные для обучения и проверки находятся в файлах `features.csv` и `features_test.csv`. В качестве индексного поля используется индентификатор матча - `match_id`"
   ]
  },
  {
   "cell_type": "code",
   "execution_count": 2,
   "metadata": {
    "collapsed": false
   },
   "outputs": [
    {
     "data": {
      "text/plain": [
       "(97230, 108)"
      ]
     },
     "execution_count": 2,
     "metadata": {},
     "output_type": "execute_result"
    }
   ],
   "source": [
    "train = pandas.read_csv('features.csv',index_col='match_id')\n",
    "\n",
    "test = pandas.read_csv('features_test.csv',index_col='match_id')\n",
    "#test = pandas.read_csv('test_items_bag.csv',index_col='match_id')\n",
    "\n",
    "train.shape #Размер выборки для обучения"
   ]
  },
  {
   "cell_type": "code",
   "execution_count": 3,
   "metadata": {
    "collapsed": false
   },
   "outputs": [
    {
     "data": {
      "text/plain": [
       "(17177, 102)"
      ]
     },
     "execution_count": 3,
     "metadata": {},
     "output_type": "execute_result"
    }
   ],
   "source": [
    "test.shape #Размер выборки для предсказания"
   ]
  },
  {
   "cell_type": "code",
   "execution_count": 4,
   "metadata": {
    "collapsed": false
   },
   "outputs": [
    {
     "data": {
      "text/html": [
       "<div>\n",
       "<table border=\"1\" class=\"dataframe\">\n",
       "  <thead>\n",
       "    <tr style=\"text-align: right;\">\n",
       "      <th></th>\n",
       "      <th>start_time</th>\n",
       "      <th>lobby_type</th>\n",
       "      <th>r1_hero</th>\n",
       "      <th>r1_level</th>\n",
       "      <th>r1_xp</th>\n",
       "      <th>r1_gold</th>\n",
       "      <th>r1_lh</th>\n",
       "      <th>r1_kills</th>\n",
       "      <th>r1_deaths</th>\n",
       "      <th>r1_items</th>\n",
       "      <th>...</th>\n",
       "      <th>dire_boots_count</th>\n",
       "      <th>dire_ward_observer_count</th>\n",
       "      <th>dire_ward_sentry_count</th>\n",
       "      <th>dire_first_ward_time</th>\n",
       "      <th>duration</th>\n",
       "      <th>radiant_win</th>\n",
       "      <th>tower_status_radiant</th>\n",
       "      <th>tower_status_dire</th>\n",
       "      <th>barracks_status_radiant</th>\n",
       "      <th>barracks_status_dire</th>\n",
       "    </tr>\n",
       "    <tr>\n",
       "      <th>match_id</th>\n",
       "      <th></th>\n",
       "      <th></th>\n",
       "      <th></th>\n",
       "      <th></th>\n",
       "      <th></th>\n",
       "      <th></th>\n",
       "      <th></th>\n",
       "      <th></th>\n",
       "      <th></th>\n",
       "      <th></th>\n",
       "      <th></th>\n",
       "      <th></th>\n",
       "      <th></th>\n",
       "      <th></th>\n",
       "      <th></th>\n",
       "      <th></th>\n",
       "      <th></th>\n",
       "      <th></th>\n",
       "      <th></th>\n",
       "      <th></th>\n",
       "      <th></th>\n",
       "    </tr>\n",
       "  </thead>\n",
       "  <tbody>\n",
       "    <tr>\n",
       "      <th>0</th>\n",
       "      <td>1430198770</td>\n",
       "      <td>7</td>\n",
       "      <td>11</td>\n",
       "      <td>5</td>\n",
       "      <td>2098</td>\n",
       "      <td>1489</td>\n",
       "      <td>20</td>\n",
       "      <td>0</td>\n",
       "      <td>0</td>\n",
       "      <td>7</td>\n",
       "      <td>...</td>\n",
       "      <td>4</td>\n",
       "      <td>2</td>\n",
       "      <td>2</td>\n",
       "      <td>-52</td>\n",
       "      <td>2874</td>\n",
       "      <td>1</td>\n",
       "      <td>1796</td>\n",
       "      <td>0</td>\n",
       "      <td>51</td>\n",
       "      <td>0</td>\n",
       "    </tr>\n",
       "    <tr>\n",
       "      <th>1</th>\n",
       "      <td>1430220345</td>\n",
       "      <td>0</td>\n",
       "      <td>42</td>\n",
       "      <td>4</td>\n",
       "      <td>1188</td>\n",
       "      <td>1033</td>\n",
       "      <td>9</td>\n",
       "      <td>0</td>\n",
       "      <td>1</td>\n",
       "      <td>12</td>\n",
       "      <td>...</td>\n",
       "      <td>4</td>\n",
       "      <td>3</td>\n",
       "      <td>1</td>\n",
       "      <td>-5</td>\n",
       "      <td>2463</td>\n",
       "      <td>1</td>\n",
       "      <td>1974</td>\n",
       "      <td>0</td>\n",
       "      <td>63</td>\n",
       "      <td>1</td>\n",
       "    </tr>\n",
       "    <tr>\n",
       "      <th>2</th>\n",
       "      <td>1430227081</td>\n",
       "      <td>7</td>\n",
       "      <td>33</td>\n",
       "      <td>4</td>\n",
       "      <td>1319</td>\n",
       "      <td>1270</td>\n",
       "      <td>22</td>\n",
       "      <td>0</td>\n",
       "      <td>0</td>\n",
       "      <td>12</td>\n",
       "      <td>...</td>\n",
       "      <td>4</td>\n",
       "      <td>3</td>\n",
       "      <td>1</td>\n",
       "      <td>13</td>\n",
       "      <td>2130</td>\n",
       "      <td>0</td>\n",
       "      <td>0</td>\n",
       "      <td>1830</td>\n",
       "      <td>0</td>\n",
       "      <td>63</td>\n",
       "    </tr>\n",
       "    <tr>\n",
       "      <th>3</th>\n",
       "      <td>1430263531</td>\n",
       "      <td>1</td>\n",
       "      <td>29</td>\n",
       "      <td>4</td>\n",
       "      <td>1779</td>\n",
       "      <td>1056</td>\n",
       "      <td>14</td>\n",
       "      <td>0</td>\n",
       "      <td>0</td>\n",
       "      <td>5</td>\n",
       "      <td>...</td>\n",
       "      <td>4</td>\n",
       "      <td>2</td>\n",
       "      <td>0</td>\n",
       "      <td>27</td>\n",
       "      <td>1459</td>\n",
       "      <td>0</td>\n",
       "      <td>1920</td>\n",
       "      <td>2047</td>\n",
       "      <td>50</td>\n",
       "      <td>63</td>\n",
       "    </tr>\n",
       "    <tr>\n",
       "      <th>4</th>\n",
       "      <td>1430282290</td>\n",
       "      <td>7</td>\n",
       "      <td>13</td>\n",
       "      <td>4</td>\n",
       "      <td>1431</td>\n",
       "      <td>1090</td>\n",
       "      <td>8</td>\n",
       "      <td>1</td>\n",
       "      <td>0</td>\n",
       "      <td>8</td>\n",
       "      <td>...</td>\n",
       "      <td>3</td>\n",
       "      <td>3</td>\n",
       "      <td>0</td>\n",
       "      <td>-16</td>\n",
       "      <td>2449</td>\n",
       "      <td>0</td>\n",
       "      <td>4</td>\n",
       "      <td>1974</td>\n",
       "      <td>3</td>\n",
       "      <td>63</td>\n",
       "    </tr>\n",
       "  </tbody>\n",
       "</table>\n",
       "<p>5 rows × 108 columns</p>\n",
       "</div>"
      ],
      "text/plain": [
       "          start_time  lobby_type  r1_hero  r1_level  r1_xp  r1_gold  r1_lh  \\\n",
       "match_id                                                                     \n",
       "0         1430198770           7       11         5   2098     1489     20   \n",
       "1         1430220345           0       42         4   1188     1033      9   \n",
       "2         1430227081           7       33         4   1319     1270     22   \n",
       "3         1430263531           1       29         4   1779     1056     14   \n",
       "4         1430282290           7       13         4   1431     1090      8   \n",
       "\n",
       "          r1_kills  r1_deaths  r1_items          ...           \\\n",
       "match_id                                         ...            \n",
       "0                0          0         7          ...            \n",
       "1                0          1        12          ...            \n",
       "2                0          0        12          ...            \n",
       "3                0          0         5          ...            \n",
       "4                1          0         8          ...            \n",
       "\n",
       "          dire_boots_count  dire_ward_observer_count  dire_ward_sentry_count  \\\n",
       "match_id                                                                       \n",
       "0                        4                         2                       2   \n",
       "1                        4                         3                       1   \n",
       "2                        4                         3                       1   \n",
       "3                        4                         2                       0   \n",
       "4                        3                         3                       0   \n",
       "\n",
       "          dire_first_ward_time  duration  radiant_win  tower_status_radiant  \\\n",
       "match_id                                                                      \n",
       "0                          -52      2874            1                  1796   \n",
       "1                           -5      2463            1                  1974   \n",
       "2                           13      2130            0                     0   \n",
       "3                           27      1459            0                  1920   \n",
       "4                          -16      2449            0                     4   \n",
       "\n",
       "          tower_status_dire  barracks_status_radiant  barracks_status_dire  \n",
       "match_id                                                                    \n",
       "0                         0                       51                     0  \n",
       "1                         0                       63                     1  \n",
       "2                      1830                        0                    63  \n",
       "3                      2047                       50                    63  \n",
       "4                      1974                        3                    63  \n",
       "\n",
       "[5 rows x 108 columns]"
      ]
     },
     "execution_count": 4,
     "metadata": {},
     "output_type": "execute_result"
    }
   ],
   "source": [
    "train.head()"
   ]
  },
  {
   "cell_type": "markdown",
   "metadata": {},
   "source": [
    "## Подготовка данных к обучению\n",
    "### Удаление колонок с итоговыми данными\n",
    "В исходной выборке присутствуют итоговые данные, название колонок с итоговыми данными объявлены в списке `resultColumns`"
   ]
  },
  {
   "cell_type": "code",
   "execution_count": 5,
   "metadata": {
    "collapsed": false
   },
   "outputs": [],
   "source": [
    "resultColumns = ['duration', 'radiant_win', 'tower_status_radiant',\n",
    "                 'tower_status_dire', 'barracks_status_radiant', 'barracks_status_dire']\n"
   ]
  },
  {
   "cell_type": "markdown",
   "metadata": {},
   "source": [
    "Создадим новую выборку, без колоной с результатами матча, с помощью фунции `filter`"
   ]
  },
  {
   "cell_type": "code",
   "execution_count": 6,
   "metadata": {
    "collapsed": false
   },
   "outputs": [],
   "source": [
    "trainReduced=train[filter(lambda x: x not in resultColumns, train.columns)]"
   ]
  },
  {
   "cell_type": "code",
   "execution_count": 7,
   "metadata": {
    "collapsed": false
   },
   "outputs": [
    {
     "data": {
      "text/plain": [
       "(97230, 102)"
      ]
     },
     "execution_count": 7,
     "metadata": {},
     "output_type": "execute_result"
    }
   ],
   "source": [
    "trainReduced.shape"
   ]
  },
  {
   "cell_type": "code",
   "execution_count": 8,
   "metadata": {
    "collapsed": false
   },
   "outputs": [
    {
     "data": {
      "text/plain": [
       "(17177, 102)"
      ]
     },
     "execution_count": 8,
     "metadata": {},
     "output_type": "execute_result"
    }
   ],
   "source": [
    "test.shape"
   ]
  },
  {
   "cell_type": "markdown",
   "metadata": {},
   "source": [
    "### Проверка данных на пропуски"
   ]
  },
  {
   "cell_type": "code",
   "execution_count": 9,
   "metadata": {
    "collapsed": false
   },
   "outputs": [],
   "source": [
    "colCounts = (97230 -  trainReduced.count())"
   ]
  },
  {
   "cell_type": "code",
   "execution_count": 10,
   "metadata": {
    "collapsed": false
   },
   "outputs": [
    {
     "data": {
      "text/plain": [
       "first_blood_time               19553\n",
       "first_blood_team               19553\n",
       "first_blood_player1            19553\n",
       "first_blood_player2            43987\n",
       "radiant_bottle_time            15691\n",
       "radiant_courier_time             692\n",
       "radiant_flying_courier_time    27479\n",
       "radiant_first_ward_time         1836\n",
       "dire_bottle_time               16143\n",
       "dire_courier_time                676\n",
       "dire_flying_courier_time       26098\n",
       "dire_first_ward_time            1826\n",
       "dtype: int64"
      ]
     },
     "execution_count": 10,
     "metadata": {},
     "output_type": "execute_result"
    }
   ],
   "source": [
    "colCounts[colCounts > 0]"
   ]
  },
  {
   "cell_type": "markdown",
   "metadata": {},
   "source": [
    "*Среди пропущенных данных, много полей которые относят к \"первой крови\"*. Это можно объяснить, тем что событие первая кровь не всегда наступает в первые 5 минут. Если первая кровь не наступила, то и другие данные связанные с этим событием отсуствуют.\n",
    "\n",
    "Тем же (отсуствием события в первые 5 мин), обхясняется отсуствие полей `radiant_` , `dire_`"
   ]
  },
  {
   "cell_type": "code",
   "execution_count": 11,
   "metadata": {
    "collapsed": false
   },
   "outputs": [
    {
     "data": {
      "text/plain": [
       "first_blood_time               3552\n",
       "first_blood_team               3552\n",
       "first_blood_player1            3552\n",
       "first_blood_player2            7766\n",
       "radiant_bottle_time            2895\n",
       "radiant_courier_time            127\n",
       "radiant_flying_courier_time    4885\n",
       "radiant_first_ward_time         330\n",
       "dire_bottle_time               2842\n",
       "dire_courier_time               130\n",
       "dire_flying_courier_time       4524\n",
       "dire_first_ward_time            263\n",
       "dtype: int64"
      ]
     },
     "execution_count": 11,
     "metadata": {},
     "output_type": "execute_result"
    }
   ],
   "source": [
    "colCountsTest = (17177 -  test.count())\n",
    "colCountsTest[colCountsTest > 0]"
   ]
  },
  {
   "cell_type": "markdown",
   "metadata": {},
   "source": [
    "### Заполнение пропущенных данных\n",
    "Пропущенные данные заполняются нулями."
   ]
  },
  {
   "cell_type": "code",
   "execution_count": 12,
   "metadata": {
    "collapsed": false
   },
   "outputs": [],
   "source": [
    "trainReduced=trainReduced.fillna(0)\n",
    "test = test.fillna(0)"
   ]
  },
  {
   "cell_type": "code",
   "execution_count": 13,
   "metadata": {
    "collapsed": false
   },
   "outputs": [
    {
     "data": {
      "text/plain": [
       "Series([], dtype: int64)"
      ]
     },
     "execution_count": 13,
     "metadata": {},
     "output_type": "execute_result"
    }
   ],
   "source": [
    "#Проверка пропусков после заполнения\n",
    "colCounts = (trainReduced.count() - 97230 )\n",
    "colCounts[colCounts < 0]"
   ]
  },
  {
   "cell_type": "code",
   "execution_count": 14,
   "metadata": {
    "collapsed": false
   },
   "outputs": [
    {
     "data": {
      "text/plain": [
       "Series([], dtype: int64)"
      ]
     },
     "execution_count": 14,
     "metadata": {},
     "output_type": "execute_result"
    }
   ],
   "source": [
    "#Проверка пропусков после заполнения для тестовых данных\n",
    "colCountsTest = (17177 -  test.count())\n",
    "colCountsTest[colCountsTest > 0]"
   ]
  },
  {
   "cell_type": "markdown",
   "metadata": {},
   "source": [
    "### Целевая переменная\n",
    "Целевая перемнная содержится в колонке `radiant_win`"
   ]
  },
  {
   "cell_type": "code",
   "execution_count": 15,
   "metadata": {
    "collapsed": false
   },
   "outputs": [
    {
     "data": {
      "text/plain": [
       "(97230,)"
      ]
     },
     "execution_count": 15,
     "metadata": {},
     "output_type": "execute_result"
    }
   ],
   "source": [
    "Y=train['radiant_win']\n",
    "Y.shape"
   ]
  },
  {
   "cell_type": "markdown",
   "metadata": {},
   "source": [
    "#### Модификация `GradientBoostingClassifier` и `LogisticRegression` для использования оценок с `predict_proba`\n"
   ]
  },
  {
   "cell_type": "code",
   "execution_count": 16,
   "metadata": {
    "collapsed": true
   },
   "outputs": [],
   "source": [
    "class GradientBoostingClassifier2(GradientBoostingClassifier):\n",
    "    def predict(X):\n",
    "        return GradientBoostingClassifier.predict_proba(self, X)\n",
    "    \n",
    "class LogisticRegression2(LogisticRegression):\n",
    "    def predict(X):\n",
    "        return LogisticRegression.predict_proba(self, X)"
   ]
  },
  {
   "cell_type": "markdown",
   "metadata": {},
   "source": [
    "## Подход 1.  градиентный бустинг \"в лоб\""
   ]
  },
  {
   "cell_type": "markdown",
   "metadata": {},
   "source": [
    "### Выбор параметров обучения\n",
    "Для подбора параметров обучения, проведем кросс валидацию для разного числа деревьев."
   ]
  },
  {
   "cell_type": "raw",
   "metadata": {
    "collapsed": false
   },
   "source": [
    "roc_auc1=[]\n",
    "numOfTrees=[]\n",
    "timesElapsed1=[]\n",
    "for i in range(10,40,5):\n",
    "    start_time = datetime.datetime.now()\n",
    "    scores = cross_val_score(GradientBoostingClassifier2(n_estimators=i,random_state=1),\n",
    "                            trainReduced, Y, cv=KFold(len(trainReduced),\n",
    "                            n_folds=5, shuffle=True, random_state=241),scoring='roc_auc')\n",
    "    timeElapsed = datetime.datetime.now() - start_time\n",
    "    timesElapsed1.append(timeElapsed)\n",
    "    roc_auc1.append(scores.mean())\n",
    "    numOfTrees.append(i)\n",
    "    print 'i %d  score %f, time elapsed:%s' % (i, scores.mean(),timeElapsed)\n",
    "    "
   ]
  },
  {
   "cell_type": "code",
   "execution_count": 17,
   "metadata": {
    "collapsed": false
   },
   "outputs": [
    {
     "data": {
      "text/plain": [
       "(97230, 102)"
      ]
     },
     "execution_count": 17,
     "metadata": {},
     "output_type": "execute_result"
    }
   ],
   "source": [
    "trainReduced.shape"
   ]
  },
  {
   "cell_type": "code",
   "execution_count": 18,
   "metadata": {
    "collapsed": true
   },
   "outputs": [],
   "source": [
    "trainRSample=trainReduced.sample(n=10000)"
   ]
  },
  {
   "cell_type": "code",
   "execution_count": 19,
   "metadata": {
    "collapsed": false
   },
   "outputs": [
    {
     "data": {
      "text/plain": [
       "(10000, 102)"
      ]
     },
     "execution_count": 19,
     "metadata": {},
     "output_type": "execute_result"
    }
   ],
   "source": [
    "trainRSample.shape"
   ]
  },
  {
   "cell_type": "code",
   "execution_count": 20,
   "metadata": {
    "collapsed": false
   },
   "outputs": [
    {
     "data": {
      "text/plain": [
       "Int64Index([ 46355,  58109,  87306,  99282,  73245,  97237,  49527, 104399,\n",
       "             28609,  24673,\n",
       "            ...\n",
       "             23503,  42826,  38027,  13351,  97547,  70076,  23257,  43413,\n",
       "             25014,  29944],\n",
       "           dtype='int64', name=u'match_id', length=10000)"
      ]
     },
     "execution_count": 20,
     "metadata": {},
     "output_type": "execute_result"
    }
   ],
   "source": [
    "trainRSample.index"
   ]
  },
  {
   "cell_type": "code",
   "execution_count": 21,
   "metadata": {
    "collapsed": false
   },
   "outputs": [],
   "source": [
    "YSample=Y.ix[trainRSample.index]"
   ]
  },
  {
   "cell_type": "code",
   "execution_count": 22,
   "metadata": {
    "collapsed": false
   },
   "outputs": [
    {
     "data": {
      "text/plain": [
       "(10000,)"
      ]
     },
     "execution_count": 22,
     "metadata": {},
     "output_type": "execute_result"
    }
   ],
   "source": [
    "YSample.shape"
   ]
  },
  {
   "cell_type": "raw",
   "metadata": {},
   "source": [
    "roc_auc1=[]\n",
    "numOfTrees=[]\n",
    "timesElapsed1=[]\n",
    "for i in range(10,200,30):\n",
    "    start_time = datetime.datetime.now()\n",
    "    scores = cross_val_score(GradientBoostingClassifier2(n_estimators=i,random_state=1,max_depth=7),\n",
    "                            trainRSample, YSample, cv=KFold(len(trainRSample),\n",
    "                            n_folds=5, shuffle=True, random_state=241),scoring='roc_auc')\n",
    "    timeElapsed = datetime.datetime.now() - start_time\n",
    "    timesElapsed1.append(timeElapsed)\n",
    "    roc_auc1.append(scores.mean())\n",
    "    numOfTrees.append(i)\n",
    "    print 'i %d  score %f, time elapsed:%s' % (i, scores.mean(),timeElapsed)\n",
    "    "
   ]
  },
  {
   "cell_type": "code",
   "execution_count": 23,
   "metadata": {
    "collapsed": false
   },
   "outputs": [],
   "source": [
    "#from sklearn.neural_network import MLPClassifier"
   ]
  },
  {
   "cell_type": "markdown",
   "metadata": {},
   "source": [
    "### Улучшение качества при изменении кол-ва деревьев"
   ]
  },
  {
   "cell_type": "code",
   "execution_count": 24,
   "metadata": {
    "collapsed": false
   },
   "outputs": [],
   "source": [
    "def plotAll(roc_auc,time_elapsed,par):\n",
    "    timesElapsed1Sec = [ x.total_seconds() for x in time_elapsed ]\n",
    "    fig=plt.figure()\n",
    "    ax1 = fig.add_subplot(111)\n",
    "    ax1.plot(par,roc_auc, 'ro-')\n",
    "    #ax1.set_xlabel('number of trees')\n",
    "    ax1.set_ylabel('ROC AUC value')\n",
    "    ax2 = ax1.twinx()\n",
    "    ax2.plot(par,timesElapsed1Sec, 'g.-')\n",
    "    ax2.set_ylabel('Elapsed time, s')\n",
    "    plt.show"
   ]
  },
  {
   "cell_type": "markdown",
   "metadata": {
    "collapsed": false
   },
   "source": [
    "plotAll(roc_auc1,timesElapsed1,numOfTrees)"
   ]
  },
  {
   "cell_type": "markdown",
   "metadata": {},
   "source": [
    "Как видно из графика, рост сткорости качества ROC AUC замедляется, а время необходимое для вычислений растет.\n",
    "Однако, рост качества при увеличении количества деревьев продалажается."
   ]
  },
  {
   "cell_type": "markdown",
   "metadata": {},
   "source": [
    "## Подход 2. логистическая регрессия\n"
   ]
  },
  {
   "cell_type": "markdown",
   "metadata": {},
   "source": [
    "### Масштабирование признаков"
   ]
  },
  {
   "cell_type": "code",
   "execution_count": 25,
   "metadata": {
    "collapsed": true
   },
   "outputs": [],
   "source": [
    "# Scale data\n",
    "standard_scaler = StandardScaler()\n",
    "Xtr_s = standard_scaler.fit_transform(trainReduced)\n",
    "#Xte_s = standard_scaler.transform(X_test)"
   ]
  },
  {
   "cell_type": "code",
   "execution_count": 26,
   "metadata": {
    "collapsed": false
   },
   "outputs": [],
   "source": [
    "def optimize_reg(X,Y, C_xrange):\n",
    "    roc_auc2=[]\n",
    "    Coeff2=[]\n",
    "    timesElapsed2=[]\n",
    "    for i in C_xrange:    \n",
    "        start_time = datetime.datetime.now()\n",
    "        scores = cross_val_score(LogisticRegression2(C=i,penalty='l2',random_state=1, n_jobs=-1),\n",
    "                            X, Y, cv=KFold(len(X),\n",
    "                            n_folds=5, shuffle=True, random_state=241),scoring='roc_auc')\n",
    "        timeElapsed = datetime.datetime.now() - start_time\n",
    "        timesElapsed2.append(timeElapsed)\n",
    "        roc_auc2.append(scores.mean())\n",
    "        Coeff2.append(i)\n",
    "        print 'i %f  score %f, time elapsed:%s' % (i, scores.mean(),timeElapsed)\n",
    "    return [roc_auc2,Coeff2,timesElapsed2]      "
   ]
  },
  {
   "cell_type": "markdown",
   "metadata": {
    "collapsed": false
   },
   "source": [
    "[roc_auc2,Coeff2,timesElapsed2] = optimize_reg(Xtr_s, Y, np.arange(0.001,0.01,0.001))"
   ]
  },
  {
   "cell_type": "markdown",
   "metadata": {
    "collapsed": false
   },
   "source": [
    "plotAll(roc_auc2,timesElapsed2,Coeff2)"
   ]
  },
  {
   "cell_type": "markdown",
   "metadata": {
    "collapsed": false
   },
   "source": [
    "### Исключение из выборки категориальных признаков"
   ]
  },
  {
   "cell_type": "code",
   "execution_count": 27,
   "metadata": {
    "collapsed": true
   },
   "outputs": [],
   "source": [
    "catFeatures = ['lobby_type', 'r1_hero','r2_hero','r3_hero','r4_hero',\n",
    "              'r5_hero','d1_hero','d2_hero','d3_hero','d4_hero','d5_hero']"
   ]
  },
  {
   "cell_type": "code",
   "execution_count": 28,
   "metadata": {
    "collapsed": false
   },
   "outputs": [
    {
     "data": {
      "text/plain": [
       "(97230, 91)"
      ]
     },
     "execution_count": 28,
     "metadata": {},
     "output_type": "execute_result"
    }
   ],
   "source": [
    "trainReduced2=trainReduced[filter(lambda x: x not in catFeatures, trainReduced.columns)]\n",
    "testReduced2=test[filter(lambda x: x not in catFeatures, test.columns)]\n",
    "\n",
    "standard_scaler2 = StandardScaler()\n",
    "Xtr_s2 = standard_scaler2.fit_transform(trainReduced2)\n",
    "Xts_s2 = standard_scaler2.transform(testReduced2)\n",
    "trainReduced2.shape"
   ]
  },
  {
   "cell_type": "code",
   "execution_count": 29,
   "metadata": {
    "collapsed": false
   },
   "outputs": [
    {
     "data": {
      "text/plain": [
       "(17177, 91)"
      ]
     },
     "execution_count": 29,
     "metadata": {},
     "output_type": "execute_result"
    }
   ],
   "source": [
    "testReduced2.shape"
   ]
  },
  {
   "cell_type": "markdown",
   "metadata": {
    "collapsed": false
   },
   "source": [
    "[roc_auc3,Coeff3,timesElapsed3] = optimize_reg(Xtr_s2, Y, np.arange(0.001,0.01,0.001))"
   ]
  },
  {
   "cell_type": "markdown",
   "metadata": {
    "collapsed": false
   },
   "source": [
    "plotAll(roc_auc3,timesElapsed3,Coeff3)"
   ]
  },
  {
   "cell_type": "markdown",
   "metadata": {},
   "source": [
    "### Результат исключения категориальных признаков\n",
    "После исключения категориальных признаков, результат стал лучше, ROC AUC был: \n",
    "\n",
    "|#|До исключения|После|\n",
    "|---|---|---|\n",
    "|ROC_AUC|0.716360|0.716414|"
   ]
  },
  {
   "cell_type": "markdown",
   "metadata": {},
   "source": [
    "### Формирование \"мешка слов\""
   ]
  },
  {
   "cell_type": "code",
   "execution_count": 30,
   "metadata": {
    "collapsed": false
   },
   "outputs": [],
   "source": [
    "catFeatures2 = ['r1_hero','r2_hero','r3_hero','r4_hero',\n",
    "              'r5_hero','d1_hero','d2_hero','d3_hero','d4_hero','d5_hero']"
   ]
  },
  {
   "cell_type": "markdown",
   "metadata": {},
   "source": [
    "Найдем количество уникальных героев"
   ]
  },
  {
   "cell_type": "code",
   "execution_count": 31,
   "metadata": {
    "collapsed": false
   },
   "outputs": [
    {
     "data": {
      "text/plain": [
       "array([ 11,  67,  29,  20, 105,   4,  42,  21,  37,  84,  49,  26,  39,\n",
       "        88,  79,   7,  12,  33,  98,  27,  22,  66,  86,  80,  30,  75,\n",
       "        41,  96,  48,  15, 102,  13,  72,  93,  69,  25,   8,  28,  65,\n",
       "        55,  52,   3,  73,  57,  36, 101,  47,  35,  83, 100,  44,  17,\n",
       "        91,  53,  90,  19,  74,  76,  99,   1,  94,  82,  60, 112,  31,\n",
       "        85,  61,  70,  68,  51,   2,  50,  71,  23,  77,  16,  63,  92,\n",
       "        81,  18,  59,  95,  64,  58,  43, 104,  40,  87,  10,  14, 110,\n",
       "        38,  46,  54,  97,  89,   5,  62,   6,  78, 106,  34,  56, 103,\n",
       "       109,  45,   9,  32])"
      ]
     },
     "execution_count": 31,
     "metadata": {},
     "output_type": "execute_result"
    }
   ],
   "source": [
    "heros = pandas.Series(trainReduced[catFeatures2].values.ravel()).unique()\n",
    "heros"
   ]
  },
  {
   "cell_type": "code",
   "execution_count": 32,
   "metadata": {
    "collapsed": false
   },
   "outputs": [
    {
     "data": {
      "text/plain": [
       "108"
      ]
     },
     "execution_count": 32,
     "metadata": {},
     "output_type": "execute_result"
    }
   ],
   "source": [
    "S=heros.shape\n",
    "N=S[0]\n",
    "N"
   ]
  },
  {
   "cell_type": "code",
   "execution_count": 33,
   "metadata": {
    "collapsed": false
   },
   "outputs": [
    {
     "data": {
      "text/plain": [
       "112"
      ]
     },
     "execution_count": 33,
     "metadata": {},
     "output_type": "execute_result"
    }
   ],
   "source": [
    "\n",
    "max(heros)"
   ]
  },
  {
   "cell_type": "code",
   "execution_count": 34,
   "metadata": {
    "collapsed": false
   },
   "outputs": [
    {
     "data": {
      "text/plain": [
       "112"
      ]
     },
     "execution_count": 34,
     "metadata": {},
     "output_type": "execute_result"
    }
   ],
   "source": [
    "herosTest = pandas.Series(test[catFeatures2].values.ravel()).unique()\n",
    "max(herosTest)"
   ]
  },
  {
   "cell_type": "markdown",
   "metadata": {},
   "source": [
    "Проверим, совпадают ли списки герои в тренировочной и тестовой выборке"
   ]
  },
  {
   "cell_type": "code",
   "execution_count": 35,
   "metadata": {
    "collapsed": false
   },
   "outputs": [
    {
     "data": {
      "text/plain": [
       "[]"
      ]
     },
     "execution_count": 35,
     "metadata": {},
     "output_type": "execute_result"
    }
   ],
   "source": [
    "list(set(heros) - set(herosTest))"
   ]
  },
  {
   "cell_type": "code",
   "execution_count": 36,
   "metadata": {
    "collapsed": false
   },
   "outputs": [
    {
     "data": {
      "text/plain": [
       "[]"
      ]
     },
     "execution_count": 36,
     "metadata": {},
     "output_type": "execute_result"
    }
   ],
   "source": [
    "list(set(herosTest) - set(heros))"
   ]
  },
  {
   "cell_type": "code",
   "execution_count": 37,
   "metadata": {
    "collapsed": false
   },
   "outputs": [],
   "source": [
    "## Функция формирования мешка слов из задания\n",
    "def gen_bag(data,maxHeros):\n",
    "    X_pick = np.zeros((data.shape[0], maxHeros+1))\n",
    "    X_pick_columns = [];\n",
    "\n",
    "    for i, match_id in enumerate(data.index):\n",
    "        for p in xrange(5):\n",
    "            X_pick[i, data.ix[match_id, 'r%d_hero' % (p+1)]] = 1\n",
    "            X_pick[i, data.ix[match_id, 'd%d_hero' % (p+1)]] = -1\n",
    "    return X_pick"
   ]
  },
  {
   "cell_type": "code",
   "execution_count": 38,
   "metadata": {
    "collapsed": false
   },
   "outputs": [],
   "source": [
    "#Сформируем матрицы со словами\n",
    "X_pick = gen_bag(trainReduced, max(heros))\n",
    "X_pick_test = gen_bag(test,max(heros))"
   ]
  },
  {
   "cell_type": "code",
   "execution_count": 39,
   "metadata": {
    "collapsed": true
   },
   "outputs": [],
   "source": [
    "X_pick_columns =[]\n",
    "for i in range(1,114):\n",
    "    X_pick_columns.append('r%d_hero' % i)"
   ]
  },
  {
   "cell_type": "code",
   "execution_count": 40,
   "metadata": {
    "collapsed": false
   },
   "outputs": [
    {
     "data": {
      "text/plain": [
       "113"
      ]
     },
     "execution_count": 40,
     "metadata": {},
     "output_type": "execute_result"
    }
   ],
   "source": [
    "len(X_pick_columns)"
   ]
  },
  {
   "cell_type": "code",
   "execution_count": 41,
   "metadata": {
    "collapsed": false
   },
   "outputs": [
    {
     "data": {
      "text/plain": [
       "(17177, 113)"
      ]
     },
     "execution_count": 41,
     "metadata": {},
     "output_type": "execute_result"
    }
   ],
   "source": [
    "X_pick_test.shape"
   ]
  },
  {
   "cell_type": "code",
   "execution_count": 42,
   "metadata": {
    "collapsed": false
   },
   "outputs": [
    {
     "data": {
      "text/plain": [
       "(97230, 113)"
      ]
     },
     "execution_count": 42,
     "metadata": {},
     "output_type": "execute_result"
    }
   ],
   "source": [
    "X_pick.shape"
   ]
  },
  {
   "cell_type": "code",
   "execution_count": 43,
   "metadata": {
    "collapsed": false
   },
   "outputs": [
    {
     "data": {
      "text/plain": [
       "(17177, 91)"
      ]
     },
     "execution_count": 43,
     "metadata": {},
     "output_type": "execute_result"
    }
   ],
   "source": [
    "Xts_s2.shape"
   ]
  },
  {
   "cell_type": "markdown",
   "metadata": {},
   "source": [
    "### Приклеиваем категориальные признаки героев"
   ]
  },
  {
   "cell_type": "code",
   "execution_count": 44,
   "metadata": {
    "collapsed": false
   },
   "outputs": [],
   "source": [
    "#Склеиваем матрицу с масшатбированной матрицей без категориальных признаков\n",
    "X_concat = np.hstack((trainReduced2,X_pick))\n",
    "X_concat_test = np.hstack((testReduced2,X_pick_test))"
   ]
  },
  {
   "cell_type": "code",
   "execution_count": 45,
   "metadata": {
    "collapsed": false
   },
   "outputs": [
    {
     "data": {
      "text/plain": [
       "(97230, 204)"
      ]
     },
     "execution_count": 45,
     "metadata": {},
     "output_type": "execute_result"
    }
   ],
   "source": [
    "X_concat.shape"
   ]
  },
  {
   "cell_type": "markdown",
   "metadata": {
    "collapsed": false
   },
   "source": [
    "X_concat_test.shape"
   ]
  },
  {
   "cell_type": "markdown",
   "metadata": {
    "collapsed": false
   },
   "source": [
    "[roc_auc4,Coeff4,timesElapsed4] = optimize_reg(X_concat, Y, np.arange(0.005,0.1,0.005))"
   ]
  },
  {
   "cell_type": "markdown",
   "metadata": {
    "collapsed": false
   },
   "source": [
    "plotAll(roc_auc4,timesElapsed4,Coeff4)"
   ]
  },
  {
   "cell_type": "markdown",
   "metadata": {
    "collapsed": false
   },
   "source": [
    "max(roc_auc4)"
   ]
  },
  {
   "cell_type": "markdown",
   "metadata": {
    "collapsed": false
   },
   "source": [
    "C_opt = Coeff4[roc_auc4.index(max(roc_auc4))]\n",
    "C_opt\n",
    "#0.049999999999999996"
   ]
  },
  {
   "cell_type": "markdown",
   "metadata": {},
   "source": [
    "### Оптимальная модель\n",
    "\n",
    "Как видно из результата кросс-валидации качество модели улучшилось. \n",
    "\n",
    "|Метод| ROC_AUC|\n",
    "|---|---|---|\n",
    "| только масштабированная|0.716360|\n",
    "|+ без категориальных признаков|0.716414|\n",
    "|+ \"мешок слов\"|0.751944|\n",
    "|+ \"мешок слов комната\"|0.752097|\n",
    "|+ \"нелиненые параметры\"|0.7524|\n",
    "\n"
   ]
  },
  {
   "cell_type": "markdown",
   "metadata": {},
   "source": [
    "#### Максимальное и минимальное качество на тестовой модели"
   ]
  },
  {
   "cell_type": "raw",
   "metadata": {
    "collapsed": false
   },
   "source": [
    "scores = cross_val_score(LogisticRegression2(C=C_opt,penalty='l2',random_state=1, n_jobs=-1),\n",
    "                            X_concat, Y, cv=KFold(len(X_concat),\n",
    "                            n_folds=5, shuffle=True, random_state=241),scoring='roc_auc')"
   ]
  },
  {
   "cell_type": "raw",
   "metadata": {
    "collapsed": false
   },
   "source": [
    "scores.mean()"
   ]
  },
  {
   "cell_type": "raw",
   "metadata": {
    "collapsed": false
   },
   "source": [
    "scores.max()"
   ]
  },
  {
   "cell_type": "raw",
   "metadata": {
    "collapsed": false
   },
   "source": [
    "scores.min()"
   ]
  },
  {
   "cell_type": "raw",
   "metadata": {
    "collapsed": false
   },
   "source": [
    "(scores.max()-scores.min())/scores.max()*100"
   ]
  },
  {
   "cell_type": "markdown",
   "metadata": {},
   "source": [
    "Таким образом, разница между минимальным и максимальным качеством на тестовой выборке для оптимального алгоритма 0.7%"
   ]
  },
  {
   "cell_type": "raw",
   "metadata": {
    "collapsed": false
   },
   "source": [
    "trainReduced['lobby_type'].value_counts()"
   ]
  },
  {
   "cell_type": "code",
   "execution_count": 46,
   "metadata": {
    "collapsed": false
   },
   "outputs": [
    {
     "data": {
      "text/plain": [
       "1    9857\n",
       "7    5029\n",
       "0    2291\n",
       "Name: lobby_type, dtype: int64"
      ]
     },
     "execution_count": 46,
     "metadata": {},
     "output_type": "execute_result"
    }
   ],
   "source": [
    "test['lobby_type'].value_counts()"
   ]
  },
  {
   "cell_type": "code",
   "execution_count": 47,
   "metadata": {
    "collapsed": true
   },
   "outputs": [],
   "source": [
    "## Функция формирования мешка слов из задания\n",
    "def gen_bag2(data,maxLobbies):\n",
    "    X_pick = np.zeros((data.shape[0], maxLobbies+1))\n",
    "\n",
    "    for i, match_id in enumerate(data.index):\n",
    "        for p in xrange(3):\n",
    "            X_pick[i, data.ix[match_id, 'lobby_type']] = 1\n",
    "    return X_pick"
   ]
  },
  {
   "cell_type": "code",
   "execution_count": 48,
   "metadata": {
    "collapsed": false
   },
   "outputs": [],
   "source": [
    "X_pick2 = gen_bag2(trainReduced,7)\n",
    "X_pick2_test = gen_bag2(test,7)"
   ]
  },
  {
   "cell_type": "raw",
   "metadata": {},
   "source": [
    "X_pick2_columns =[]\n",
    "for i in range(1,9):\n",
    "    X_pick2_columns.append('lobby_type%d' % i)"
   ]
  },
  {
   "cell_type": "raw",
   "metadata": {},
   "source": [
    "len(X_pick2_columns)"
   ]
  },
  {
   "cell_type": "code",
   "execution_count": 49,
   "metadata": {
    "collapsed": false
   },
   "outputs": [
    {
     "data": {
      "text/plain": [
       "(97230, 8)"
      ]
     },
     "execution_count": 49,
     "metadata": {},
     "output_type": "execute_result"
    }
   ],
   "source": [
    "X_pick2.shape"
   ]
  },
  {
   "cell_type": "raw",
   "metadata": {
    "collapsed": false
   },
   "source": [
    "X_pick2[:,7].max()"
   ]
  },
  {
   "cell_type": "raw",
   "metadata": {
    "collapsed": false
   },
   "source": [
    "type(X_pick2)"
   ]
  },
  {
   "cell_type": "code",
   "execution_count": 50,
   "metadata": {
    "collapsed": false
   },
   "outputs": [],
   "source": [
    "X_pick3 = np.delete(X_pick2,[2,3,4,5,6],1)\n",
    "X_pick3_test = np.delete(X_pick2_test,[2,3,4,5,6],1)"
   ]
  },
  {
   "cell_type": "code",
   "execution_count": 51,
   "metadata": {
    "collapsed": false
   },
   "outputs": [
    {
     "data": {
      "text/plain": [
       "(97230, 3)"
      ]
     },
     "execution_count": 51,
     "metadata": {},
     "output_type": "execute_result"
    }
   ],
   "source": [
    "X_pick3.shape"
   ]
  },
  {
   "cell_type": "code",
   "execution_count": 52,
   "metadata": {
    "collapsed": true
   },
   "outputs": [],
   "source": [
    "X_pick2_columns = ['lobby_type_0', 'lobby_type_1', 'lobby_type_7']"
   ]
  },
  {
   "cell_type": "raw",
   "metadata": {
    "collapsed": false
   },
   "source": [
    "X_pick3[:,2].max()"
   ]
  },
  {
   "cell_type": "markdown",
   "metadata": {},
   "source": [
    "###  Приклеиваем тип комнаты"
   ]
  },
  {
   "cell_type": "code",
   "execution_count": 53,
   "metadata": {
    "collapsed": true
   },
   "outputs": [],
   "source": [
    "X_concat = np.hstack((X_concat,X_pick3))\n",
    "X_concat_test = np.hstack((X_concat_test,X_pick3_test))"
   ]
  },
  {
   "cell_type": "code",
   "execution_count": 54,
   "metadata": {
    "collapsed": false
   },
   "outputs": [],
   "source": [
    "scores2 = cross_val_score(LogisticRegression2(C=0.049999999999999996,penalty='l2',random_state=1, n_jobs=-1),\n",
    "                            X_concat, Y, cv=KFold(len(X_concat),\n",
    "                            n_folds=5, shuffle=True, random_state=241),scoring='roc_auc')"
   ]
  },
  {
   "cell_type": "code",
   "execution_count": 55,
   "metadata": {
    "collapsed": false
   },
   "outputs": [
    {
     "data": {
      "text/plain": [
       "0.516677350142284"
      ]
     },
     "execution_count": 55,
     "metadata": {},
     "output_type": "execute_result"
    }
   ],
   "source": [
    "scores2.max()"
   ]
  },
  {
   "cell_type": "raw",
   "metadata": {
    "collapsed": false
   },
   "source": [
    "[roc_auc5,Coeff5,timesElapsed5] = optimize_reg(X_concat, Y, np.arange(0.005,0.1,0.005))"
   ]
  },
  {
   "cell_type": "raw",
   "metadata": {
    "collapsed": false
   },
   "source": [
    "C_opt2 = Coeff4[roc_auc5.index(max(roc_auc5))]\n",
    "C_opt2\n",
    "# 0.049999999999999996"
   ]
  },
  {
   "cell_type": "markdown",
   "metadata": {},
   "source": [
    "## Предсказание на тестовых данных"
   ]
  },
  {
   "cell_type": "raw",
   "metadata": {
    "collapsed": true
   },
   "source": [
    "clf=LogisticRegression(C=0.05,penalty='l2',random_state=1, n_jobs=-1)"
   ]
  },
  {
   "cell_type": "raw",
   "metadata": {
    "collapsed": false
   },
   "source": [
    "clf.fit(X_concat,Y)"
   ]
  },
  {
   "cell_type": "markdown",
   "metadata": {
    "collapsed": false
   },
   "source": [
    "X_concat_test.shape"
   ]
  },
  {
   "cell_type": "markdown",
   "metadata": {
    "collapsed": false
   },
   "source": [
    "X_concat.shape"
   ]
  },
  {
   "cell_type": "markdown",
   "metadata": {
    "collapsed": false
   },
   "source": [
    "Y_pred = clf.predict_proba(X_concat_test)[:, 1]"
   ]
  },
  {
   "cell_type": "raw",
   "metadata": {
    "collapsed": false
   },
   "source": [
    "# Резльтирующие коэффициенты логистической регрессии\n",
    "plt.plot(clf.coef_[0],'ro-')"
   ]
  },
  {
   "cell_type": "raw",
   "metadata": {
    "collapsed": false
   },
   "source": [
    "Y_pred"
   ]
  },
  {
   "cell_type": "raw",
   "metadata": {
    "collapsed": false
   },
   "source": [
    "type(Y_pred)"
   ]
  },
  {
   "cell_type": "raw",
   "metadata": {
    "collapsed": false
   },
   "source": [
    "test['radiant_win'] = Y_pred"
   ]
  },
  {
   "cell_type": "raw",
   "metadata": {
    "collapsed": false
   },
   "source": [
    "test['radiant_win'].to_csv('prediction_result.csv')"
   ]
  },
  {
   "cell_type": "raw",
   "metadata": {
    "collapsed": false
   },
   "source": [
    "result = pandas.read_csv('prediction_result.csv', header=None)"
   ]
  },
  {
   "cell_type": "raw",
   "metadata": {
    "collapsed": false
   },
   "source": [
    "result.head()"
   ]
  },
  {
   "cell_type": "raw",
   "metadata": {
    "collapsed": false
   },
   "source": [
    "result[1].min()"
   ]
  },
  {
   "cell_type": "raw",
   "metadata": {
    "collapsed": false
   },
   "source": [
    "result[1].max()"
   ]
  },
  {
   "cell_type": "markdown",
   "metadata": {
    "collapsed": true
   },
   "source": [
    "### Предсказание с учетом комнаты"
   ]
  },
  {
   "cell_type": "code",
   "execution_count": 56,
   "metadata": {
    "collapsed": true
   },
   "outputs": [],
   "source": [
    "standard_scaler3 = StandardScaler()\n",
    "X_concat = standard_scaler2.fit_transform(X_concat)\n",
    "X_concat_test = standard_scaler2.transform(X_concat_test)"
   ]
  },
  {
   "cell_type": "code",
   "execution_count": 57,
   "metadata": {
    "collapsed": false
   },
   "outputs": [
    {
     "data": {
      "text/plain": [
       "LogisticRegression(C=0.005, class_weight=None, dual=False, fit_intercept=True,\n",
       "          intercept_scaling=1, max_iter=100, multi_class='ovr', n_jobs=-1,\n",
       "          penalty='l2', random_state=1, solver='liblinear', tol=0.0001,\n",
       "          verbose=0, warm_start=False)"
      ]
     },
     "execution_count": 57,
     "metadata": {},
     "output_type": "execute_result"
    }
   ],
   "source": [
    "clf2=LogisticRegression(C=0.005,penalty='l2',random_state=1, n_jobs=-1)\n",
    "clf2.fit(X_concat,Y)"
   ]
  },
  {
   "cell_type": "code",
   "execution_count": 58,
   "metadata": {
    "collapsed": false
   },
   "outputs": [
    {
     "data": {
      "text/plain": [
       "[<matplotlib.lines.Line2D at 0x7fd88ff2c150>]"
      ]
     },
     "execution_count": 58,
     "metadata": {},
     "output_type": "execute_result"
    },
    {
     "data": {
      "image/png": "[encoded data removed]",
      "text/plain": [
       "<matplotlib.figure.Figure at 0x7fd890cbd890>"
      ]
     },
     "metadata": {},
     "output_type": "display_data"
    }
   ],
   "source": [
    "# Резльтирующие коэффициенты логистической регрессии\n",
    "plt.plot(clf2.coef_[0],'ro-')"
   ]
  },
  {
   "cell_type": "markdown",
   "metadata": {},
   "source": [
    "## Анализируем какие из коэффициентов имеют больший вес"
   ]
  },
  {
   "cell_type": "code",
   "execution_count": 59,
   "metadata": {
    "collapsed": false
   },
   "outputs": [
    {
     "data": {
      "text/plain": [
       "(207,)"
      ]
     },
     "execution_count": 59,
     "metadata": {},
     "output_type": "execute_result"
    }
   ],
   "source": [
    "clf2.coef_[0].shape"
   ]
  },
  {
   "cell_type": "code",
   "execution_count": 60,
   "metadata": {
    "collapsed": false
   },
   "outputs": [],
   "source": [
    "allColumns = list(trainReduced2.columns.values) + X_pick_columns + X_pick2_columns"
   ]
  },
  {
   "cell_type": "code",
   "execution_count": 61,
   "metadata": {
    "collapsed": false
   },
   "outputs": [
    {
     "data": {
      "text/plain": [
       "207"
      ]
     },
     "execution_count": 61,
     "metadata": {},
     "output_type": "execute_result"
    }
   ],
   "source": [
    "len(allColumns)"
   ]
  },
  {
   "cell_type": "code",
   "execution_count": 62,
   "metadata": {
    "collapsed": false
   },
   "outputs": [
    {
     "data": {
      "text/html": [
       "\n",
       "\n",
       "<style>\n",
       "\n",
       "</style>\n",
       "\n",
       "<div id=\"fig_el26961405681012546082682948170\"></div>\n",
       "<script>\n",
       "function mpld3_load_lib(url, callback){\n",
       "  var s = document.createElement('script');\n",
       "  s.src = url;\n",
       "  s.async = true;\n",
       "  s.onreadystatechange = s.onload = callback;\n",
       "  s.onerror = function(){console.warn(\"failed to load library \" + url);};\n",
       "  document.getElementsByTagName(\"head\")[0].appendChild(s);\n",
       "}\n",
       "\n",
       "if(typeof(mpld3) !== \"undefined\" && mpld3._mpld3IsLoaded){\n",
       "   // already loaded: just create the figure\n",
       "   !function(mpld3){\n",
       "       \n",
       "       mpld3.draw_figure(\"fig_el26961405681012546082682948170\", {\"axes\": [{\"xlim\": [0.0, 250.0], \"yscale\": \"linear\", \"axesbg\": \"#EEEEEE\", \"texts\": [], \"zoomable\": true, \"images\": [], \"xdomain\": [0.0, 250.0], \"ylim\": [-0.30000000000000004, 0.30000000000000004], \"paths\": [], \"sharey\": [], \"sharex\": [], \"axesbgalpha\": null, \"axes\": [{\"scale\": \"linear\", \"tickformat\": null, \"grid\": {\"gridOn\": false}, \"fontsize\": 10.0, \"position\": \"bottom\", \"nticks\": 6, \"tickvalues\": null}, {\"scale\": \"linear\", \"tickformat\": null, \"grid\": {\"gridOn\": false}, \"fontsize\": 10.0, \"position\": \"left\", \"nticks\": 9, \"tickvalues\": null}], \"lines\": [{\"color\": \"#FF0000\", \"yindex\": 1, \"coordinates\": \"data\", \"dasharray\": \"10,0\", \"zorder\": 2, \"alpha\": 1, \"xindex\": 0, \"linewidth\": 1.0, \"data\": \"data01\", \"id\": \"el2696140568118811856\"}], \"markers\": [{\"edgecolor\": \"#000000\", \"facecolor\": \"#FF0000\", \"edgewidth\": 0.5, \"yindex\": 1, \"coordinates\": \"data\", \"zorder\": 2, \"markerpath\": [[[0.0, 3.0], [0.7956093000000001, 3.0], [1.5587396123545605, 2.683901074764725], [2.121320343559643, 2.121320343559643], [2.683901074764725, 1.5587396123545605], [3.0, 0.7956093000000001], [3.0, 0.0], [3.0, -0.7956093000000001], [2.683901074764725, -1.5587396123545605], [2.121320343559643, -2.121320343559643], [1.5587396123545605, -2.683901074764725], [0.7956093000000001, -3.0], [0.0, -3.0], [-0.7956093000000001, -3.0], [-1.5587396123545605, -2.683901074764725], [-2.121320343559643, -2.121320343559643], [-2.683901074764725, -1.5587396123545605], [-3.0, -0.7956093000000001], [-3.0, 0.0], [-3.0, 0.7956093000000001], [-2.683901074764725, 1.5587396123545605], [-2.121320343559643, 2.121320343559643], [-1.5587396123545605, 2.683901074764725], [-0.7956093000000001, 3.0], [0.0, 3.0]], [\"M\", \"C\", \"C\", \"C\", \"C\", \"C\", \"C\", \"C\", \"C\", \"Z\"]], \"alpha\": 1, \"xindex\": 0, \"data\": \"data01\", \"id\": \"el2696140568118811856pts\"}], \"id\": \"el2696140568101256720\", \"ydomain\": [-0.30000000000000004, 0.30000000000000004], \"collections\": [], \"xscale\": \"linear\", \"bbox\": [0.125, 0.125, 0.77500000000000002, 0.77500000000000002]}], \"height\": 320.0, \"width\": 480.0, \"plugins\": [{\"type\": \"reset\"}, {\"enabled\": false, \"button\": true, \"type\": \"zoom\"}, {\"enabled\": false, \"button\": true, \"type\": \"boxzoom\"}, {\"voffset\": 10, \"labels\": [\"start_time\", \"r1_level\", \"r1_xp\", \"r1_gold\", \"r1_lh\", \"r1_kills\", \"r1_deaths\", \"r1_items\", \"r2_level\", \"r2_xp\", \"r2_gold\", \"r2_lh\", \"r2_kills\", \"r2_deaths\", \"r2_items\", \"r3_level\", \"r3_xp\", \"r3_gold\", \"r3_lh\", \"r3_kills\", \"r3_deaths\", \"r3_items\", \"r4_level\", \"r4_xp\", \"r4_gold\", \"r4_lh\", \"r4_kills\", \"r4_deaths\", \"r4_items\", \"r5_level\", \"r5_xp\", \"r5_gold\", \"r5_lh\", \"r5_kills\", \"r5_deaths\", \"r5_items\", \"d1_level\", \"d1_xp\", \"d1_gold\", \"d1_lh\", \"d1_kills\", \"d1_deaths\", \"d1_items\", \"d2_level\", \"d2_xp\", \"d2_gold\", \"d2_lh\", \"d2_kills\", \"d2_deaths\", \"d2_items\", \"d3_level\", \"d3_xp\", \"d3_gold\", \"d3_lh\", \"d3_kills\", \"d3_deaths\", \"d3_items\", \"d4_level\", \"d4_xp\", \"d4_gold\", \"d4_lh\", \"d4_kills\", \"d4_deaths\", \"d4_items\", \"d5_level\", \"d5_xp\", \"d5_gold\", \"d5_lh\", \"d5_kills\", \"d5_deaths\", \"d5_items\", \"first_blood_time\", \"first_blood_team\", \"first_blood_player1\", \"first_blood_player2\", \"radiant_bottle_time\", \"radiant_courier_time\", \"radiant_flying_courier_time\", \"radiant_tpscroll_count\", \"radiant_boots_count\", \"radiant_ward_observer_count\", \"radiant_ward_sentry_count\", \"radiant_first_ward_time\", \"dire_bottle_time\", \"dire_courier_time\", \"dire_flying_courier_time\", \"dire_tpscroll_count\", \"dire_boots_count\", \"dire_ward_observer_count\", \"dire_ward_sentry_count\", \"dire_first_ward_time\", \"r1_hero\", \"r2_hero\", \"r3_hero\", \"r4_hero\", \"r5_hero\", \"r6_hero\", \"r7_hero\", \"r8_hero\", \"r9_hero\", \"r10_hero\", \"r11_hero\", \"r12_hero\", \"r13_hero\", \"r14_hero\", \"r15_hero\", \"r16_hero\", \"r17_hero\", \"r18_hero\", \"r19_hero\", \"r20_hero\", \"r21_hero\", \"r22_hero\", \"r23_hero\", \"r24_hero\", \"r25_hero\", \"r26_hero\", \"r27_hero\", \"r28_hero\", \"r29_hero\", \"r30_hero\", \"r31_hero\", \"r32_hero\", \"r33_hero\", \"r34_hero\", \"r35_hero\", \"r36_hero\", \"r37_hero\", \"r38_hero\", \"r39_hero\", \"r40_hero\", \"r41_hero\", \"r42_hero\", \"r43_hero\", \"r44_hero\", \"r45_hero\", \"r46_hero\", \"r47_hero\", \"r48_hero\", \"r49_hero\", \"r50_hero\", \"r51_hero\", \"r52_hero\", \"r53_hero\", \"r54_hero\", \"r55_hero\", \"r56_hero\", \"r57_hero\", \"r58_hero\", \"r59_hero\", \"r60_hero\", \"r61_hero\", \"r62_hero\", \"r63_hero\", \"r64_hero\", \"r65_hero\", \"r66_hero\", \"r67_hero\", \"r68_hero\", \"r69_hero\", \"r70_hero\", \"r71_hero\", \"r72_hero\", \"r73_hero\", \"r74_hero\", \"r75_hero\", \"r76_hero\", \"r77_hero\", \"r78_hero\", \"r79_hero\", \"r80_hero\", \"r81_hero\", \"r82_hero\", \"r83_hero\", \"r84_hero\", \"r85_hero\", \"r86_hero\", \"r87_hero\", \"r88_hero\", \"r89_hero\", \"r90_hero\", \"r91_hero\", \"r92_hero\", \"r93_hero\", \"r94_hero\", \"r95_hero\", \"r96_hero\", \"r97_hero\", \"r98_hero\", \"r99_hero\", \"r100_hero\", \"r101_hero\", \"r102_hero\", \"r103_hero\", \"r104_hero\", \"r105_hero\", \"r106_hero\", \"r107_hero\", \"r108_hero\", \"r109_hero\", \"r110_hero\", \"r111_hero\", \"r112_hero\", \"r113_hero\", \"lobby_type_0\", \"lobby_type_1\", \"lobby_type_7\"], \"hoffset\": 0, \"location\": \"mouse\", \"type\": \"tooltip\", \"id\": \"el2696140568118811856pts\"}], \"data\": {\"data01\": [[0.0, 0.04434526773715801], [1.0, 0.00031368539573230214], [2.0, 0.0881214654892514], [3.0, 0.1952039716574155], [4.0, 0.20356579163046745], [5.0, -0.015057543759404525], [6.0, -0.033147437700291486], [7.0, 0.03885908721594302], [8.0, 0.023423409827562858], [9.0, 0.07099383607115549], [10.0, 0.19242730591242957], [11.0, 0.21011356846730733], [12.0, -0.020172021083554648], [13.0, -0.03592521355405989], [14.0, 0.023854408389860582], [15.0, 0.009156654722882792], [16.0, 0.08470135422365789], [17.0, 0.1617927230658365], [18.0, 0.21310779248460068], [19.0, -0.016712054115350063], [20.0, -0.037816642562018], [21.0, 0.04579993430793115], [22.0, 0.014871756007665037], [23.0, 0.10036662219808189], [24.0, 0.16217380705188716], [25.0, 0.21320429282427875], [26.0, -0.019860266098183785], [27.0, -0.04423167054092045], [28.0, 0.03506301458422], [29.0, 0.04074039878780397], [30.0, 0.07840752666518515], [31.0, 0.1701808417604143], [32.0, 0.19725436496376733], [33.0, -0.02131555945552661], [34.0, -0.04287871917974667], [35.0, 0.049731606471849314], [36.0, -0.017515812545314247], [37.0, -0.0783908895893313], [38.0, -0.18774498946583584], [39.0, -0.2093816675577557], [40.0, 0.022540869127036626], [41.0, 0.04063596510989026], [42.0, -0.031591787378169554], [43.0, -0.010386593491209605], [44.0, -0.09137855623350795], [45.0, -0.19920317336540158], [46.0, -0.21140279964389058], [47.0, 0.024974292931394054], [48.0, 0.034408039454648105], [49.0, -0.04211248839161042], [50.0, -0.0028971681586984353], [51.0, -0.11369280464424351], [52.0, -0.13669703472914616], [53.0, -0.22755131970127696], [54.0, 0.006047759205860915], [55.0, 0.029645463686358415], [56.0, -0.041154735719724445], [57.0, -0.024378547440030283], [58.0, -0.07015021400164888], [59.0, -0.18193668560662038], [60.0, -0.21298636956589403], [61.0, 0.0200254802974236], [62.0, 0.0353991831099745], [63.0, -0.04358631908951941], [64.0, -0.002676498538319917], [65.0, -0.11111066728538858], [66.0, -0.1593594203503882], [67.0, -0.22078111089251412], [68.0, 0.008899785827634425], [69.0, 0.048501537672035154], [70.0, -0.04576790256337048], [71.0, 0.004614396550990048], [72.0, 0.004701457561899595], [73.0, -0.0026096455089122546], [74.0, -0.03994835564440743], [75.0, -0.004040796672453123], [76.0, -0.03136276391325785], [77.0, 0.03671382410093577], [78.0, -0.04323709730139952], [79.0, 0.02548578982749939], [80.0, -0.008421493056793405], [81.0, -0.0013482209147979661], [82.0, -0.04160042915574285], [83.0, 0.0051464747952569305], [84.0, 0.01967639542620876], [85.0, -0.01046586266991197], [86.0, 0.04172105255018676], [87.0, -0.018779698658115525], [88.0, 0.00781888043093597], [89.0, -0.006618835387104046], [90.0, 0.03295633632671959], [91.0, 0.0], [92.0, 0.03761027445388548], [93.0, -0.13622088942794855], [94.0, -0.06537456194652506], [95.0, -0.02110475447066249], [96.0, 0.026734273857000848], [97.0, 0.029848370052074743], [98.0, 0.139426900732017], [99.0, 0.05624996842612775], [100.0, -0.007975277522306418], [101.0, -0.008760616672128374], [102.0, 0.047658030196167836], [103.0, -0.021467458980984087], [104.0, -0.09473299579802405], [105.0, 0.008935678729757637], [106.0, -0.03508449600588794], [107.0, -0.00146325294948813], [108.0, -0.027441528416010174], [109.0, 0.01625973245134511], [110.0, 0.02256488251172928], [111.0, 0.008653154575602789], [112.0, -0.11411625851888858], [113.0, 0.07628385660351057], [114.0, -0.0011660665457999281], [115.0, 0.0], [116.0, -0.1550022603398335], [117.0, -0.07924880182839586], [118.0, -0.010124652712125221], [119.0, 0.09045727633255214], [120.0, -0.00682521026681741], [121.0, 0.019023114887581148], [122.0, 0.027142417488044395], [123.0, 0.046366264245994486], [124.0, -0.07229193035987205], [125.0, -0.02989138607633793], [126.0, -0.01907461171857886], [127.0, 0.022270397134145244], [128.0, 0.011174113248279431], [129.0, 0.030655942671099005], [130.0, -0.2146060578231865], [131.0, 0.03714803874386294], [132.0, -0.04446168779324445], [133.0, 0.10482831960753829], [134.0, -0.02504562785586077], [135.0, 0.00128066178005565], [136.0, -0.0015096033516444614], [137.0, -0.017194582065809854], [138.0, -0.11727936010127166], [139.0, 0.017225693869235052], [140.0, 0.031030629580444953], [141.0, -0.014743706792277064], [142.0, 0.020244025857577886], [143.0, 0.04949859695665608], [144.0, -0.036298957167045516], [145.0, -0.02751653148160491], [146.0, -0.07798641298963874], [147.0, -0.011059869031438503], [148.0, 0.1252287731552354], [149.0, -0.04040407410554968], [150.0, 0.012451377870360015], [151.0, 0.011298279161220951], [152.0, -0.05342804751256813], [153.0, 0.04893137031155099], [154.0, -0.022117621883236023], [155.0, -0.01740582808967065], [156.0, -0.013124084037420193], [157.0, -0.020251050002644995], [158.0, 0.16544419725067647], [159.0, -0.011154250985053809], [160.0, 0.0832078263840872], [161.0, 0.04967304391360482], [162.0, 0.12318389764420803], [163.0, 0.010799228411824824], [164.0, 0.051414284372136534], [165.0, -0.008590509940163717], [166.0, -0.023599819480780805], [167.0, -0.06326206268095282], [168.0, 0.033683777286717835], [169.0, -0.0017087213758050434], [170.0, -0.03283923314655126], [171.0, -0.012505213035174588], [172.0, 0.003300949761810418], [173.0, 0.035296561621183976], [174.0, 0.016123840939027228], [175.0, -0.008382448791772096], [176.0, 0.04638035491224528], [177.0, -0.0656954837799374], [178.0, -0.03568221571703649], [179.0, 0.005497111283608512], [180.0, -0.01202258498881999], [181.0, -0.009776317569690895], [182.0, 0.036195946978530444], [183.0, 0.022082386277074924], [184.0, 0.027240610933083886], [185.0, 0.03744860350566008], [186.0, -0.019772173279806435], [187.0, 0.011097601473824992], [188.0, -0.03488592248091415], [189.0, -0.022705658213736688], [190.0, -0.06678782318331415], [191.0, 0.05831486436433333], [192.0, -0.0802510998365847], [193.0, 0.06773578765861926], [194.0, 0.018952617936938174], [195.0, -0.04869486783630778], [196.0, -0.0004070606014293968], [197.0, 0.012672277514761325], [198.0, 0.0], [199.0, 0.0], [200.0, -0.006285880407519225], [201.0, 0.04418379725593357], [202.0, 0.0], [203.0, -0.003599809381262498], [204.0, -0.0354996653887285], [205.0, 0.028390815926553514], [206.0, -0.004528527799266339]]}, \"id\": \"el2696140568101254608\"});\n",
       "   }(mpld3);\n",
       "}else if(typeof define === \"function\" && define.amd){\n",
       "   // require.js is available: use it to load d3/mpld3\n",
       "   require.config({paths: {d3: \"https://mpld3.github.io/js/d3.v3.min\"}});\n",
       "   require([\"d3\"], function(d3){\n",
       "      window.d3 = d3;\n",
       "      mpld3_load_lib(\"https://mpld3.github.io/js/mpld3.v0.2.js\", function(){\n",
       "         \n",
       "         mpld3.draw_figure(\"fig_el26961405681012546082682948170\", {\"axes\": [{\"xlim\": [0.0, 250.0], \"yscale\": \"linear\", \"axesbg\": \"#EEEEEE\", \"texts\": [], \"zoomable\": true, \"images\": [], \"xdomain\": [0.0, 250.0], \"ylim\": [-0.30000000000000004, 0.30000000000000004], \"paths\": [], \"sharey\": [], \"sharex\": [], \"axesbgalpha\": null, \"axes\": [{\"scale\": \"linear\", \"tickformat\": null, \"grid\": {\"gridOn\": false}, \"fontsize\": 10.0, \"position\": \"bottom\", \"nticks\": 6, \"tickvalues\": null}, {\"scale\": \"linear\", \"tickformat\": null, \"grid\": {\"gridOn\": false}, \"fontsize\": 10.0, \"position\": \"left\", \"nticks\": 9, \"tickvalues\": null}], \"lines\": [{\"color\": \"#FF0000\", \"yindex\": 1, \"coordinates\": \"data\", \"dasharray\": \"10,0\", \"zorder\": 2, \"alpha\": 1, \"xindex\": 0, \"linewidth\": 1.0, \"data\": \"data01\", \"id\": \"el2696140568118811856\"}], \"markers\": [{\"edgecolor\": \"#000000\", \"facecolor\": \"#FF0000\", \"edgewidth\": 0.5, \"yindex\": 1, \"coordinates\": \"data\", \"zorder\": 2, \"markerpath\": [[[0.0, 3.0], [0.7956093000000001, 3.0], [1.5587396123545605, 2.683901074764725], [2.121320343559643, 2.121320343559643], [2.683901074764725, 1.5587396123545605], [3.0, 0.7956093000000001], [3.0, 0.0], [3.0, -0.7956093000000001], [2.683901074764725, -1.5587396123545605], [2.121320343559643, -2.121320343559643], [1.5587396123545605, -2.683901074764725], [0.7956093000000001, -3.0], [0.0, -3.0], [-0.7956093000000001, -3.0], [-1.5587396123545605, -2.683901074764725], [-2.121320343559643, -2.121320343559643], [-2.683901074764725, -1.5587396123545605], [-3.0, -0.7956093000000001], [-3.0, 0.0], [-3.0, 0.7956093000000001], [-2.683901074764725, 1.5587396123545605], [-2.121320343559643, 2.121320343559643], [-1.5587396123545605, 2.683901074764725], [-0.7956093000000001, 3.0], [0.0, 3.0]], [\"M\", \"C\", \"C\", \"C\", \"C\", \"C\", \"C\", \"C\", \"C\", \"Z\"]], \"alpha\": 1, \"xindex\": 0, \"data\": \"data01\", \"id\": \"el2696140568118811856pts\"}], \"id\": \"el2696140568101256720\", \"ydomain\": [-0.30000000000000004, 0.30000000000000004], \"collections\": [], \"xscale\": \"linear\", \"bbox\": [0.125, 0.125, 0.77500000000000002, 0.77500000000000002]}], \"height\": 320.0, \"width\": 480.0, \"plugins\": [{\"type\": \"reset\"}, {\"enabled\": false, \"button\": true, \"type\": \"zoom\"}, {\"enabled\": false, \"button\": true, \"type\": \"boxzoom\"}, {\"voffset\": 10, \"labels\": [\"start_time\", \"r1_level\", \"r1_xp\", \"r1_gold\", \"r1_lh\", \"r1_kills\", \"r1_deaths\", \"r1_items\", \"r2_level\", \"r2_xp\", \"r2_gold\", \"r2_lh\", \"r2_kills\", \"r2_deaths\", \"r2_items\", \"r3_level\", \"r3_xp\", \"r3_gold\", \"r3_lh\", \"r3_kills\", \"r3_deaths\", \"r3_items\", \"r4_level\", \"r4_xp\", \"r4_gold\", \"r4_lh\", \"r4_kills\", \"r4_deaths\", \"r4_items\", \"r5_level\", \"r5_xp\", \"r5_gold\", \"r5_lh\", \"r5_kills\", \"r5_deaths\", \"r5_items\", \"d1_level\", \"d1_xp\", \"d1_gold\", \"d1_lh\", \"d1_kills\", \"d1_deaths\", \"d1_items\", \"d2_level\", \"d2_xp\", \"d2_gold\", \"d2_lh\", \"d2_kills\", \"d2_deaths\", \"d2_items\", \"d3_level\", \"d3_xp\", \"d3_gold\", \"d3_lh\", \"d3_kills\", \"d3_deaths\", \"d3_items\", \"d4_level\", \"d4_xp\", \"d4_gold\", \"d4_lh\", \"d4_kills\", \"d4_deaths\", \"d4_items\", \"d5_level\", \"d5_xp\", \"d5_gold\", \"d5_lh\", \"d5_kills\", \"d5_deaths\", \"d5_items\", \"first_blood_time\", \"first_blood_team\", \"first_blood_player1\", \"first_blood_player2\", \"radiant_bottle_time\", \"radiant_courier_time\", \"radiant_flying_courier_time\", \"radiant_tpscroll_count\", \"radiant_boots_count\", \"radiant_ward_observer_count\", \"radiant_ward_sentry_count\", \"radiant_first_ward_time\", \"dire_bottle_time\", \"dire_courier_time\", \"dire_flying_courier_time\", \"dire_tpscroll_count\", \"dire_boots_count\", \"dire_ward_observer_count\", \"dire_ward_sentry_count\", \"dire_first_ward_time\", \"r1_hero\", \"r2_hero\", \"r3_hero\", \"r4_hero\", \"r5_hero\", \"r6_hero\", \"r7_hero\", \"r8_hero\", \"r9_hero\", \"r10_hero\", \"r11_hero\", \"r12_hero\", \"r13_hero\", \"r14_hero\", \"r15_hero\", \"r16_hero\", \"r17_hero\", \"r18_hero\", \"r19_hero\", \"r20_hero\", \"r21_hero\", \"r22_hero\", \"r23_hero\", \"r24_hero\", \"r25_hero\", \"r26_hero\", \"r27_hero\", \"r28_hero\", \"r29_hero\", \"r30_hero\", \"r31_hero\", \"r32_hero\", \"r33_hero\", \"r34_hero\", \"r35_hero\", \"r36_hero\", \"r37_hero\", \"r38_hero\", \"r39_hero\", \"r40_hero\", \"r41_hero\", \"r42_hero\", \"r43_hero\", \"r44_hero\", \"r45_hero\", \"r46_hero\", \"r47_hero\", \"r48_hero\", \"r49_hero\", \"r50_hero\", \"r51_hero\", \"r52_hero\", \"r53_hero\", \"r54_hero\", \"r55_hero\", \"r56_hero\", \"r57_hero\", \"r58_hero\", \"r59_hero\", \"r60_hero\", \"r61_hero\", \"r62_hero\", \"r63_hero\", \"r64_hero\", \"r65_hero\", \"r66_hero\", \"r67_hero\", \"r68_hero\", \"r69_hero\", \"r70_hero\", \"r71_hero\", \"r72_hero\", \"r73_hero\", \"r74_hero\", \"r75_hero\", \"r76_hero\", \"r77_hero\", \"r78_hero\", \"r79_hero\", \"r80_hero\", \"r81_hero\", \"r82_hero\", \"r83_hero\", \"r84_hero\", \"r85_hero\", \"r86_hero\", \"r87_hero\", \"r88_hero\", \"r89_hero\", \"r90_hero\", \"r91_hero\", \"r92_hero\", \"r93_hero\", \"r94_hero\", \"r95_hero\", \"r96_hero\", \"r97_hero\", \"r98_hero\", \"r99_hero\", \"r100_hero\", \"r101_hero\", \"r102_hero\", \"r103_hero\", \"r104_hero\", \"r105_hero\", \"r106_hero\", \"r107_hero\", \"r108_hero\", \"r109_hero\", \"r110_hero\", \"r111_hero\", \"r112_hero\", \"r113_hero\", \"lobby_type_0\", \"lobby_type_1\", \"lobby_type_7\"], \"hoffset\": 0, \"location\": \"mouse\", \"type\": \"tooltip\", \"id\": \"el2696140568118811856pts\"}], \"data\": {\"data01\": [[0.0, 0.04434526773715801], [1.0, 0.00031368539573230214], [2.0, 0.0881214654892514], [3.0, 0.1952039716574155], [4.0, 0.20356579163046745], [5.0, -0.015057543759404525], [6.0, -0.033147437700291486], [7.0, 0.03885908721594302], [8.0, 0.023423409827562858], [9.0, 0.07099383607115549], [10.0, 0.19242730591242957], [11.0, 0.21011356846730733], [12.0, -0.020172021083554648], [13.0, -0.03592521355405989], [14.0, 0.023854408389860582], [15.0, 0.009156654722882792], [16.0, 0.08470135422365789], [17.0, 0.1617927230658365], [18.0, 0.21310779248460068], [19.0, -0.016712054115350063], [20.0, -0.037816642562018], [21.0, 0.04579993430793115], [22.0, 0.014871756007665037], [23.0, 0.10036662219808189], [24.0, 0.16217380705188716], [25.0, 0.21320429282427875], [26.0, -0.019860266098183785], [27.0, -0.04423167054092045], [28.0, 0.03506301458422], [29.0, 0.04074039878780397], [30.0, 0.07840752666518515], [31.0, 0.1701808417604143], [32.0, 0.19725436496376733], [33.0, -0.02131555945552661], [34.0, -0.04287871917974667], [35.0, 0.049731606471849314], [36.0, -0.017515812545314247], [37.0, -0.0783908895893313], [38.0, -0.18774498946583584], [39.0, -0.2093816675577557], [40.0, 0.022540869127036626], [41.0, 0.04063596510989026], [42.0, -0.031591787378169554], [43.0, -0.010386593491209605], [44.0, -0.09137855623350795], [45.0, -0.19920317336540158], [46.0, -0.21140279964389058], [47.0, 0.024974292931394054], [48.0, 0.034408039454648105], [49.0, -0.04211248839161042], [50.0, -0.0028971681586984353], [51.0, -0.11369280464424351], [52.0, -0.13669703472914616], [53.0, -0.22755131970127696], [54.0, 0.006047759205860915], [55.0, 0.029645463686358415], [56.0, -0.041154735719724445], [57.0, -0.024378547440030283], [58.0, -0.07015021400164888], [59.0, -0.18193668560662038], [60.0, -0.21298636956589403], [61.0, 0.0200254802974236], [62.0, 0.0353991831099745], [63.0, -0.04358631908951941], [64.0, -0.002676498538319917], [65.0, -0.11111066728538858], [66.0, -0.1593594203503882], [67.0, -0.22078111089251412], [68.0, 0.008899785827634425], [69.0, 0.048501537672035154], [70.0, -0.04576790256337048], [71.0, 0.004614396550990048], [72.0, 0.004701457561899595], [73.0, -0.0026096455089122546], [74.0, -0.03994835564440743], [75.0, -0.004040796672453123], [76.0, -0.03136276391325785], [77.0, 0.03671382410093577], [78.0, -0.04323709730139952], [79.0, 0.02548578982749939], [80.0, -0.008421493056793405], [81.0, -0.0013482209147979661], [82.0, -0.04160042915574285], [83.0, 0.0051464747952569305], [84.0, 0.01967639542620876], [85.0, -0.01046586266991197], [86.0, 0.04172105255018676], [87.0, -0.018779698658115525], [88.0, 0.00781888043093597], [89.0, -0.006618835387104046], [90.0, 0.03295633632671959], [91.0, 0.0], [92.0, 0.03761027445388548], [93.0, -0.13622088942794855], [94.0, -0.06537456194652506], [95.0, -0.02110475447066249], [96.0, 0.026734273857000848], [97.0, 0.029848370052074743], [98.0, 0.139426900732017], [99.0, 0.05624996842612775], [100.0, -0.007975277522306418], [101.0, -0.008760616672128374], [102.0, 0.047658030196167836], [103.0, -0.021467458980984087], [104.0, -0.09473299579802405], [105.0, 0.008935678729757637], [106.0, -0.03508449600588794], [107.0, -0.00146325294948813], [108.0, -0.027441528416010174], [109.0, 0.01625973245134511], [110.0, 0.02256488251172928], [111.0, 0.008653154575602789], [112.0, -0.11411625851888858], [113.0, 0.07628385660351057], [114.0, -0.0011660665457999281], [115.0, 0.0], [116.0, -0.1550022603398335], [117.0, -0.07924880182839586], [118.0, -0.010124652712125221], [119.0, 0.09045727633255214], [120.0, -0.00682521026681741], [121.0, 0.019023114887581148], [122.0, 0.027142417488044395], [123.0, 0.046366264245994486], [124.0, -0.07229193035987205], [125.0, -0.02989138607633793], [126.0, -0.01907461171857886], [127.0, 0.022270397134145244], [128.0, 0.011174113248279431], [129.0, 0.030655942671099005], [130.0, -0.2146060578231865], [131.0, 0.03714803874386294], [132.0, -0.04446168779324445], [133.0, 0.10482831960753829], [134.0, -0.02504562785586077], [135.0, 0.00128066178005565], [136.0, -0.0015096033516444614], [137.0, -0.017194582065809854], [138.0, -0.11727936010127166], [139.0, 0.017225693869235052], [140.0, 0.031030629580444953], [141.0, -0.014743706792277064], [142.0, 0.020244025857577886], [143.0, 0.04949859695665608], [144.0, -0.036298957167045516], [145.0, -0.02751653148160491], [146.0, -0.07798641298963874], [147.0, -0.011059869031438503], [148.0, 0.1252287731552354], [149.0, -0.04040407410554968], [150.0, 0.012451377870360015], [151.0, 0.011298279161220951], [152.0, -0.05342804751256813], [153.0, 0.04893137031155099], [154.0, -0.022117621883236023], [155.0, -0.01740582808967065], [156.0, -0.013124084037420193], [157.0, -0.020251050002644995], [158.0, 0.16544419725067647], [159.0, -0.011154250985053809], [160.0, 0.0832078263840872], [161.0, 0.04967304391360482], [162.0, 0.12318389764420803], [163.0, 0.010799228411824824], [164.0, 0.051414284372136534], [165.0, -0.008590509940163717], [166.0, -0.023599819480780805], [167.0, -0.06326206268095282], [168.0, 0.033683777286717835], [169.0, -0.0017087213758050434], [170.0, -0.03283923314655126], [171.0, -0.012505213035174588], [172.0, 0.003300949761810418], [173.0, 0.035296561621183976], [174.0, 0.016123840939027228], [175.0, -0.008382448791772096], [176.0, 0.04638035491224528], [177.0, -0.0656954837799374], [178.0, -0.03568221571703649], [179.0, 0.005497111283608512], [180.0, -0.01202258498881999], [181.0, -0.009776317569690895], [182.0, 0.036195946978530444], [183.0, 0.022082386277074924], [184.0, 0.027240610933083886], [185.0, 0.03744860350566008], [186.0, -0.019772173279806435], [187.0, 0.011097601473824992], [188.0, -0.03488592248091415], [189.0, -0.022705658213736688], [190.0, -0.06678782318331415], [191.0, 0.05831486436433333], [192.0, -0.0802510998365847], [193.0, 0.06773578765861926], [194.0, 0.018952617936938174], [195.0, -0.04869486783630778], [196.0, -0.0004070606014293968], [197.0, 0.012672277514761325], [198.0, 0.0], [199.0, 0.0], [200.0, -0.006285880407519225], [201.0, 0.04418379725593357], [202.0, 0.0], [203.0, -0.003599809381262498], [204.0, -0.0354996653887285], [205.0, 0.028390815926553514], [206.0, -0.004528527799266339]]}, \"id\": \"el2696140568101254608\"});\n",
       "      });\n",
       "    });\n",
       "}else{\n",
       "    // require.js not available: dynamically load d3 & mpld3\n",
       "    mpld3_load_lib(\"https://mpld3.github.io/js/d3.v3.min.js\", function(){\n",
       "         mpld3_load_lib(\"https://mpld3.github.io/js/mpld3.v0.2.js\", function(){\n",
       "                 \n",
       "                 mpld3.draw_figure(\"fig_el26961405681012546082682948170\", {\"axes\": [{\"xlim\": [0.0, 250.0], \"yscale\": \"linear\", \"axesbg\": \"#EEEEEE\", \"texts\": [], \"zoomable\": true, \"images\": [], \"xdomain\": [0.0, 250.0], \"ylim\": [-0.30000000000000004, 0.30000000000000004], \"paths\": [], \"sharey\": [], \"sharex\": [], \"axesbgalpha\": null, \"axes\": [{\"scale\": \"linear\", \"tickformat\": null, \"grid\": {\"gridOn\": false}, \"fontsize\": 10.0, \"position\": \"bottom\", \"nticks\": 6, \"tickvalues\": null}, {\"scale\": \"linear\", \"tickformat\": null, \"grid\": {\"gridOn\": false}, \"fontsize\": 10.0, \"position\": \"left\", \"nticks\": 9, \"tickvalues\": null}], \"lines\": [{\"color\": \"#FF0000\", \"yindex\": 1, \"coordinates\": \"data\", \"dasharray\": \"10,0\", \"zorder\": 2, \"alpha\": 1, \"xindex\": 0, \"linewidth\": 1.0, \"data\": \"data01\", \"id\": \"el2696140568118811856\"}], \"markers\": [{\"edgecolor\": \"#000000\", \"facecolor\": \"#FF0000\", \"edgewidth\": 0.5, \"yindex\": 1, \"coordinates\": \"data\", \"zorder\": 2, \"markerpath\": [[[0.0, 3.0], [0.7956093000000001, 3.0], [1.5587396123545605, 2.683901074764725], [2.121320343559643, 2.121320343559643], [2.683901074764725, 1.5587396123545605], [3.0, 0.7956093000000001], [3.0, 0.0], [3.0, -0.7956093000000001], [2.683901074764725, -1.5587396123545605], [2.121320343559643, -2.121320343559643], [1.5587396123545605, -2.683901074764725], [0.7956093000000001, -3.0], [0.0, -3.0], [-0.7956093000000001, -3.0], [-1.5587396123545605, -2.683901074764725], [-2.121320343559643, -2.121320343559643], [-2.683901074764725, -1.5587396123545605], [-3.0, -0.7956093000000001], [-3.0, 0.0], [-3.0, 0.7956093000000001], [-2.683901074764725, 1.5587396123545605], [-2.121320343559643, 2.121320343559643], [-1.5587396123545605, 2.683901074764725], [-0.7956093000000001, 3.0], [0.0, 3.0]], [\"M\", \"C\", \"C\", \"C\", \"C\", \"C\", \"C\", \"C\", \"C\", \"Z\"]], \"alpha\": 1, \"xindex\": 0, \"data\": \"data01\", \"id\": \"el2696140568118811856pts\"}], \"id\": \"el2696140568101256720\", \"ydomain\": [-0.30000000000000004, 0.30000000000000004], \"collections\": [], \"xscale\": \"linear\", \"bbox\": [0.125, 0.125, 0.77500000000000002, 0.77500000000000002]}], \"height\": 320.0, \"width\": 480.0, \"plugins\": [{\"type\": \"reset\"}, {\"enabled\": false, \"button\": true, \"type\": \"zoom\"}, {\"enabled\": false, \"button\": true, \"type\": \"boxzoom\"}, {\"voffset\": 10, \"labels\": [\"start_time\", \"r1_level\", \"r1_xp\", \"r1_gold\", \"r1_lh\", \"r1_kills\", \"r1_deaths\", \"r1_items\", \"r2_level\", \"r2_xp\", \"r2_gold\", \"r2_lh\", \"r2_kills\", \"r2_deaths\", \"r2_items\", \"r3_level\", \"r3_xp\", \"r3_gold\", \"r3_lh\", \"r3_kills\", \"r3_deaths\", \"r3_items\", \"r4_level\", \"r4_xp\", \"r4_gold\", \"r4_lh\", \"r4_kills\", \"r4_deaths\", \"r4_items\", \"r5_level\", \"r5_xp\", \"r5_gold\", \"r5_lh\", \"r5_kills\", \"r5_deaths\", \"r5_items\", \"d1_level\", \"d1_xp\", \"d1_gold\", \"d1_lh\", \"d1_kills\", \"d1_deaths\", \"d1_items\", \"d2_level\", \"d2_xp\", \"d2_gold\", \"d2_lh\", \"d2_kills\", \"d2_deaths\", \"d2_items\", \"d3_level\", \"d3_xp\", \"d3_gold\", \"d3_lh\", \"d3_kills\", \"d3_deaths\", \"d3_items\", \"d4_level\", \"d4_xp\", \"d4_gold\", \"d4_lh\", \"d4_kills\", \"d4_deaths\", \"d4_items\", \"d5_level\", \"d5_xp\", \"d5_gold\", \"d5_lh\", \"d5_kills\", \"d5_deaths\", \"d5_items\", \"first_blood_time\", \"first_blood_team\", \"first_blood_player1\", \"first_blood_player2\", \"radiant_bottle_time\", \"radiant_courier_time\", \"radiant_flying_courier_time\", \"radiant_tpscroll_count\", \"radiant_boots_count\", \"radiant_ward_observer_count\", \"radiant_ward_sentry_count\", \"radiant_first_ward_time\", \"dire_bottle_time\", \"dire_courier_time\", \"dire_flying_courier_time\", \"dire_tpscroll_count\", \"dire_boots_count\", \"dire_ward_observer_count\", \"dire_ward_sentry_count\", \"dire_first_ward_time\", \"r1_hero\", \"r2_hero\", \"r3_hero\", \"r4_hero\", \"r5_hero\", \"r6_hero\", \"r7_hero\", \"r8_hero\", \"r9_hero\", \"r10_hero\", \"r11_hero\", \"r12_hero\", \"r13_hero\", \"r14_hero\", \"r15_hero\", \"r16_hero\", \"r17_hero\", \"r18_hero\", \"r19_hero\", \"r20_hero\", \"r21_hero\", \"r22_hero\", \"r23_hero\", \"r24_hero\", \"r25_hero\", \"r26_hero\", \"r27_hero\", \"r28_hero\", \"r29_hero\", \"r30_hero\", \"r31_hero\", \"r32_hero\", \"r33_hero\", \"r34_hero\", \"r35_hero\", \"r36_hero\", \"r37_hero\", \"r38_hero\", \"r39_hero\", \"r40_hero\", \"r41_hero\", \"r42_hero\", \"r43_hero\", \"r44_hero\", \"r45_hero\", \"r46_hero\", \"r47_hero\", \"r48_hero\", \"r49_hero\", \"r50_hero\", \"r51_hero\", \"r52_hero\", \"r53_hero\", \"r54_hero\", \"r55_hero\", \"r56_hero\", \"r57_hero\", \"r58_hero\", \"r59_hero\", \"r60_hero\", \"r61_hero\", \"r62_hero\", \"r63_hero\", \"r64_hero\", \"r65_hero\", \"r66_hero\", \"r67_hero\", \"r68_hero\", \"r69_hero\", \"r70_hero\", \"r71_hero\", \"r72_hero\", \"r73_hero\", \"r74_hero\", \"r75_hero\", \"r76_hero\", \"r77_hero\", \"r78_hero\", \"r79_hero\", \"r80_hero\", \"r81_hero\", \"r82_hero\", \"r83_hero\", \"r84_hero\", \"r85_hero\", \"r86_hero\", \"r87_hero\", \"r88_hero\", \"r89_hero\", \"r90_hero\", \"r91_hero\", \"r92_hero\", \"r93_hero\", \"r94_hero\", \"r95_hero\", \"r96_hero\", \"r97_hero\", \"r98_hero\", \"r99_hero\", \"r100_hero\", \"r101_hero\", \"r102_hero\", \"r103_hero\", \"r104_hero\", \"r105_hero\", \"r106_hero\", \"r107_hero\", \"r108_hero\", \"r109_hero\", \"r110_hero\", \"r111_hero\", \"r112_hero\", \"r113_hero\", \"lobby_type_0\", \"lobby_type_1\", \"lobby_type_7\"], \"hoffset\": 0, \"location\": \"mouse\", \"type\": \"tooltip\", \"id\": \"el2696140568118811856pts\"}], \"data\": {\"data01\": [[0.0, 0.04434526773715801], [1.0, 0.00031368539573230214], [2.0, 0.0881214654892514], [3.0, 0.1952039716574155], [4.0, 0.20356579163046745], [5.0, -0.015057543759404525], [6.0, -0.033147437700291486], [7.0, 0.03885908721594302], [8.0, 0.023423409827562858], [9.0, 0.07099383607115549], [10.0, 0.19242730591242957], [11.0, 0.21011356846730733], [12.0, -0.020172021083554648], [13.0, -0.03592521355405989], [14.0, 0.023854408389860582], [15.0, 0.009156654722882792], [16.0, 0.08470135422365789], [17.0, 0.1617927230658365], [18.0, 0.21310779248460068], [19.0, -0.016712054115350063], [20.0, -0.037816642562018], [21.0, 0.04579993430793115], [22.0, 0.014871756007665037], [23.0, 0.10036662219808189], [24.0, 0.16217380705188716], [25.0, 0.21320429282427875], [26.0, -0.019860266098183785], [27.0, -0.04423167054092045], [28.0, 0.03506301458422], [29.0, 0.04074039878780397], [30.0, 0.07840752666518515], [31.0, 0.1701808417604143], [32.0, 0.19725436496376733], [33.0, -0.02131555945552661], [34.0, -0.04287871917974667], [35.0, 0.049731606471849314], [36.0, -0.017515812545314247], [37.0, -0.0783908895893313], [38.0, -0.18774498946583584], [39.0, -0.2093816675577557], [40.0, 0.022540869127036626], [41.0, 0.04063596510989026], [42.0, -0.031591787378169554], [43.0, -0.010386593491209605], [44.0, -0.09137855623350795], [45.0, -0.19920317336540158], [46.0, -0.21140279964389058], [47.0, 0.024974292931394054], [48.0, 0.034408039454648105], [49.0, -0.04211248839161042], [50.0, -0.0028971681586984353], [51.0, -0.11369280464424351], [52.0, -0.13669703472914616], [53.0, -0.22755131970127696], [54.0, 0.006047759205860915], [55.0, 0.029645463686358415], [56.0, -0.041154735719724445], [57.0, -0.024378547440030283], [58.0, -0.07015021400164888], [59.0, -0.18193668560662038], [60.0, -0.21298636956589403], [61.0, 0.0200254802974236], [62.0, 0.0353991831099745], [63.0, -0.04358631908951941], [64.0, -0.002676498538319917], [65.0, -0.11111066728538858], [66.0, -0.1593594203503882], [67.0, -0.22078111089251412], [68.0, 0.008899785827634425], [69.0, 0.048501537672035154], [70.0, -0.04576790256337048], [71.0, 0.004614396550990048], [72.0, 0.004701457561899595], [73.0, -0.0026096455089122546], [74.0, -0.03994835564440743], [75.0, -0.004040796672453123], [76.0, -0.03136276391325785], [77.0, 0.03671382410093577], [78.0, -0.04323709730139952], [79.0, 0.02548578982749939], [80.0, -0.008421493056793405], [81.0, -0.0013482209147979661], [82.0, -0.04160042915574285], [83.0, 0.0051464747952569305], [84.0, 0.01967639542620876], [85.0, -0.01046586266991197], [86.0, 0.04172105255018676], [87.0, -0.018779698658115525], [88.0, 0.00781888043093597], [89.0, -0.006618835387104046], [90.0, 0.03295633632671959], [91.0, 0.0], [92.0, 0.03761027445388548], [93.0, -0.13622088942794855], [94.0, -0.06537456194652506], [95.0, -0.02110475447066249], [96.0, 0.026734273857000848], [97.0, 0.029848370052074743], [98.0, 0.139426900732017], [99.0, 0.05624996842612775], [100.0, -0.007975277522306418], [101.0, -0.008760616672128374], [102.0, 0.047658030196167836], [103.0, -0.021467458980984087], [104.0, -0.09473299579802405], [105.0, 0.008935678729757637], [106.0, -0.03508449600588794], [107.0, -0.00146325294948813], [108.0, -0.027441528416010174], [109.0, 0.01625973245134511], [110.0, 0.02256488251172928], [111.0, 0.008653154575602789], [112.0, -0.11411625851888858], [113.0, 0.07628385660351057], [114.0, -0.0011660665457999281], [115.0, 0.0], [116.0, -0.1550022603398335], [117.0, -0.07924880182839586], [118.0, -0.010124652712125221], [119.0, 0.09045727633255214], [120.0, -0.00682521026681741], [121.0, 0.019023114887581148], [122.0, 0.027142417488044395], [123.0, 0.046366264245994486], [124.0, -0.07229193035987205], [125.0, -0.02989138607633793], [126.0, -0.01907461171857886], [127.0, 0.022270397134145244], [128.0, 0.011174113248279431], [129.0, 0.030655942671099005], [130.0, -0.2146060578231865], [131.0, 0.03714803874386294], [132.0, -0.04446168779324445], [133.0, 0.10482831960753829], [134.0, -0.02504562785586077], [135.0, 0.00128066178005565], [136.0, -0.0015096033516444614], [137.0, -0.017194582065809854], [138.0, -0.11727936010127166], [139.0, 0.017225693869235052], [140.0, 0.031030629580444953], [141.0, -0.014743706792277064], [142.0, 0.020244025857577886], [143.0, 0.04949859695665608], [144.0, -0.036298957167045516], [145.0, -0.02751653148160491], [146.0, -0.07798641298963874], [147.0, -0.011059869031438503], [148.0, 0.1252287731552354], [149.0, -0.04040407410554968], [150.0, 0.012451377870360015], [151.0, 0.011298279161220951], [152.0, -0.05342804751256813], [153.0, 0.04893137031155099], [154.0, -0.022117621883236023], [155.0, -0.01740582808967065], [156.0, -0.013124084037420193], [157.0, -0.020251050002644995], [158.0, 0.16544419725067647], [159.0, -0.011154250985053809], [160.0, 0.0832078263840872], [161.0, 0.04967304391360482], [162.0, 0.12318389764420803], [163.0, 0.010799228411824824], [164.0, 0.051414284372136534], [165.0, -0.008590509940163717], [166.0, -0.023599819480780805], [167.0, -0.06326206268095282], [168.0, 0.033683777286717835], [169.0, -0.0017087213758050434], [170.0, -0.03283923314655126], [171.0, -0.012505213035174588], [172.0, 0.003300949761810418], [173.0, 0.035296561621183976], [174.0, 0.016123840939027228], [175.0, -0.008382448791772096], [176.0, 0.04638035491224528], [177.0, -0.0656954837799374], [178.0, -0.03568221571703649], [179.0, 0.005497111283608512], [180.0, -0.01202258498881999], [181.0, -0.009776317569690895], [182.0, 0.036195946978530444], [183.0, 0.022082386277074924], [184.0, 0.027240610933083886], [185.0, 0.03744860350566008], [186.0, -0.019772173279806435], [187.0, 0.011097601473824992], [188.0, -0.03488592248091415], [189.0, -0.022705658213736688], [190.0, -0.06678782318331415], [191.0, 0.05831486436433333], [192.0, -0.0802510998365847], [193.0, 0.06773578765861926], [194.0, 0.018952617936938174], [195.0, -0.04869486783630778], [196.0, -0.0004070606014293968], [197.0, 0.012672277514761325], [198.0, 0.0], [199.0, 0.0], [200.0, -0.006285880407519225], [201.0, 0.04418379725593357], [202.0, 0.0], [203.0, -0.003599809381262498], [204.0, -0.0354996653887285], [205.0, 0.028390815926553514], [206.0, -0.004528527799266339]]}, \"id\": \"el2696140568101254608\"});\n",
       "            })\n",
       "         });\n",
       "}\n",
       "</script>"
      ],
      "text/plain": [
       "<IPython.core.display.HTML object>"
      ]
     },
     "execution_count": 62,
     "metadata": {},
     "output_type": "execute_result"
    }
   ],
   "source": [
    "import mpld3\n",
    "\n",
    "mpld3.enable_notebook()\n",
    "fig, ax = plt.subplots(subplot_kw=dict(axisbg='#EEEEEE'))\n",
    "\n",
    "somefig=ax.plot(clf2.coef_[0],'ro-')\n",
    "#x=range(len(allColumns))\n",
    "#plt.xticks(clf2.coef_[0],allColumns, rotation='vertical')\n",
    "\n",
    "#labels = ['point {0}'.format(i + 1) for i in range(N)]\n",
    "tooltip = mpld3.plugins.PointLabelTooltip(somefig[0], labels=allColumns)\n",
    "mpld3.plugins.connect(fig, tooltip)\n",
    "mpld3.display()"
   ]
  },
  {
   "cell_type": "code",
   "execution_count": 63,
   "metadata": {
    "collapsed": false
   },
   "outputs": [
    {
     "data": {
      "text/plain": [
       "0.75213195753995232"
      ]
     },
     "execution_count": 63,
     "metadata": {},
     "output_type": "execute_result"
    }
   ],
   "source": [
    "scores2 = cross_val_score(LogisticRegression2(C=0.005,penalty='l2',random_state=1, n_jobs=-1),\n",
    "                            X_concat, Y, cv=KFold(len(X_concat),\n",
    "                            n_folds=5, shuffle=True, random_state=241),scoring='roc_auc')\n",
    "scores2.mean()\n"
   ]
  },
  {
   "cell_type": "code",
   "execution_count": 107,
   "metadata": {
    "collapsed": false
   },
   "outputs": [
    {
     "data": {
      "text/plain": [
       "(97230, 207)"
      ]
     },
     "execution_count": 107,
     "metadata": {},
     "output_type": "execute_result"
    }
   ],
   "source": [
    "Reduced4train = pandas.DataFrame(X_concat,columns=allColumns)\n",
    "Reduced4train.shape"
   ]
  },
  {
   "cell_type": "code",
   "execution_count": 108,
   "metadata": {
    "collapsed": false
   },
   "outputs": [
    {
     "data": {
      "text/plain": [
       "(17177, 207)"
      ]
     },
     "execution_count": 108,
     "metadata": {},
     "output_type": "execute_result"
    }
   ],
   "source": [
    "Reduced4test = pandas.DataFrame(X_concat_test,columns=allColumns)\n",
    "Reduced4test.shape"
   ]
  },
  {
   "cell_type": "code",
   "execution_count": 109,
   "metadata": {
    "collapsed": true
   },
   "outputs": [],
   "source": [
    "mostImportantColumnsR = ['r1_lh','r2_lh','r3_lh','r4_lh','r5_lh']\n",
    "mostImportantColumnsD = ['d1_lh','d2_lh','d3_lh','d4_lh','d5_lh']\n",
    "mostImportantHerosR = ['r8_hero','r23_hero','r43_hero','r58_hero','r68_hero']\n",
    "mostImportantHerosD = ['r3_hero','r26_hero','r40_hero','r48_hero']\n",
    "GoldR=['r1_gold','r2_gold','r3_gold','r4_gold','r5_gold']\n",
    "GoldD=['d1_gold','d2_gold','d3_gold','d4_gold','d5_gold']\n",
    "XpR=['r1_xp','r2_xp','r3_xp','r4_xp','r5_xp']\n",
    "XpD=['d1_xp','d2_xp','d3_xp','d4_xp','d5_xp']"
   ]
  },
  {
   "cell_type": "code",
   "execution_count": 110,
   "metadata": {
    "collapsed": false
   },
   "outputs": [],
   "source": [
    "#Reduced4train['cumKillsR']=Reduced4train[mostImportantColumnsR].sum(axis=1)**2\n",
    "#Reduced4train['cumKillsD']=Reduced4train[mostImportantColumnsD].sum(axis=1)**2\n",
    "Reduced4train['cumKillsRD_D2']=(Reduced4train[mostImportantColumnsR].sum(axis=1)-Reduced4train[mostImportantColumnsD].sum(axis=1))**2\n",
    "\n",
    "#Reduced4train['cumKillsR_L']=Reduced4train[mostImportantColumnsR].sum(axis=1)\n",
    "#Reduced4train['cumKillsD_L']=Reduced4train[mostImportantColumnsD].sum(axis=1)\n",
    "Reduced4train['cumKillsRD_LD']=Reduced4train[mostImportantColumnsR].sum(axis=1)-Reduced4train[mostImportantColumnsD].sum(axis=1)\n",
    "\n",
    "#Reduced4train['herR']=Reduced4train[mostImportantHerosR].sum(axis=1)**2\n",
    "#Reduced4train['herD']=Reduced4train[mostImportantHerosD].sum(axis=1)**2\n",
    "\n",
    "#Reduced4train['GoldR']=Reduced4train[XpR].sum(axis=1)**2\n",
    "#Reduced4train['GoldD']=Reduced4train[XpD].sum(axis=1)**2\n",
    "Reduced4train['GoldRD_D2']=(Reduced4train[XpR].sum(axis=1)-Reduced4train[XpD].sum(axis=1))**2\n",
    "\n",
    "#Reduced4train['GoldR_L']=Reduced4train[XpR].sum(axis=1)\n",
    "#Reduced4train['GoldD_L']=Reduced4train[XpD].sum(axis=1)\n",
    "Reduced4train['GoldRD_D']=Reduced4train[XpR].sum(axis=1)-Reduced4train[XpD].sum(axis=1)\n",
    "\n",
    "#Reduced4train['XpR']=Reduced4train[GoldR].sum(axis=1)**2\n",
    "#Reduced4train['XpD']=Reduced4train[GoldD].sum(axis=1)**2\n",
    "Reduced4train['XpRD_D2']=(Reduced4train[GoldR].sum(axis=1)-Reduced4train[GoldD].sum(axis=1))**2\n",
    "\n",
    "#Reduced4train['XpR_L']=Reduced4train[GoldR].sum(axis=1)\n",
    "#Reduced4train['XpD_L']=Reduced4train[GoldD].sum(axis=1)\n",
    "Reduced4train['XpRD_LD']=Reduced4train[GoldR].sum(axis=1)-Reduced4train[GoldD].sum(axis=1)\n",
    "\n",
    "#Reduced4test['cumKillsR']=Reduced4test[mostImportantColumnsR].sum(axis=1)**2\n",
    "#Reduced4test['cumKillsD']=Reduced4test[mostImportantColumnsD].sum(axis=1)**2\n",
    "Reduced4test['cumKillsRD_D2']=(Reduced4test[mostImportantColumnsR].sum(axis=1)-Reduced4test[mostImportantColumnsD].sum(axis=1))**2\n",
    "\n",
    "\n",
    "#Reduced4test['cumKillsR_L']=Reduced4test[mostImportantColumnsR].sum(axis=1)\n",
    "#Reduced4test['cumKillsD_L']=Reduced4test[mostImportantColumnsD].sum(axis=1)\n",
    "Reduced4test['cumKillsRD_D']=Reduced4test[mostImportantColumnsR].sum(axis=1)-Reduced4test[mostImportantColumnsD].sum(axis=1)\n",
    "\n",
    "#Reduced4test['herR']=Reduced4test[mostImportantHerosR].sum(axis=1)**2\n",
    "#Reduced4test['herD']=Reduced4test[mostImportantHerosD].sum(axis=1)**2\n",
    "\n",
    "#Reduced4test['GoldR']=Reduced4test[XpR].sum(axis=1)**2\n",
    "#Reduced4test['GoldD']=Reduced4test[XpD].sum(axis=1)**2\n",
    "Reduced4test['GoldRD_D2']=(Reduced4test[XpR].sum(axis=1)-Reduced4test[XpD].sum(axis=1))**2\n",
    "\n",
    "#Reduced4test['GoldR_L']=Reduced4test[XpR].sum(axis=1)\n",
    "#Reduced4test['GoldD_L']=Reduced4test[XpD].sum(axis=1)\n",
    "Reduced4test['GoldRD_D']=Reduced4test[XpR].sum(axis=1)-Reduced4test[XpD].sum(axis=1)\n",
    "\n",
    "#Reduced4test['XpR']=Reduced4test[GoldR].sum(axis=1)**2\n",
    "#Reduced4test['XpD']=Reduced4test[GoldD].sum(axis=1)**2\n",
    "Reduced4test['XpRD_D2']=(Reduced4test[GoldR].sum(axis=1)-Reduced4test[GoldD].sum(axis=1))**2\n",
    "\n",
    "#Reduced4test['XpR_L']=Reduced4test[GoldR].sum(axis=1)\n",
    "#Reduced4test['XpD_L']=Reduced4test[GoldD].sum(axis=1)\n",
    "Reduced4test['XpRD_LD']=Reduced4test[GoldR].sum(axis=1)-Reduced4test[GoldD].sum(axis=1)\n",
    "\n",
    "Reduced4testCols = list(Reduced4test.columns.values)"
   ]
  },
  {
   "cell_type": "code",
   "execution_count": 111,
   "metadata": {
    "collapsed": false
   },
   "outputs": [],
   "source": [
    "standard_scaler4 = StandardScaler()\n",
    "Reduced4train = standard_scaler4.fit_transform(Reduced4train)\n",
    "Reduced4test = standard_scaler4.transform(Reduced4test)"
   ]
  },
  {
   "cell_type": "code",
   "execution_count": 112,
   "metadata": {
    "collapsed": false
   },
   "outputs": [
    {
     "name": "stdout",
     "output_type": "stream",
     "text": [
      "i 0.001000  score 0.752131, time elapsed:0:00:12.263855\n",
      "i 0.002000  score 0.752186, time elapsed:0:00:13.750017\n",
      "i 0.003000  score 0.752185, time elapsed:0:00:14.661408\n",
      "i 0.004000  score 0.752175, time elapsed:0:00:14.751901\n"
     ]
    }
   ],
   "source": [
    "[roc_auc5,Coeff5,timesElapsed5] = optimize_reg(Reduced4train, Y, np.arange(0.001,0.005,0.001))\n",
    "#best i 0.005000  score 0.752409, time elapsed:0:00:17.513508"
   ]
  },
  {
   "cell_type": "code",
   "execution_count": 117,
   "metadata": {
    "collapsed": false
   },
   "outputs": [
    {
     "data": {
      "text/plain": [
       "0.75218377032045303"
      ]
     },
     "execution_count": 117,
     "metadata": {},
     "output_type": "execute_result"
    }
   ],
   "source": [
    "scores2 = cross_val_score(LogisticRegression2(C=0.002,penalty='l2',random_state=1, dual=False, \n",
    "                                              tol=0.0001,fit_intercept=True, class_weight='balanced'),\n",
    "                            Reduced4train, Y, cv=KFold(len(Reduced4train),\n",
    "                            n_folds=5, shuffle=True, random_state=241),scoring='roc_auc')\n",
    "scores2.mean()\n",
    "#0.75240576702810924"
   ]
  },
  {
   "cell_type": "code",
   "execution_count": 71,
   "metadata": {
    "collapsed": true
   },
   "outputs": [],
   "source": [
    "from sklearn.linear_model import SGDClassifier\n",
    "class SGDClassifier2(SGDClassifier):\n",
    "    def predict(X):\n",
    "        return SGDClassifier.predict_proba(self, X)"
   ]
  },
  {
   "cell_type": "raw",
   "metadata": {},
   "source": [
    "scores2 = cross_val_score(SGDClassifier2(loss='log',penalty='l2'),\n",
    "                            Reduced4train, Y, cv=KFold(len(Reduced4train),\n",
    "                            n_folds=5, shuffle=True, random_state=241),scoring='roc_auc')\n",
    "scores2.mean()\n",
    "#res 0.74561891051697349 <- with dif params"
   ]
  },
  {
   "cell_type": "code",
   "execution_count": 72,
   "metadata": {
    "collapsed": true
   },
   "outputs": [],
   "source": [
    "from sklearn.svm import SVC\n",
    "class SVC2(SVC):\n",
    "    def predict(X):\n",
    "        return SVC.predict_proba(self, X)"
   ]
  },
  {
   "cell_type": "raw",
   "metadata": {
    "collapsed": true
   },
   "source": [
    "scores2 = cross_val_score(SVC2(probability=True,verbose=True),\n",
    "                            Reduced4train, Y, cv=KFold(len(Reduced4train),\n",
    "                            n_folds=5, shuffle=True, random_state=241),scoring='roc_auc')\n",
    "scores2.mean()\n",
    "#cant solve very long time"
   ]
  },
  {
   "cell_type": "code",
   "execution_count": 73,
   "metadata": {
    "collapsed": true
   },
   "outputs": [],
   "source": [
    "from  sklearn.ensemble import RandomForestClassifier\n",
    "class RandomForestClassifier2(RandomForestClassifier):\n",
    "    def predict(X):\n",
    "        return RandomForestClassifier.predict_proba(self, X)"
   ]
  },
  {
   "cell_type": "raw",
   "metadata": {
    "collapsed": false
   },
   "source": [
    "scores2 = cross_val_score(RandomForestClassifier2(n_estimators=1000,verbose=True),\n",
    "                            Reduced4train, Y, cv=KFold(len(Reduced4train),\n",
    "                            n_folds=5, shuffle=True, random_state=241),scoring='roc_auc')\n",
    "scores2.mean()\n",
    "# 0.72049034821612956 for 500 estimators, 0.72151192088147087 - 1000"
   ]
  },
  {
   "cell_type": "raw",
   "metadata": {
    "collapsed": false
   },
   "source": [
    "scores2 = cross_val_score(GradientBoostingClassifier2(n_estimators=500,verbose=True),\n",
    "                            Reduced4train, Y, cv=KFold(len(Reduced4train),\n",
    "                            n_folds=5, shuffle=True, random_state=241),scoring='roc_auc')\n",
    "scores2.mean()\n",
    "# 500 estimators - 0.74885936740953007 , 0.74883431278308077"
   ]
  },
  {
   "cell_type": "code",
   "execution_count": 76,
   "metadata": {
    "collapsed": false
   },
   "outputs": [
    {
     "data": {
      "text/plain": [
       "PCA(copy=True, n_components=None, whiten=False)"
      ]
     },
     "execution_count": 76,
     "metadata": {},
     "output_type": "execute_result"
    }
   ],
   "source": [
    "#http://scikit-learn.org/stable/auto_examples/plot_digits_pipe.html#example-plot-digits-pipe-py\n",
    "from sklearn import decomposition, datasets\n",
    "from sklearn.pipeline import Pipeline\n",
    "from sklearn.grid_search import GridSearchCV\n",
    "\n",
    "pca = decomposition.PCA()\n",
    "pipe = Pipeline(steps=[('pca', pca), ('logistic', LogisticRegression2)])\n",
    "\n",
    "pca.fit(Reduced4train)\n",
    "\n"
   ]
  },
  {
   "cell_type": "code",
   "execution_count": null,
   "metadata": {
    "collapsed": true
   },
   "outputs": [],
   "source": []
  },
  {
   "cell_type": "code",
   "execution_count": 77,
   "metadata": {
    "collapsed": false
   },
   "outputs": [
    {
     "data": {
      "text/plain": [
       "<matplotlib.text.Text at 0x7fd88facaed0>"
      ]
     },
     "execution_count": 77,
     "metadata": {},
     "output_type": "execute_result"
    },
    {
     "data": {
      "image/png": "[encoded data removed]",
      "text/html": [
       "\n",
       "\n",
       "<style>\n",
       "\n",
       "</style>\n",
       "\n",
       "<div id=\"fig_el26961405681004334888153751092\"></div>\n",
       "<script>\n",
       "function mpld3_load_lib(url, callback){\n",
       "  var s = document.createElement('script');\n",
       "  s.src = url;\n",
       "  s.async = true;\n",
       "  s.onreadystatechange = s.onload = callback;\n",
       "  s.onerror = function(){console.warn(\"failed to load library \" + url);};\n",
       "  document.getElementsByTagName(\"head\")[0].appendChild(s);\n",
       "}\n",
       "\n",
       "if(typeof(mpld3) !== \"undefined\" && mpld3._mpld3IsLoaded){\n",
       "   // already loaded: just create the figure\n",
       "   !function(mpld3){\n",
       "       \n",
       "       mpld3.draw_figure(\"fig_el26961405681004334888153751092\", {\"axes\": [{\"xlim\": [0.0, 218.0], \"yscale\": \"linear\", \"axesbg\": \"#FFFFFF\", \"texts\": [{\"v_baseline\": \"hanging\", \"h_anchor\": \"middle\", \"color\": \"#000000\", \"text\": \"n_components\", \"coordinates\": \"axes\", \"zorder\": 3, \"alpha\": 1, \"fontsize\": 10.0, \"position\": [0.5, -0.1190476190476191], \"rotation\": -0.0, \"id\": \"el2696140568100384720\"}, {\"v_baseline\": \"auto\", \"h_anchor\": \"middle\", \"color\": \"#000000\", \"text\": \"explained_variance_\", \"coordinates\": \"axes\", \"zorder\": 3, \"alpha\": 1, \"fontsize\": 10.0, \"position\": [-0.076450892857142849, 0.5], \"rotation\": -90.0, \"id\": \"el2696140568100122320\"}], \"zoomable\": true, \"images\": [], \"xdomain\": [0.0, 218.0], \"ylim\": [9.1426740091010302e-33, 8.149185057152966], \"paths\": [], \"sharey\": [], \"sharex\": [], \"axesbgalpha\": null, \"axes\": [{\"scale\": \"linear\", \"tickformat\": null, \"grid\": {\"gridOn\": false}, \"fontsize\": 10.0, \"position\": \"bottom\", \"nticks\": 6, \"tickvalues\": null}, {\"scale\": \"linear\", \"tickformat\": null, \"grid\": {\"gridOn\": false}, \"fontsize\": 10.0, \"position\": \"left\", \"nticks\": 10, \"tickvalues\": null}], \"lines\": [{\"color\": \"#0000FF\", \"yindex\": 1, \"coordinates\": \"data\", \"dasharray\": \"10,0\", \"zorder\": 2, \"alpha\": 1, \"xindex\": 0, \"linewidth\": 2.0, \"data\": \"data01\", \"id\": \"el2696140568100989968\"}], \"markers\": [], \"id\": \"el2696140568100381584\", \"ydomain\": [9.1426740091010302e-33, 8.149185057152966], \"collections\": [], \"xscale\": \"linear\", \"bbox\": [0.20000000000000001, 0.20000000000000001, 0.69999999999999996, 0.69999999999999996]}], \"height\": 240.0, \"width\": 320.0, \"plugins\": [{\"type\": \"reset\"}, {\"enabled\": false, \"button\": true, \"type\": \"zoom\"}, {\"enabled\": false, \"button\": true, \"type\": \"boxzoom\"}], \"data\": {\"data01\": [[0.0, 8.149185057152966], [1.0, 5.894113669493637], [2.0, 4.3679534705122425], [3.0, 3.914207757353311], [4.0, 3.8764300151201656], [5.0, 3.8439194918007646], [6.0, 3.8072253085930314], [7.0, 3.789555426491603], [8.0, 3.767983145890411], [9.0, 3.7539886324730705], [10.0, 3.7403743905598277], [11.0, 2.795263751939266], [12.0, 2.1244867823454805], [13.0, 1.701988738608703], [14.0, 1.6409844557648756], [15.0, 1.5419368585742637], [16.0, 1.4648909851419936], [17.0, 1.408477709618382], [18.0, 1.3668702967799287], [19.0, 1.3543513840928547], [20.0, 1.307744409126777], [21.0, 1.2884119471571278], [22.0, 1.2845358415874302], [23.0, 1.2738326037288876], [24.0, 1.26815096060797], [25.0, 1.2581641213827455], [26.0, 1.2439978183243536], [27.0, 1.2410010736957646], [28.0, 1.2334655550483342], [29.0, 1.2312738059684305], [30.0, 1.2291250833906915], [31.0, 1.224157919265399], [32.0, 1.217762892002753], [33.0, 1.2145525174379224], [34.0, 1.2043618296988794], [35.0, 1.1966109045560154], [36.0, 1.1896213935916065], [37.0, 1.179705910726117], [38.0, 1.1769677723199907], [39.0, 1.1720702728189947], [40.0, 1.162379088965484], [41.0, 1.146252903913197], [42.0, 1.132366614490787], [43.0, 1.1299809552183604], [44.0, 1.1292243715044978], [45.0, 1.1204033491124965], [46.0, 1.114073067255821], [47.0, 1.108515380236819], [48.0, 1.1041373007973807], [49.0, 1.0975938249926336], [50.0, 1.092288955846302], [51.0, 1.0907504306109563], [52.0, 1.084908754817757], [53.0, 1.0840706447761561], [54.0, 1.0832255200332639], [55.0, 1.078681059031188], [56.0, 1.07631368506946], [57.0, 1.0713617555604429], [58.0, 1.0679409574139471], [59.0, 1.0663719056287817], [60.0, 1.0618573093143244], [61.0, 1.057323083394364], [62.0, 1.0557394847015162], [63.0, 1.0533765314701795], [64.0, 1.0491888538310508], [65.0, 1.0475757835110528], [66.0, 1.0444795838599643], [67.0, 1.0424434417885815], [68.0, 1.039404443333045], [69.0, 1.037123498394614], [70.0, 1.0337821669516547], [71.0, 1.0328363682887758], [72.0, 1.0308338068998082], [73.0, 1.0298385655832758], [74.0, 1.0283773033696257], [75.0, 1.027802742501999], [76.0, 1.02391771075658], [77.0, 1.0220381223752348], [78.0, 1.0186526403183196], [79.0, 1.0182202669823972], [80.0, 1.01566859223344], [81.0, 1.01355517466424], [82.0, 1.012717626875316], [83.0, 1.0116080614898264], [84.0, 1.009624627572526], [85.0, 1.0080715613076057], [86.0, 1.0038838776787335], [87.0, 1.002550422530945], [88.0, 1.0011155718983245], [89.0, 1.0004901311647723], [90.0, 0.9975713180543684], [91.0, 0.9969912067707613], [92.0, 0.9917229568515653], [93.0, 0.9899386395740184], [94.0, 0.9894505812972252], [95.0, 0.9883458844764521], [96.0, 0.9847979902702476], [97.0, 0.9828553710648109], [98.0, 0.98219125373114], [99.0, 0.9808463272577089], [100.0, 0.9771293323517563], [101.0, 0.9768179714240128], [102.0, 0.9725052673634231], [103.0, 0.9691840091150631], [104.0, 0.966042414082371], [105.0, 0.9649211554738639], [106.0, 0.9626427981374229], [107.0, 0.9598893349099412], [108.0, 0.9588165003295667], [109.0, 0.956208607086908], [110.0, 0.9528557208329452], [111.0, 0.9518124358189353], [112.0, 0.9485822541685258], [113.0, 0.944590961383397], [114.0, 0.9406353428390931], [115.0, 0.9370149661057773], [116.0, 0.9328491571581834], [117.0, 0.930103369336051], [118.0, 0.9231107284531164], [119.0, 0.9187935757768372], [120.0, 0.9141798254192028], [121.0, 0.9123736277701688], [122.0, 0.9119443330510347], [123.0, 0.9085722862222256], [124.0, 0.9070694534234754], [125.0, 0.9054875274143135], [126.0, 0.9030800276194679], [127.0, 0.8981033014832931], [128.0, 0.8943205387823496], [129.0, 0.8928731932935295], [130.0, 0.8886258123571492], [131.0, 0.8847597994010928], [132.0, 0.8792620266794916], [133.0, 0.873885163063518], [134.0, 0.8699147532683519], [135.0, 0.8663296055117897], [136.0, 0.8578193401741194], [137.0, 0.8487112868184915], [138.0, 0.8435716482001728], [139.0, 0.8329862020396979], [140.0, 0.8222621073296892], [141.0, 0.8042526290545423], [142.0, 0.7983228229125783], [143.0, 0.784463634892824], [144.0, 0.7783698521264554], [145.0, 0.7694484981638684], [146.0, 0.7486829215487233], [147.0, 0.7407345727141238], [148.0, 0.7400989315122968], [149.0, 0.7368279137244057], [150.0, 0.733726955236806], [151.0, 0.7269819779643645], [152.0, 0.7233508283973208], [153.0, 0.722040085923073], [154.0, 0.711730914967166], [155.0, 0.7051424082429957], [156.0, 0.6893882218149942], [157.0, 0.6711625856886201], [158.0, 0.6594335689185311], [159.0, 0.635648616242941], [160.0, 0.6135574192124026], [161.0, 0.5727250108997626], [162.0, 0.5568431863456136], [163.0, 0.5217742627599448], [164.0, 0.48534614900193], [165.0, 0.4794110274891809], [166.0, 0.4756506470889936], [167.0, 0.47224748038863573], [168.0, 0.4600351833150165], [169.0, 0.45655851334874986], [170.0, 0.4522480023458522], [171.0, 0.45135536517056807], [172.0, 0.4475243066463468], [173.0, 0.4071924205788809], [174.0, 0.4003630541264404], [175.0, 0.3701892072246591], [176.0, 0.34603027965830796], [177.0, 0.3394443305560339], [178.0, 0.29361349426579475], [179.0, 0.2822746375999936], [180.0, 0.21200327790381562], [181.0, 0.1759809343127573], [182.0, 0.14430724444516976], [183.0, 0.12386939420733072], [184.0, 0.08233732882629448], [185.0, 0.07874397698335996], [186.0, 0.07765284829026635], [187.0, 0.07723522468308773], [188.0, 0.07688009445523704], [189.0, 0.07645630397636892], [190.0, 0.07627932048736379], [191.0, 0.0755187295910804], [192.0, 0.07507586323700682], [193.0, 0.07155842142714873], [194.0, 0.06820614574465898], [195.0, 0.06204105797322983], [196.0, 0.05387350690939758], [197.0, 0.05289279474603526], [198.0, 0.051634500390671884], [199.0, 0.050967611825650704], [200.0, 0.05030279027500172], [201.0, 0.049362245511248785], [202.0, 0.04882259412117724], [203.0, 0.04736553963167591], [204.0, 0.016451200096332837], [205.0, 1.6403234603144918e-30], [206.0, 4.710607728861684e-31], [207.0, 3.3140199817776736e-31], [208.0, 1.9878473996854754e-31], [209.0, 1.6162710160562987e-31], [210.0, 1.4804591904391972e-31], [211.0, 9.46062641971616e-32], [212.0, 7.810065887840307e-32], [213.0, 7.497412280933759e-32], [214.0, 3.1818983680684223e-32], [215.0, 3.1818983680684223e-32], [216.0, 1.288270983491311e-32], [217.0, 1.2275273127911376e-32], [218.0, 9.14267400910103e-33]]}, \"id\": \"el2696140568100433488\"});\n",
       "   }(mpld3);\n",
       "}else if(typeof define === \"function\" && define.amd){\n",
       "   // require.js is available: use it to load d3/mpld3\n",
       "   require.config({paths: {d3: \"https://mpld3.github.io/js/d3.v3.min\"}});\n",
       "   require([\"d3\"], function(d3){\n",
       "      window.d3 = d3;\n",
       "      mpld3_load_lib(\"https://mpld3.github.io/js/mpld3.v0.2.js\", function(){\n",
       "         \n",
       "         mpld3.draw_figure(\"fig_el26961405681004334888153751092\", {\"axes\": [{\"xlim\": [0.0, 218.0], \"yscale\": \"linear\", \"axesbg\": \"#FFFFFF\", \"texts\": [{\"v_baseline\": \"hanging\", \"h_anchor\": \"middle\", \"color\": \"#000000\", \"text\": \"n_components\", \"coordinates\": \"axes\", \"zorder\": 3, \"alpha\": 1, \"fontsize\": 10.0, \"position\": [0.5, -0.1190476190476191], \"rotation\": -0.0, \"id\": \"el2696140568100384720\"}, {\"v_baseline\": \"auto\", \"h_anchor\": \"middle\", \"color\": \"#000000\", \"text\": \"explained_variance_\", \"coordinates\": \"axes\", \"zorder\": 3, \"alpha\": 1, \"fontsize\": 10.0, \"position\": [-0.076450892857142849, 0.5], \"rotation\": -90.0, \"id\": \"el2696140568100122320\"}], \"zoomable\": true, \"images\": [], \"xdomain\": [0.0, 218.0], \"ylim\": [9.1426740091010302e-33, 8.149185057152966], \"paths\": [], \"sharey\": [], \"sharex\": [], \"axesbgalpha\": null, \"axes\": [{\"scale\": \"linear\", \"tickformat\": null, \"grid\": {\"gridOn\": false}, \"fontsize\": 10.0, \"position\": \"bottom\", \"nticks\": 6, \"tickvalues\": null}, {\"scale\": \"linear\", \"tickformat\": null, \"grid\": {\"gridOn\": false}, \"fontsize\": 10.0, \"position\": \"left\", \"nticks\": 10, \"tickvalues\": null}], \"lines\": [{\"color\": \"#0000FF\", \"yindex\": 1, \"coordinates\": \"data\", \"dasharray\": \"10,0\", \"zorder\": 2, \"alpha\": 1, \"xindex\": 0, \"linewidth\": 2.0, \"data\": \"data01\", \"id\": \"el2696140568100989968\"}], \"markers\": [], \"id\": \"el2696140568100381584\", \"ydomain\": [9.1426740091010302e-33, 8.149185057152966], \"collections\": [], \"xscale\": \"linear\", \"bbox\": [0.20000000000000001, 0.20000000000000001, 0.69999999999999996, 0.69999999999999996]}], \"height\": 240.0, \"width\": 320.0, \"plugins\": [{\"type\": \"reset\"}, {\"enabled\": false, \"button\": true, \"type\": \"zoom\"}, {\"enabled\": false, \"button\": true, \"type\": \"boxzoom\"}], \"data\": {\"data01\": [[0.0, 8.149185057152966], [1.0, 5.894113669493637], [2.0, 4.3679534705122425], [3.0, 3.914207757353311], [4.0, 3.8764300151201656], [5.0, 3.8439194918007646], [6.0, 3.8072253085930314], [7.0, 3.789555426491603], [8.0, 3.767983145890411], [9.0, 3.7539886324730705], [10.0, 3.7403743905598277], [11.0, 2.795263751939266], [12.0, 2.1244867823454805], [13.0, 1.701988738608703], [14.0, 1.6409844557648756], [15.0, 1.5419368585742637], [16.0, 1.4648909851419936], [17.0, 1.408477709618382], [18.0, 1.3668702967799287], [19.0, 1.3543513840928547], [20.0, 1.307744409126777], [21.0, 1.2884119471571278], [22.0, 1.2845358415874302], [23.0, 1.2738326037288876], [24.0, 1.26815096060797], [25.0, 1.2581641213827455], [26.0, 1.2439978183243536], [27.0, 1.2410010736957646], [28.0, 1.2334655550483342], [29.0, 1.2312738059684305], [30.0, 1.2291250833906915], [31.0, 1.224157919265399], [32.0, 1.217762892002753], [33.0, 1.2145525174379224], [34.0, 1.2043618296988794], [35.0, 1.1966109045560154], [36.0, 1.1896213935916065], [37.0, 1.179705910726117], [38.0, 1.1769677723199907], [39.0, 1.1720702728189947], [40.0, 1.162379088965484], [41.0, 1.146252903913197], [42.0, 1.132366614490787], [43.0, 1.1299809552183604], [44.0, 1.1292243715044978], [45.0, 1.1204033491124965], [46.0, 1.114073067255821], [47.0, 1.108515380236819], [48.0, 1.1041373007973807], [49.0, 1.0975938249926336], [50.0, 1.092288955846302], [51.0, 1.0907504306109563], [52.0, 1.084908754817757], [53.0, 1.0840706447761561], [54.0, 1.0832255200332639], [55.0, 1.078681059031188], [56.0, 1.07631368506946], [57.0, 1.0713617555604429], [58.0, 1.0679409574139471], [59.0, 1.0663719056287817], [60.0, 1.0618573093143244], [61.0, 1.057323083394364], [62.0, 1.0557394847015162], [63.0, 1.0533765314701795], [64.0, 1.0491888538310508], [65.0, 1.0475757835110528], [66.0, 1.0444795838599643], [67.0, 1.0424434417885815], [68.0, 1.039404443333045], [69.0, 1.037123498394614], [70.0, 1.0337821669516547], [71.0, 1.0328363682887758], [72.0, 1.0308338068998082], [73.0, 1.0298385655832758], [74.0, 1.0283773033696257], [75.0, 1.027802742501999], [76.0, 1.02391771075658], [77.0, 1.0220381223752348], [78.0, 1.0186526403183196], [79.0, 1.0182202669823972], [80.0, 1.01566859223344], [81.0, 1.01355517466424], [82.0, 1.012717626875316], [83.0, 1.0116080614898264], [84.0, 1.009624627572526], [85.0, 1.0080715613076057], [86.0, 1.0038838776787335], [87.0, 1.002550422530945], [88.0, 1.0011155718983245], [89.0, 1.0004901311647723], [90.0, 0.9975713180543684], [91.0, 0.9969912067707613], [92.0, 0.9917229568515653], [93.0, 0.9899386395740184], [94.0, 0.9894505812972252], [95.0, 0.9883458844764521], [96.0, 0.9847979902702476], [97.0, 0.9828553710648109], [98.0, 0.98219125373114], [99.0, 0.9808463272577089], [100.0, 0.9771293323517563], [101.0, 0.9768179714240128], [102.0, 0.9725052673634231], [103.0, 0.9691840091150631], [104.0, 0.966042414082371], [105.0, 0.9649211554738639], [106.0, 0.9626427981374229], [107.0, 0.9598893349099412], [108.0, 0.9588165003295667], [109.0, 0.956208607086908], [110.0, 0.9528557208329452], [111.0, 0.9518124358189353], [112.0, 0.9485822541685258], [113.0, 0.944590961383397], [114.0, 0.9406353428390931], [115.0, 0.9370149661057773], [116.0, 0.9328491571581834], [117.0, 0.930103369336051], [118.0, 0.9231107284531164], [119.0, 0.9187935757768372], [120.0, 0.9141798254192028], [121.0, 0.9123736277701688], [122.0, 0.9119443330510347], [123.0, 0.9085722862222256], [124.0, 0.9070694534234754], [125.0, 0.9054875274143135], [126.0, 0.9030800276194679], [127.0, 0.8981033014832931], [128.0, 0.8943205387823496], [129.0, 0.8928731932935295], [130.0, 0.8886258123571492], [131.0, 0.8847597994010928], [132.0, 0.8792620266794916], [133.0, 0.873885163063518], [134.0, 0.8699147532683519], [135.0, 0.8663296055117897], [136.0, 0.8578193401741194], [137.0, 0.8487112868184915], [138.0, 0.8435716482001728], [139.0, 0.8329862020396979], [140.0, 0.8222621073296892], [141.0, 0.8042526290545423], [142.0, 0.7983228229125783], [143.0, 0.784463634892824], [144.0, 0.7783698521264554], [145.0, 0.7694484981638684], [146.0, 0.7486829215487233], [147.0, 0.7407345727141238], [148.0, 0.7400989315122968], [149.0, 0.7368279137244057], [150.0, 0.733726955236806], [151.0, 0.7269819779643645], [152.0, 0.7233508283973208], [153.0, 0.722040085923073], [154.0, 0.711730914967166], [155.0, 0.7051424082429957], [156.0, 0.6893882218149942], [157.0, 0.6711625856886201], [158.0, 0.6594335689185311], [159.0, 0.635648616242941], [160.0, 0.6135574192124026], [161.0, 0.5727250108997626], [162.0, 0.5568431863456136], [163.0, 0.5217742627599448], [164.0, 0.48534614900193], [165.0, 0.4794110274891809], [166.0, 0.4756506470889936], [167.0, 0.47224748038863573], [168.0, 0.4600351833150165], [169.0, 0.45655851334874986], [170.0, 0.4522480023458522], [171.0, 0.45135536517056807], [172.0, 0.4475243066463468], [173.0, 0.4071924205788809], [174.0, 0.4003630541264404], [175.0, 0.3701892072246591], [176.0, 0.34603027965830796], [177.0, 0.3394443305560339], [178.0, 0.29361349426579475], [179.0, 0.2822746375999936], [180.0, 0.21200327790381562], [181.0, 0.1759809343127573], [182.0, 0.14430724444516976], [183.0, 0.12386939420733072], [184.0, 0.08233732882629448], [185.0, 0.07874397698335996], [186.0, 0.07765284829026635], [187.0, 0.07723522468308773], [188.0, 0.07688009445523704], [189.0, 0.07645630397636892], [190.0, 0.07627932048736379], [191.0, 0.0755187295910804], [192.0, 0.07507586323700682], [193.0, 0.07155842142714873], [194.0, 0.06820614574465898], [195.0, 0.06204105797322983], [196.0, 0.05387350690939758], [197.0, 0.05289279474603526], [198.0, 0.051634500390671884], [199.0, 0.050967611825650704], [200.0, 0.05030279027500172], [201.0, 0.049362245511248785], [202.0, 0.04882259412117724], [203.0, 0.04736553963167591], [204.0, 0.016451200096332837], [205.0, 1.6403234603144918e-30], [206.0, 4.710607728861684e-31], [207.0, 3.3140199817776736e-31], [208.0, 1.9878473996854754e-31], [209.0, 1.6162710160562987e-31], [210.0, 1.4804591904391972e-31], [211.0, 9.46062641971616e-32], [212.0, 7.810065887840307e-32], [213.0, 7.497412280933759e-32], [214.0, 3.1818983680684223e-32], [215.0, 3.1818983680684223e-32], [216.0, 1.288270983491311e-32], [217.0, 1.2275273127911376e-32], [218.0, 9.14267400910103e-33]]}, \"id\": \"el2696140568100433488\"});\n",
       "      });\n",
       "    });\n",
       "}else{\n",
       "    // require.js not available: dynamically load d3 & mpld3\n",
       "    mpld3_load_lib(\"https://mpld3.github.io/js/d3.v3.min.js\", function(){\n",
       "         mpld3_load_lib(\"https://mpld3.github.io/js/mpld3.v0.2.js\", function(){\n",
       "                 \n",
       "                 mpld3.draw_figure(\"fig_el26961405681004334888153751092\", {\"axes\": [{\"xlim\": [0.0, 218.0], \"yscale\": \"linear\", \"axesbg\": \"#FFFFFF\", \"texts\": [{\"v_baseline\": \"hanging\", \"h_anchor\": \"middle\", \"color\": \"#000000\", \"text\": \"n_components\", \"coordinates\": \"axes\", \"zorder\": 3, \"alpha\": 1, \"fontsize\": 10.0, \"position\": [0.5, -0.1190476190476191], \"rotation\": -0.0, \"id\": \"el2696140568100384720\"}, {\"v_baseline\": \"auto\", \"h_anchor\": \"middle\", \"color\": \"#000000\", \"text\": \"explained_variance_\", \"coordinates\": \"axes\", \"zorder\": 3, \"alpha\": 1, \"fontsize\": 10.0, \"position\": [-0.076450892857142849, 0.5], \"rotation\": -90.0, \"id\": \"el2696140568100122320\"}], \"zoomable\": true, \"images\": [], \"xdomain\": [0.0, 218.0], \"ylim\": [9.1426740091010302e-33, 8.149185057152966], \"paths\": [], \"sharey\": [], \"sharex\": [], \"axesbgalpha\": null, \"axes\": [{\"scale\": \"linear\", \"tickformat\": null, \"grid\": {\"gridOn\": false}, \"fontsize\": 10.0, \"position\": \"bottom\", \"nticks\": 6, \"tickvalues\": null}, {\"scale\": \"linear\", \"tickformat\": null, \"grid\": {\"gridOn\": false}, \"fontsize\": 10.0, \"position\": \"left\", \"nticks\": 10, \"tickvalues\": null}], \"lines\": [{\"color\": \"#0000FF\", \"yindex\": 1, \"coordinates\": \"data\", \"dasharray\": \"10,0\", \"zorder\": 2, \"alpha\": 1, \"xindex\": 0, \"linewidth\": 2.0, \"data\": \"data01\", \"id\": \"el2696140568100989968\"}], \"markers\": [], \"id\": \"el2696140568100381584\", \"ydomain\": [9.1426740091010302e-33, 8.149185057152966], \"collections\": [], \"xscale\": \"linear\", \"bbox\": [0.20000000000000001, 0.20000000000000001, 0.69999999999999996, 0.69999999999999996]}], \"height\": 240.0, \"width\": 320.0, \"plugins\": [{\"type\": \"reset\"}, {\"enabled\": false, \"button\": true, \"type\": \"zoom\"}, {\"enabled\": false, \"button\": true, \"type\": \"boxzoom\"}], \"data\": {\"data01\": [[0.0, 8.149185057152966], [1.0, 5.894113669493637], [2.0, 4.3679534705122425], [3.0, 3.914207757353311], [4.0, 3.8764300151201656], [5.0, 3.8439194918007646], [6.0, 3.8072253085930314], [7.0, 3.789555426491603], [8.0, 3.767983145890411], [9.0, 3.7539886324730705], [10.0, 3.7403743905598277], [11.0, 2.795263751939266], [12.0, 2.1244867823454805], [13.0, 1.701988738608703], [14.0, 1.6409844557648756], [15.0, 1.5419368585742637], [16.0, 1.4648909851419936], [17.0, 1.408477709618382], [18.0, 1.3668702967799287], [19.0, 1.3543513840928547], [20.0, 1.307744409126777], [21.0, 1.2884119471571278], [22.0, 1.2845358415874302], [23.0, 1.2738326037288876], [24.0, 1.26815096060797], [25.0, 1.2581641213827455], [26.0, 1.2439978183243536], [27.0, 1.2410010736957646], [28.0, 1.2334655550483342], [29.0, 1.2312738059684305], [30.0, 1.2291250833906915], [31.0, 1.224157919265399], [32.0, 1.217762892002753], [33.0, 1.2145525174379224], [34.0, 1.2043618296988794], [35.0, 1.1966109045560154], [36.0, 1.1896213935916065], [37.0, 1.179705910726117], [38.0, 1.1769677723199907], [39.0, 1.1720702728189947], [40.0, 1.162379088965484], [41.0, 1.146252903913197], [42.0, 1.132366614490787], [43.0, 1.1299809552183604], [44.0, 1.1292243715044978], [45.0, 1.1204033491124965], [46.0, 1.114073067255821], [47.0, 1.108515380236819], [48.0, 1.1041373007973807], [49.0, 1.0975938249926336], [50.0, 1.092288955846302], [51.0, 1.0907504306109563], [52.0, 1.084908754817757], [53.0, 1.0840706447761561], [54.0, 1.0832255200332639], [55.0, 1.078681059031188], [56.0, 1.07631368506946], [57.0, 1.0713617555604429], [58.0, 1.0679409574139471], [59.0, 1.0663719056287817], [60.0, 1.0618573093143244], [61.0, 1.057323083394364], [62.0, 1.0557394847015162], [63.0, 1.0533765314701795], [64.0, 1.0491888538310508], [65.0, 1.0475757835110528], [66.0, 1.0444795838599643], [67.0, 1.0424434417885815], [68.0, 1.039404443333045], [69.0, 1.037123498394614], [70.0, 1.0337821669516547], [71.0, 1.0328363682887758], [72.0, 1.0308338068998082], [73.0, 1.0298385655832758], [74.0, 1.0283773033696257], [75.0, 1.027802742501999], [76.0, 1.02391771075658], [77.0, 1.0220381223752348], [78.0, 1.0186526403183196], [79.0, 1.0182202669823972], [80.0, 1.01566859223344], [81.0, 1.01355517466424], [82.0, 1.012717626875316], [83.0, 1.0116080614898264], [84.0, 1.009624627572526], [85.0, 1.0080715613076057], [86.0, 1.0038838776787335], [87.0, 1.002550422530945], [88.0, 1.0011155718983245], [89.0, 1.0004901311647723], [90.0, 0.9975713180543684], [91.0, 0.9969912067707613], [92.0, 0.9917229568515653], [93.0, 0.9899386395740184], [94.0, 0.9894505812972252], [95.0, 0.9883458844764521], [96.0, 0.9847979902702476], [97.0, 0.9828553710648109], [98.0, 0.98219125373114], [99.0, 0.9808463272577089], [100.0, 0.9771293323517563], [101.0, 0.9768179714240128], [102.0, 0.9725052673634231], [103.0, 0.9691840091150631], [104.0, 0.966042414082371], [105.0, 0.9649211554738639], [106.0, 0.9626427981374229], [107.0, 0.9598893349099412], [108.0, 0.9588165003295667], [109.0, 0.956208607086908], [110.0, 0.9528557208329452], [111.0, 0.9518124358189353], [112.0, 0.9485822541685258], [113.0, 0.944590961383397], [114.0, 0.9406353428390931], [115.0, 0.9370149661057773], [116.0, 0.9328491571581834], [117.0, 0.930103369336051], [118.0, 0.9231107284531164], [119.0, 0.9187935757768372], [120.0, 0.9141798254192028], [121.0, 0.9123736277701688], [122.0, 0.9119443330510347], [123.0, 0.9085722862222256], [124.0, 0.9070694534234754], [125.0, 0.9054875274143135], [126.0, 0.9030800276194679], [127.0, 0.8981033014832931], [128.0, 0.8943205387823496], [129.0, 0.8928731932935295], [130.0, 0.8886258123571492], [131.0, 0.8847597994010928], [132.0, 0.8792620266794916], [133.0, 0.873885163063518], [134.0, 0.8699147532683519], [135.0, 0.8663296055117897], [136.0, 0.8578193401741194], [137.0, 0.8487112868184915], [138.0, 0.8435716482001728], [139.0, 0.8329862020396979], [140.0, 0.8222621073296892], [141.0, 0.8042526290545423], [142.0, 0.7983228229125783], [143.0, 0.784463634892824], [144.0, 0.7783698521264554], [145.0, 0.7694484981638684], [146.0, 0.7486829215487233], [147.0, 0.7407345727141238], [148.0, 0.7400989315122968], [149.0, 0.7368279137244057], [150.0, 0.733726955236806], [151.0, 0.7269819779643645], [152.0, 0.7233508283973208], [153.0, 0.722040085923073], [154.0, 0.711730914967166], [155.0, 0.7051424082429957], [156.0, 0.6893882218149942], [157.0, 0.6711625856886201], [158.0, 0.6594335689185311], [159.0, 0.635648616242941], [160.0, 0.6135574192124026], [161.0, 0.5727250108997626], [162.0, 0.5568431863456136], [163.0, 0.5217742627599448], [164.0, 0.48534614900193], [165.0, 0.4794110274891809], [166.0, 0.4756506470889936], [167.0, 0.47224748038863573], [168.0, 0.4600351833150165], [169.0, 0.45655851334874986], [170.0, 0.4522480023458522], [171.0, 0.45135536517056807], [172.0, 0.4475243066463468], [173.0, 0.4071924205788809], [174.0, 0.4003630541264404], [175.0, 0.3701892072246591], [176.0, 0.34603027965830796], [177.0, 0.3394443305560339], [178.0, 0.29361349426579475], [179.0, 0.2822746375999936], [180.0, 0.21200327790381562], [181.0, 0.1759809343127573], [182.0, 0.14430724444516976], [183.0, 0.12386939420733072], [184.0, 0.08233732882629448], [185.0, 0.07874397698335996], [186.0, 0.07765284829026635], [187.0, 0.07723522468308773], [188.0, 0.07688009445523704], [189.0, 0.07645630397636892], [190.0, 0.07627932048736379], [191.0, 0.0755187295910804], [192.0, 0.07507586323700682], [193.0, 0.07155842142714873], [194.0, 0.06820614574465898], [195.0, 0.06204105797322983], [196.0, 0.05387350690939758], [197.0, 0.05289279474603526], [198.0, 0.051634500390671884], [199.0, 0.050967611825650704], [200.0, 0.05030279027500172], [201.0, 0.049362245511248785], [202.0, 0.04882259412117724], [203.0, 0.04736553963167591], [204.0, 0.016451200096332837], [205.0, 1.6403234603144918e-30], [206.0, 4.710607728861684e-31], [207.0, 3.3140199817776736e-31], [208.0, 1.9878473996854754e-31], [209.0, 1.6162710160562987e-31], [210.0, 1.4804591904391972e-31], [211.0, 9.46062641971616e-32], [212.0, 7.810065887840307e-32], [213.0, 7.497412280933759e-32], [214.0, 3.1818983680684223e-32], [215.0, 3.1818983680684223e-32], [216.0, 1.288270983491311e-32], [217.0, 1.2275273127911376e-32], [218.0, 9.14267400910103e-33]]}, \"id\": \"el2696140568100433488\"});\n",
       "            })\n",
       "         });\n",
       "}\n",
       "</script>"
      ],
      "text/plain": [
       "<matplotlib.figure.Figure at 0x7fd88fb16e50>"
      ]
     },
     "metadata": {},
     "output_type": "display_data"
    }
   ],
   "source": [
    "plt.figure(1, figsize=(4, 3))\n",
    "plt.clf()\n",
    "plt.axes([.2, .2, .7, .7])\n",
    "plt.plot(pca.explained_variance_, linewidth=2)\n",
    "plt.axis('tight')\n",
    "plt.xlabel('n_components')\n",
    "plt.ylabel('explained_variance_')"
   ]
  },
  {
   "cell_type": "code",
   "execution_count": 113,
   "metadata": {
    "collapsed": false
   },
   "outputs": [
    {
     "data": {
      "text/plain": [
       "LogisticRegression(C=0.0025, class_weight=None, dual=False,\n",
       "          fit_intercept=True, intercept_scaling=1, max_iter=100,\n",
       "          multi_class='ovr', n_jobs=-1, penalty='l2', random_state=1,\n",
       "          solver='liblinear', tol=0.0001, verbose=0, warm_start=False)"
      ]
     },
     "execution_count": 113,
     "metadata": {},
     "output_type": "execute_result"
    }
   ],
   "source": [
    "clf4=LogisticRegression(C=0.0025,penalty='l2',random_state=1, n_jobs=-1)\n",
    "clf4.fit(Reduced4train,Y)"
   ]
  },
  {
   "cell_type": "code",
   "execution_count": 114,
   "metadata": {
    "collapsed": false
   },
   "outputs": [],
   "source": [
    "Y_pred4 = clf4.predict_proba(Reduced4test)[:, 1]"
   ]
  },
  {
   "cell_type": "code",
   "execution_count": 115,
   "metadata": {
    "collapsed": false
   },
   "outputs": [
    {
     "data": {
      "text/plain": [
       "(17177,)"
      ]
     },
     "execution_count": 115,
     "metadata": {},
     "output_type": "execute_result"
    }
   ],
   "source": [
    "Y_pred4.shape"
   ]
  },
  {
   "cell_type": "code",
   "execution_count": 81,
   "metadata": {
    "collapsed": true
   },
   "outputs": [],
   "source": [
    "test['radiant_win']=Y_pred4"
   ]
  },
  {
   "cell_type": "code",
   "execution_count": 82,
   "metadata": {
    "collapsed": true
   },
   "outputs": [],
   "source": [
    "test['radiant_win'].to_csv('prediction_result_6.csv')"
   ]
  },
  {
   "cell_type": "raw",
   "metadata": {
    "collapsed": false
   },
   "source": [
    "list(Reduced4testCols)"
   ]
  },
  {
   "cell_type": "code",
   "execution_count": 116,
   "metadata": {
    "collapsed": false
   },
   "outputs": [
    {
     "data": {
      "text/html": [
       "\n",
       "\n",
       "<style>\n",
       "\n",
       "</style>\n",
       "\n",
       "<div id=\"fig_el26961405679426583208738058525\"></div>\n",
       "<script>\n",
       "function mpld3_load_lib(url, callback){\n",
       "  var s = document.createElement('script');\n",
       "  s.src = url;\n",
       "  s.async = true;\n",
       "  s.onreadystatechange = s.onload = callback;\n",
       "  s.onerror = function(){console.warn(\"failed to load library \" + url);};\n",
       "  document.getElementsByTagName(\"head\")[0].appendChild(s);\n",
       "}\n",
       "\n",
       "if(typeof(mpld3) !== \"undefined\" && mpld3._mpld3IsLoaded){\n",
       "   // already loaded: just create the figure\n",
       "   !function(mpld3){\n",
       "       \n",
       "       mpld3.draw_figure(\"fig_el26961405679426583208738058525\", {\"axes\": [{\"xlim\": [0.0, 250.0], \"yscale\": \"linear\", \"axesbg\": \"#EEEEEE\", \"texts\": [], \"zoomable\": true, \"images\": [], \"xdomain\": [0.0, 250.0], \"ylim\": [-0.30000000000000004, 0.40000000000000002], \"paths\": [], \"sharey\": [], \"sharex\": [], \"axesbgalpha\": null, \"axes\": [{\"scale\": \"linear\", \"tickformat\": null, \"grid\": {\"gridOn\": false}, \"fontsize\": 10.0, \"position\": \"bottom\", \"nticks\": 6, \"tickvalues\": null}, {\"scale\": \"linear\", \"tickformat\": null, \"grid\": {\"gridOn\": false}, \"fontsize\": 10.0, \"position\": \"left\", \"nticks\": 10, \"tickvalues\": null}], \"lines\": [{\"color\": \"#FF0000\", \"yindex\": 1, \"coordinates\": \"data\", \"dasharray\": \"10,0\", \"zorder\": 2, \"alpha\": 1, \"xindex\": 0, \"linewidth\": 1.0, \"data\": \"data01\", \"id\": \"el2696140567943080336\"}], \"markers\": [{\"edgecolor\": \"#000000\", \"facecolor\": \"#FF0000\", \"edgewidth\": 0.5, \"yindex\": 1, \"coordinates\": \"data\", \"zorder\": 2, \"markerpath\": [[[0.0, 3.0], [0.7956093000000001, 3.0], [1.5587396123545605, 2.683901074764725], [2.121320343559643, 2.121320343559643], [2.683901074764725, 1.5587396123545605], [3.0, 0.7956093000000001], [3.0, 0.0], [3.0, -0.7956093000000001], [2.683901074764725, -1.5587396123545605], [2.121320343559643, -2.121320343559643], [1.5587396123545605, -2.683901074764725], [0.7956093000000001, -3.0], [0.0, -3.0], [-0.7956093000000001, -3.0], [-1.5587396123545605, -2.683901074764725], [-2.121320343559643, -2.121320343559643], [-2.683901074764725, -1.5587396123545605], [-3.0, -0.7956093000000001], [-3.0, 0.0], [-3.0, 0.7956093000000001], [-2.683901074764725, 1.5587396123545605], [-2.121320343559643, 2.121320343559643], [-1.5587396123545605, 2.683901074764725], [-0.7956093000000001, 3.0], [0.0, 3.0]], [\"M\", \"C\", \"C\", \"C\", \"C\", \"C\", \"C\", \"C\", \"C\", \"Z\"]], \"alpha\": 1, \"xindex\": 0, \"data\": \"data01\", \"id\": \"el2696140567943080336pts\"}], \"id\": \"el2696140567942659728\", \"ydomain\": [-0.30000000000000004, 0.40000000000000002], \"collections\": [], \"xscale\": \"linear\", \"bbox\": [0.125, 0.125, 0.77500000000000002, 0.77500000000000002]}], \"height\": 320.0, \"width\": 480.0, \"plugins\": [{\"type\": \"reset\"}, {\"enabled\": false, \"button\": true, \"type\": \"zoom\"}, {\"enabled\": false, \"button\": true, \"type\": \"boxzoom\"}, {\"voffset\": 10, \"labels\": [\"start_time\", \"r1_level\", \"r1_xp\", \"r1_gold\", \"r1_lh\", \"r1_kills\", \"r1_deaths\", \"r1_items\", \"r2_level\", \"r2_xp\", \"r2_gold\", \"r2_lh\", \"r2_kills\", \"r2_deaths\", \"r2_items\", \"r3_level\", \"r3_xp\", \"r3_gold\", \"r3_lh\", \"r3_kills\", \"r3_deaths\", \"r3_items\", \"r4_level\", \"r4_xp\", \"r4_gold\", \"r4_lh\", \"r4_kills\", \"r4_deaths\", \"r4_items\", \"r5_level\", \"r5_xp\", \"r5_gold\", \"r5_lh\", \"r5_kills\", \"r5_deaths\", \"r5_items\", \"d1_level\", \"d1_xp\", \"d1_gold\", \"d1_lh\", \"d1_kills\", \"d1_deaths\", \"d1_items\", \"d2_level\", \"d2_xp\", \"d2_gold\", \"d2_lh\", \"d2_kills\", \"d2_deaths\", \"d2_items\", \"d3_level\", \"d3_xp\", \"d3_gold\", \"d3_lh\", \"d3_kills\", \"d3_deaths\", \"d3_items\", \"d4_level\", \"d4_xp\", \"d4_gold\", \"d4_lh\", \"d4_kills\", \"d4_deaths\", \"d4_items\", \"d5_level\", \"d5_xp\", \"d5_gold\", \"d5_lh\", \"d5_kills\", \"d5_deaths\", \"d5_items\", \"first_blood_time\", \"first_blood_team\", \"first_blood_player1\", \"first_blood_player2\", \"radiant_bottle_time\", \"radiant_courier_time\", \"radiant_flying_courier_time\", \"radiant_tpscroll_count\", \"radiant_boots_count\", \"radiant_ward_observer_count\", \"radiant_ward_sentry_count\", \"radiant_first_ward_time\", \"dire_bottle_time\", \"dire_courier_time\", \"dire_flying_courier_time\", \"dire_tpscroll_count\", \"dire_boots_count\", \"dire_ward_observer_count\", \"dire_ward_sentry_count\", \"dire_first_ward_time\", \"r1_hero\", \"r2_hero\", \"r3_hero\", \"r4_hero\", \"r5_hero\", \"r6_hero\", \"r7_hero\", \"r8_hero\", \"r9_hero\", \"r10_hero\", \"r11_hero\", \"r12_hero\", \"r13_hero\", \"r14_hero\", \"r15_hero\", \"r16_hero\", \"r17_hero\", \"r18_hero\", \"r19_hero\", \"r20_hero\", \"r21_hero\", \"r22_hero\", \"r23_hero\", \"r24_hero\", \"r25_hero\", \"r26_hero\", \"r27_hero\", \"r28_hero\", \"r29_hero\", \"r30_hero\", \"r31_hero\", \"r32_hero\", \"r33_hero\", \"r34_hero\", \"r35_hero\", \"r36_hero\", \"r37_hero\", \"r38_hero\", \"r39_hero\", \"r40_hero\", \"r41_hero\", \"r42_hero\", \"r43_hero\", \"r44_hero\", \"r45_hero\", \"r46_hero\", \"r47_hero\", \"r48_hero\", \"r49_hero\", \"r50_hero\", \"r51_hero\", \"r52_hero\", \"r53_hero\", \"r54_hero\", \"r55_hero\", \"r56_hero\", \"r57_hero\", \"r58_hero\", \"r59_hero\", \"r60_hero\", \"r61_hero\", \"r62_hero\", \"r63_hero\", \"r64_hero\", \"r65_hero\", \"r66_hero\", \"r67_hero\", \"r68_hero\", \"r69_hero\", \"r70_hero\", \"r71_hero\", \"r72_hero\", \"r73_hero\", \"r74_hero\", \"r75_hero\", \"r76_hero\", \"r77_hero\", \"r78_hero\", \"r79_hero\", \"r80_hero\", \"r81_hero\", \"r82_hero\", \"r83_hero\", \"r84_hero\", \"r85_hero\", \"r86_hero\", \"r87_hero\", \"r88_hero\", \"r89_hero\", \"r90_hero\", \"r91_hero\", \"r92_hero\", \"r93_hero\", \"r94_hero\", \"r95_hero\", \"r96_hero\", \"r97_hero\", \"r98_hero\", \"r99_hero\", \"r100_hero\", \"r101_hero\", \"r102_hero\", \"r103_hero\", \"r104_hero\", \"r105_hero\", \"r106_hero\", \"r107_hero\", \"r108_hero\", \"r109_hero\", \"r110_hero\", \"r111_hero\", \"r112_hero\", \"r113_hero\", \"lobby_type_0\", \"lobby_type_1\", \"lobby_type_7\", \"cumKillsRD_D2\", \"cumKillsRD_D\", \"GoldRD_D2\", \"GoldRD_D\", \"XpRD_D2\", \"XpRD_LD\"], \"hoffset\": 0, \"location\": \"mouse\", \"type\": \"tooltip\", \"id\": \"el2696140567943080336pts\"}], \"data\": {\"data01\": [[0.0, 0.04343866501342595], [1.0, -0.001705142111257298], [2.0, 0.02084503409787244], [3.0, 0.08466054124526572], [4.0, 0.05079288063156598], [5.0, -0.00509112417224215], [6.0, -0.026397898571421347], [7.0, 0.03786239524077758], [8.0, 0.01918302492327302], [9.0, 0.006202300914325171], [10.0, 0.08185628707607753], [11.0, 0.05687549841535872], [12.0, -0.010282447379282003], [13.0, -0.029249477204991152], [14.0, 0.02328291574307087], [15.0, 0.006577227863646518], [16.0, 0.01737180869265604], [17.0, 0.05432699759003162], [18.0, 0.05800243628325038], [19.0, -0.007988424232712885], [20.0, -0.031279345539883326], [21.0, 0.04468620633414526], [22.0, 0.012368212807059159], [23.0, 0.032872350552853535], [24.0, 0.055162377494871434], [25.0, 0.057934639114027145], [26.0, -0.011307217344837204], [27.0, -0.037716417595541535], [28.0, 0.03398720286802103], [29.0, 0.035772313601415466], [30.0, 0.013329412275467526], [31.0, 0.06101564324380741], [32.0, 0.043677883789217234], [33.0, -0.012094868945103995], [34.0, -0.03634134542467395], [35.0, 0.04852170028705332], [36.0, -0.013168142117334584], [37.0, -0.012388860539733336], [38.0, -0.08150778524271493], [39.0, -0.05325112452364768], [40.0, 0.012434403364277938], [41.0, 0.03357293795500361], [42.0, -0.030589057175367817], [43.0, -0.006983283344704031], [44.0, -0.024355307166050316], [45.0, -0.09191816101268903], [46.0, -0.056185907242755816], [47.0, 0.014673807805073437], [48.0, 0.027549859930011474], [49.0, -0.041074135350320895], [50.0, -0.0010703429739588799], [51.0, -0.044070146214212236], [52.0, -0.03679420300789202], [53.0, -0.06698254579256653], [54.0, -0.0015906587822146232], [55.0, 0.022845883309598157], [56.0, -0.03974269347807829], [57.0, -0.01944998662406794], [58.0, -0.004503243133027334], [59.0, -0.07610839811798041], [60.0, -0.05645346967908379], [61.0, 0.010204710919884875], [62.0, 0.028438358994540152], [63.0, -0.04229466277683008], [64.0, -0.0007257586917263519], [65.0, -0.04182655703745765], [66.0, -0.05661083396585451], [67.0, -0.06243958861870004], [68.0, 0.00025018381715973984], [69.0, 0.0413637731684287], [70.0, -0.04430441006329099], [71.0, 0.004546798803041796], [72.0, 0.0033841188248591096], [73.0, -0.002329321035437579], [74.0, -0.037907018936319876], [75.0, -0.003998686927639658], [76.0, -0.030975112773046886], [77.0, 0.03665170165622784], [78.0, -0.041654370165183405], [79.0, 0.02622663109434148], [80.0, -0.0076993738950903185], [81.0, -0.000823744233946271], [82.0, -0.040990739044905716], [83.0, 0.005958778220305869], [84.0, 0.019422505471510424], [85.0, -0.010421586682746018], [86.0, 0.0410812665255505], [87.0, -0.0174554432807253], [88.0, 0.007226499303826192], [89.0, -0.006525361618573388], [90.0, 0.03249148563683502], [91.0, 0.0], [92.0, 0.036633668758320824], [93.0, -0.13539816057492163], [94.0, -0.06477779260323838], [95.0, -0.021397585508479557], [96.0, 0.02662737883192611], [97.0, 0.029112667702740683], [98.0, 0.13856985260892923], [99.0, 0.05507776193121345], [100.0, -0.007614285713023931], [101.0, -0.008658463073237685], [102.0, 0.047681787935845904], [103.0, -0.021620010224688582], [104.0, -0.09319853259409584], [105.0, 0.008891852639581877], [106.0, -0.034500641584801185], [107.0, -0.0018185020282853747], [108.0, -0.026793355397504024], [109.0, 0.015565626301343258], [110.0, 0.02249737336897395], [111.0, 0.008953065884176471], [112.0, -0.11248998050740967], [113.0, 0.07601237130926362], [114.0, -0.001209149534553118], [115.0, 0.0], [116.0, -0.15283920438631568], [117.0, -0.07834216802802536], [118.0, -0.0098188803231899], [119.0, 0.08872090297557292], [120.0, -0.006939068896118171], [121.0, 0.019002486586566798], [122.0, 0.026647554186052202], [123.0, 0.045883753935802574], [124.0, -0.07263095430602783], [125.0, -0.02935724314764153], [126.0, -0.018881192475443797], [127.0, 0.02200516414352026], [128.0, 0.011156860877373666], [129.0, 0.03044592713969998], [130.0, -0.21150511767179528], [131.0, 0.03717171354800524], [132.0, -0.04451931505565348], [133.0, 0.10329772966718742], [134.0, -0.024501406587228658], [135.0, 0.0010703826734452355], [136.0, -0.001314384328804943], [137.0, -0.016777934697237703], [138.0, -0.11587665166921923], [139.0, 0.01694167730727831], [140.0, 0.03095874160639729], [141.0, -0.01426333608799834], [142.0, 0.019816119055028888], [143.0, 0.049169423533978705], [144.0, -0.03581691068829402], [145.0, -0.0276640773159885], [146.0, -0.07824065661237388], [147.0, -0.011058269638459533], [148.0, 0.12410782832855408], [149.0, -0.04020983920321127], [150.0, 0.01189667397444962], [151.0, 0.01045991699616193], [152.0, -0.05301784895393844], [153.0, 0.04848964808373938], [154.0, -0.02190240651714622], [155.0, -0.017205322721245763], [156.0, -0.013070626474708243], [157.0, -0.020298434143483743], [158.0, 0.16360142276400755], [159.0, -0.010857349496940248], [160.0, 0.08201298779034745], [161.0, 0.04892727002029711], [162.0, 0.12190551663318878], [163.0, 0.009935433918045137], [164.0, 0.0530287573812335], [165.0, -0.007948950509785993], [166.0, -0.02325367280742661], [167.0, -0.06255482726339454], [168.0, 0.033069149942552764], [169.0, -0.0017261469318314477], [170.0, -0.03260185228497803], [171.0, -0.012533182574527717], [172.0, 0.003181277537282552], [173.0, 0.03398722230298177], [174.0, 0.015914392389184247], [175.0, -0.008439243767245566], [176.0, 0.04589054257887874], [177.0, -0.06471035363964749], [178.0, -0.03491803295446905], [179.0, 0.005638733748987111], [180.0, -0.011929174694570076], [181.0, -0.009691393829634649], [182.0, 0.035677201688073305], [183.0, 0.02195100255344405], [184.0, 0.026816053943929035], [185.0, 0.037065458696058956], [186.0, -0.019639458333663838], [187.0, 0.01090799927261999], [188.0, -0.03427482365566722], [189.0, -0.02260391885314092], [190.0, -0.06644060716958644], [191.0, 0.05738753385560041], [192.0, -0.07929972982113749], [193.0, 0.06676794492338915], [194.0, 0.01875417562269879], [195.0, -0.04875431758692161], [196.0, -0.0023737428859068543], [197.0, 0.01272551940603005], [198.0, 0.0], [199.0, 0.0], [200.0, -0.0063082813412410335], [201.0, 0.04393786207153275], [202.0, 0.0], [203.0, -0.003213849525892959], [204.0, -0.03497502471790447], [205.0, 0.027464167932828878], [206.0, -0.003911300354477009], [207.0, -0.006648233324910291], [208.0, 0.3025258300365734], [209.0, 0.016521358500612513], [210.0, 0.12388925004710116], [211.0, 0.019371416462265527], [212.0, 0.2629359504866758]]}, \"id\": \"el2696140567942658320\"});\n",
       "   }(mpld3);\n",
       "}else if(typeof define === \"function\" && define.amd){\n",
       "   // require.js is available: use it to load d3/mpld3\n",
       "   require.config({paths: {d3: \"https://mpld3.github.io/js/d3.v3.min\"}});\n",
       "   require([\"d3\"], function(d3){\n",
       "      window.d3 = d3;\n",
       "      mpld3_load_lib(\"https://mpld3.github.io/js/mpld3.v0.2.js\", function(){\n",
       "         \n",
       "         mpld3.draw_figure(\"fig_el26961405679426583208738058525\", {\"axes\": [{\"xlim\": [0.0, 250.0], \"yscale\": \"linear\", \"axesbg\": \"#EEEEEE\", \"texts\": [], \"zoomable\": true, \"images\": [], \"xdomain\": [0.0, 250.0], \"ylim\": [-0.30000000000000004, 0.40000000000000002], \"paths\": [], \"sharey\": [], \"sharex\": [], \"axesbgalpha\": null, \"axes\": [{\"scale\": \"linear\", \"tickformat\": null, \"grid\": {\"gridOn\": false}, \"fontsize\": 10.0, \"position\": \"bottom\", \"nticks\": 6, \"tickvalues\": null}, {\"scale\": \"linear\", \"tickformat\": null, \"grid\": {\"gridOn\": false}, \"fontsize\": 10.0, \"position\": \"left\", \"nticks\": 10, \"tickvalues\": null}], \"lines\": [{\"color\": \"#FF0000\", \"yindex\": 1, \"coordinates\": \"data\", \"dasharray\": \"10,0\", \"zorder\": 2, \"alpha\": 1, \"xindex\": 0, \"linewidth\": 1.0, \"data\": \"data01\", \"id\": \"el2696140567943080336\"}], \"markers\": [{\"edgecolor\": \"#000000\", \"facecolor\": \"#FF0000\", \"edgewidth\": 0.5, \"yindex\": 1, \"coordinates\": \"data\", \"zorder\": 2, \"markerpath\": [[[0.0, 3.0], [0.7956093000000001, 3.0], [1.5587396123545605, 2.683901074764725], [2.121320343559643, 2.121320343559643], [2.683901074764725, 1.5587396123545605], [3.0, 0.7956093000000001], [3.0, 0.0], [3.0, -0.7956093000000001], [2.683901074764725, -1.5587396123545605], [2.121320343559643, -2.121320343559643], [1.5587396123545605, -2.683901074764725], [0.7956093000000001, -3.0], [0.0, -3.0], [-0.7956093000000001, -3.0], [-1.5587396123545605, -2.683901074764725], [-2.121320343559643, -2.121320343559643], [-2.683901074764725, -1.5587396123545605], [-3.0, -0.7956093000000001], [-3.0, 0.0], [-3.0, 0.7956093000000001], [-2.683901074764725, 1.5587396123545605], [-2.121320343559643, 2.121320343559643], [-1.5587396123545605, 2.683901074764725], [-0.7956093000000001, 3.0], [0.0, 3.0]], [\"M\", \"C\", \"C\", \"C\", \"C\", \"C\", \"C\", \"C\", \"C\", \"Z\"]], \"alpha\": 1, \"xindex\": 0, \"data\": \"data01\", \"id\": \"el2696140567943080336pts\"}], \"id\": \"el2696140567942659728\", \"ydomain\": [-0.30000000000000004, 0.40000000000000002], \"collections\": [], \"xscale\": \"linear\", \"bbox\": [0.125, 0.125, 0.77500000000000002, 0.77500000000000002]}], \"height\": 320.0, \"width\": 480.0, \"plugins\": [{\"type\": \"reset\"}, {\"enabled\": false, \"button\": true, \"type\": \"zoom\"}, {\"enabled\": false, \"button\": true, \"type\": \"boxzoom\"}, {\"voffset\": 10, \"labels\": [\"start_time\", \"r1_level\", \"r1_xp\", \"r1_gold\", \"r1_lh\", \"r1_kills\", \"r1_deaths\", \"r1_items\", \"r2_level\", \"r2_xp\", \"r2_gold\", \"r2_lh\", \"r2_kills\", \"r2_deaths\", \"r2_items\", \"r3_level\", \"r3_xp\", \"r3_gold\", \"r3_lh\", \"r3_kills\", \"r3_deaths\", \"r3_items\", \"r4_level\", \"r4_xp\", \"r4_gold\", \"r4_lh\", \"r4_kills\", \"r4_deaths\", \"r4_items\", \"r5_level\", \"r5_xp\", \"r5_gold\", \"r5_lh\", \"r5_kills\", \"r5_deaths\", \"r5_items\", \"d1_level\", \"d1_xp\", \"d1_gold\", \"d1_lh\", \"d1_kills\", \"d1_deaths\", \"d1_items\", \"d2_level\", \"d2_xp\", \"d2_gold\", \"d2_lh\", \"d2_kills\", \"d2_deaths\", \"d2_items\", \"d3_level\", \"d3_xp\", \"d3_gold\", \"d3_lh\", \"d3_kills\", \"d3_deaths\", \"d3_items\", \"d4_level\", \"d4_xp\", \"d4_gold\", \"d4_lh\", \"d4_kills\", \"d4_deaths\", \"d4_items\", \"d5_level\", \"d5_xp\", \"d5_gold\", \"d5_lh\", \"d5_kills\", \"d5_deaths\", \"d5_items\", \"first_blood_time\", \"first_blood_team\", \"first_blood_player1\", \"first_blood_player2\", \"radiant_bottle_time\", \"radiant_courier_time\", \"radiant_flying_courier_time\", \"radiant_tpscroll_count\", \"radiant_boots_count\", \"radiant_ward_observer_count\", \"radiant_ward_sentry_count\", \"radiant_first_ward_time\", \"dire_bottle_time\", \"dire_courier_time\", \"dire_flying_courier_time\", \"dire_tpscroll_count\", \"dire_boots_count\", \"dire_ward_observer_count\", \"dire_ward_sentry_count\", \"dire_first_ward_time\", \"r1_hero\", \"r2_hero\", \"r3_hero\", \"r4_hero\", \"r5_hero\", \"r6_hero\", \"r7_hero\", \"r8_hero\", \"r9_hero\", \"r10_hero\", \"r11_hero\", \"r12_hero\", \"r13_hero\", \"r14_hero\", \"r15_hero\", \"r16_hero\", \"r17_hero\", \"r18_hero\", \"r19_hero\", \"r20_hero\", \"r21_hero\", \"r22_hero\", \"r23_hero\", \"r24_hero\", \"r25_hero\", \"r26_hero\", \"r27_hero\", \"r28_hero\", \"r29_hero\", \"r30_hero\", \"r31_hero\", \"r32_hero\", \"r33_hero\", \"r34_hero\", \"r35_hero\", \"r36_hero\", \"r37_hero\", \"r38_hero\", \"r39_hero\", \"r40_hero\", \"r41_hero\", \"r42_hero\", \"r43_hero\", \"r44_hero\", \"r45_hero\", \"r46_hero\", \"r47_hero\", \"r48_hero\", \"r49_hero\", \"r50_hero\", \"r51_hero\", \"r52_hero\", \"r53_hero\", \"r54_hero\", \"r55_hero\", \"r56_hero\", \"r57_hero\", \"r58_hero\", \"r59_hero\", \"r60_hero\", \"r61_hero\", \"r62_hero\", \"r63_hero\", \"r64_hero\", \"r65_hero\", \"r66_hero\", \"r67_hero\", \"r68_hero\", \"r69_hero\", \"r70_hero\", \"r71_hero\", \"r72_hero\", \"r73_hero\", \"r74_hero\", \"r75_hero\", \"r76_hero\", \"r77_hero\", \"r78_hero\", \"r79_hero\", \"r80_hero\", \"r81_hero\", \"r82_hero\", \"r83_hero\", \"r84_hero\", \"r85_hero\", \"r86_hero\", \"r87_hero\", \"r88_hero\", \"r89_hero\", \"r90_hero\", \"r91_hero\", \"r92_hero\", \"r93_hero\", \"r94_hero\", \"r95_hero\", \"r96_hero\", \"r97_hero\", \"r98_hero\", \"r99_hero\", \"r100_hero\", \"r101_hero\", \"r102_hero\", \"r103_hero\", \"r104_hero\", \"r105_hero\", \"r106_hero\", \"r107_hero\", \"r108_hero\", \"r109_hero\", \"r110_hero\", \"r111_hero\", \"r112_hero\", \"r113_hero\", \"lobby_type_0\", \"lobby_type_1\", \"lobby_type_7\", \"cumKillsRD_D2\", \"cumKillsRD_D\", \"GoldRD_D2\", \"GoldRD_D\", \"XpRD_D2\", \"XpRD_LD\"], \"hoffset\": 0, \"location\": \"mouse\", \"type\": \"tooltip\", \"id\": \"el2696140567943080336pts\"}], \"data\": {\"data01\": [[0.0, 0.04343866501342595], [1.0, -0.001705142111257298], [2.0, 0.02084503409787244], [3.0, 0.08466054124526572], [4.0, 0.05079288063156598], [5.0, -0.00509112417224215], [6.0, -0.026397898571421347], [7.0, 0.03786239524077758], [8.0, 0.01918302492327302], [9.0, 0.006202300914325171], [10.0, 0.08185628707607753], [11.0, 0.05687549841535872], [12.0, -0.010282447379282003], [13.0, -0.029249477204991152], [14.0, 0.02328291574307087], [15.0, 0.006577227863646518], [16.0, 0.01737180869265604], [17.0, 0.05432699759003162], [18.0, 0.05800243628325038], [19.0, -0.007988424232712885], [20.0, -0.031279345539883326], [21.0, 0.04468620633414526], [22.0, 0.012368212807059159], [23.0, 0.032872350552853535], [24.0, 0.055162377494871434], [25.0, 0.057934639114027145], [26.0, -0.011307217344837204], [27.0, -0.037716417595541535], [28.0, 0.03398720286802103], [29.0, 0.035772313601415466], [30.0, 0.013329412275467526], [31.0, 0.06101564324380741], [32.0, 0.043677883789217234], [33.0, -0.012094868945103995], [34.0, -0.03634134542467395], [35.0, 0.04852170028705332], [36.0, -0.013168142117334584], [37.0, -0.012388860539733336], [38.0, -0.08150778524271493], [39.0, -0.05325112452364768], [40.0, 0.012434403364277938], [41.0, 0.03357293795500361], [42.0, -0.030589057175367817], [43.0, -0.006983283344704031], [44.0, -0.024355307166050316], [45.0, -0.09191816101268903], [46.0, -0.056185907242755816], [47.0, 0.014673807805073437], [48.0, 0.027549859930011474], [49.0, -0.041074135350320895], [50.0, -0.0010703429739588799], [51.0, -0.044070146214212236], [52.0, -0.03679420300789202], [53.0, -0.06698254579256653], [54.0, -0.0015906587822146232], [55.0, 0.022845883309598157], [56.0, -0.03974269347807829], [57.0, -0.01944998662406794], [58.0, -0.004503243133027334], [59.0, -0.07610839811798041], [60.0, -0.05645346967908379], [61.0, 0.010204710919884875], [62.0, 0.028438358994540152], [63.0, -0.04229466277683008], [64.0, -0.0007257586917263519], [65.0, -0.04182655703745765], [66.0, -0.05661083396585451], [67.0, -0.06243958861870004], [68.0, 0.00025018381715973984], [69.0, 0.0413637731684287], [70.0, -0.04430441006329099], [71.0, 0.004546798803041796], [72.0, 0.0033841188248591096], [73.0, -0.002329321035437579], [74.0, -0.037907018936319876], [75.0, -0.003998686927639658], [76.0, -0.030975112773046886], [77.0, 0.03665170165622784], [78.0, -0.041654370165183405], [79.0, 0.02622663109434148], [80.0, -0.0076993738950903185], [81.0, -0.000823744233946271], [82.0, -0.040990739044905716], [83.0, 0.005958778220305869], [84.0, 0.019422505471510424], [85.0, -0.010421586682746018], [86.0, 0.0410812665255505], [87.0, -0.0174554432807253], [88.0, 0.007226499303826192], [89.0, -0.006525361618573388], [90.0, 0.03249148563683502], [91.0, 0.0], [92.0, 0.036633668758320824], [93.0, -0.13539816057492163], [94.0, -0.06477779260323838], [95.0, -0.021397585508479557], [96.0, 0.02662737883192611], [97.0, 0.029112667702740683], [98.0, 0.13856985260892923], [99.0, 0.05507776193121345], [100.0, -0.007614285713023931], [101.0, -0.008658463073237685], [102.0, 0.047681787935845904], [103.0, -0.021620010224688582], [104.0, -0.09319853259409584], [105.0, 0.008891852639581877], [106.0, -0.034500641584801185], [107.0, -0.0018185020282853747], [108.0, -0.026793355397504024], [109.0, 0.015565626301343258], [110.0, 0.02249737336897395], [111.0, 0.008953065884176471], [112.0, -0.11248998050740967], [113.0, 0.07601237130926362], [114.0, -0.001209149534553118], [115.0, 0.0], [116.0, -0.15283920438631568], [117.0, -0.07834216802802536], [118.0, -0.0098188803231899], [119.0, 0.08872090297557292], [120.0, -0.006939068896118171], [121.0, 0.019002486586566798], [122.0, 0.026647554186052202], [123.0, 0.045883753935802574], [124.0, -0.07263095430602783], [125.0, -0.02935724314764153], [126.0, -0.018881192475443797], [127.0, 0.02200516414352026], [128.0, 0.011156860877373666], [129.0, 0.03044592713969998], [130.0, -0.21150511767179528], [131.0, 0.03717171354800524], [132.0, -0.04451931505565348], [133.0, 0.10329772966718742], [134.0, -0.024501406587228658], [135.0, 0.0010703826734452355], [136.0, -0.001314384328804943], [137.0, -0.016777934697237703], [138.0, -0.11587665166921923], [139.0, 0.01694167730727831], [140.0, 0.03095874160639729], [141.0, -0.01426333608799834], [142.0, 0.019816119055028888], [143.0, 0.049169423533978705], [144.0, -0.03581691068829402], [145.0, -0.0276640773159885], [146.0, -0.07824065661237388], [147.0, -0.011058269638459533], [148.0, 0.12410782832855408], [149.0, -0.04020983920321127], [150.0, 0.01189667397444962], [151.0, 0.01045991699616193], [152.0, -0.05301784895393844], [153.0, 0.04848964808373938], [154.0, -0.02190240651714622], [155.0, -0.017205322721245763], [156.0, -0.013070626474708243], [157.0, -0.020298434143483743], [158.0, 0.16360142276400755], [159.0, -0.010857349496940248], [160.0, 0.08201298779034745], [161.0, 0.04892727002029711], [162.0, 0.12190551663318878], [163.0, 0.009935433918045137], [164.0, 0.0530287573812335], [165.0, -0.007948950509785993], [166.0, -0.02325367280742661], [167.0, -0.06255482726339454], [168.0, 0.033069149942552764], [169.0, -0.0017261469318314477], [170.0, -0.03260185228497803], [171.0, -0.012533182574527717], [172.0, 0.003181277537282552], [173.0, 0.03398722230298177], [174.0, 0.015914392389184247], [175.0, -0.008439243767245566], [176.0, 0.04589054257887874], [177.0, -0.06471035363964749], [178.0, -0.03491803295446905], [179.0, 0.005638733748987111], [180.0, -0.011929174694570076], [181.0, -0.009691393829634649], [182.0, 0.035677201688073305], [183.0, 0.02195100255344405], [184.0, 0.026816053943929035], [185.0, 0.037065458696058956], [186.0, -0.019639458333663838], [187.0, 0.01090799927261999], [188.0, -0.03427482365566722], [189.0, -0.02260391885314092], [190.0, -0.06644060716958644], [191.0, 0.05738753385560041], [192.0, -0.07929972982113749], [193.0, 0.06676794492338915], [194.0, 0.01875417562269879], [195.0, -0.04875431758692161], [196.0, -0.0023737428859068543], [197.0, 0.01272551940603005], [198.0, 0.0], [199.0, 0.0], [200.0, -0.0063082813412410335], [201.0, 0.04393786207153275], [202.0, 0.0], [203.0, -0.003213849525892959], [204.0, -0.03497502471790447], [205.0, 0.027464167932828878], [206.0, -0.003911300354477009], [207.0, -0.006648233324910291], [208.0, 0.3025258300365734], [209.0, 0.016521358500612513], [210.0, 0.12388925004710116], [211.0, 0.019371416462265527], [212.0, 0.2629359504866758]]}, \"id\": \"el2696140567942658320\"});\n",
       "      });\n",
       "    });\n",
       "}else{\n",
       "    // require.js not available: dynamically load d3 & mpld3\n",
       "    mpld3_load_lib(\"https://mpld3.github.io/js/d3.v3.min.js\", function(){\n",
       "         mpld3_load_lib(\"https://mpld3.github.io/js/mpld3.v0.2.js\", function(){\n",
       "                 \n",
       "                 mpld3.draw_figure(\"fig_el26961405679426583208738058525\", {\"axes\": [{\"xlim\": [0.0, 250.0], \"yscale\": \"linear\", \"axesbg\": \"#EEEEEE\", \"texts\": [], \"zoomable\": true, \"images\": [], \"xdomain\": [0.0, 250.0], \"ylim\": [-0.30000000000000004, 0.40000000000000002], \"paths\": [], \"sharey\": [], \"sharex\": [], \"axesbgalpha\": null, \"axes\": [{\"scale\": \"linear\", \"tickformat\": null, \"grid\": {\"gridOn\": false}, \"fontsize\": 10.0, \"position\": \"bottom\", \"nticks\": 6, \"tickvalues\": null}, {\"scale\": \"linear\", \"tickformat\": null, \"grid\": {\"gridOn\": false}, \"fontsize\": 10.0, \"position\": \"left\", \"nticks\": 10, \"tickvalues\": null}], \"lines\": [{\"color\": \"#FF0000\", \"yindex\": 1, \"coordinates\": \"data\", \"dasharray\": \"10,0\", \"zorder\": 2, \"alpha\": 1, \"xindex\": 0, \"linewidth\": 1.0, \"data\": \"data01\", \"id\": \"el2696140567943080336\"}], \"markers\": [{\"edgecolor\": \"#000000\", \"facecolor\": \"#FF0000\", \"edgewidth\": 0.5, \"yindex\": 1, \"coordinates\": \"data\", \"zorder\": 2, \"markerpath\": [[[0.0, 3.0], [0.7956093000000001, 3.0], [1.5587396123545605, 2.683901074764725], [2.121320343559643, 2.121320343559643], [2.683901074764725, 1.5587396123545605], [3.0, 0.7956093000000001], [3.0, 0.0], [3.0, -0.7956093000000001], [2.683901074764725, -1.5587396123545605], [2.121320343559643, -2.121320343559643], [1.5587396123545605, -2.683901074764725], [0.7956093000000001, -3.0], [0.0, -3.0], [-0.7956093000000001, -3.0], [-1.5587396123545605, -2.683901074764725], [-2.121320343559643, -2.121320343559643], [-2.683901074764725, -1.5587396123545605], [-3.0, -0.7956093000000001], [-3.0, 0.0], [-3.0, 0.7956093000000001], [-2.683901074764725, 1.5587396123545605], [-2.121320343559643, 2.121320343559643], [-1.5587396123545605, 2.683901074764725], [-0.7956093000000001, 3.0], [0.0, 3.0]], [\"M\", \"C\", \"C\", \"C\", \"C\", \"C\", \"C\", \"C\", \"C\", \"Z\"]], \"alpha\": 1, \"xindex\": 0, \"data\": \"data01\", \"id\": \"el2696140567943080336pts\"}], \"id\": \"el2696140567942659728\", \"ydomain\": [-0.30000000000000004, 0.40000000000000002], \"collections\": [], \"xscale\": \"linear\", \"bbox\": [0.125, 0.125, 0.77500000000000002, 0.77500000000000002]}], \"height\": 320.0, \"width\": 480.0, \"plugins\": [{\"type\": \"reset\"}, {\"enabled\": false, \"button\": true, \"type\": \"zoom\"}, {\"enabled\": false, \"button\": true, \"type\": \"boxzoom\"}, {\"voffset\": 10, \"labels\": [\"start_time\", \"r1_level\", \"r1_xp\", \"r1_gold\", \"r1_lh\", \"r1_kills\", \"r1_deaths\", \"r1_items\", \"r2_level\", \"r2_xp\", \"r2_gold\", \"r2_lh\", \"r2_kills\", \"r2_deaths\", \"r2_items\", \"r3_level\", \"r3_xp\", \"r3_gold\", \"r3_lh\", \"r3_kills\", \"r3_deaths\", \"r3_items\", \"r4_level\", \"r4_xp\", \"r4_gold\", \"r4_lh\", \"r4_kills\", \"r4_deaths\", \"r4_items\", \"r5_level\", \"r5_xp\", \"r5_gold\", \"r5_lh\", \"r5_kills\", \"r5_deaths\", \"r5_items\", \"d1_level\", \"d1_xp\", \"d1_gold\", \"d1_lh\", \"d1_kills\", \"d1_deaths\", \"d1_items\", \"d2_level\", \"d2_xp\", \"d2_gold\", \"d2_lh\", \"d2_kills\", \"d2_deaths\", \"d2_items\", \"d3_level\", \"d3_xp\", \"d3_gold\", \"d3_lh\", \"d3_kills\", \"d3_deaths\", \"d3_items\", \"d4_level\", \"d4_xp\", \"d4_gold\", \"d4_lh\", \"d4_kills\", \"d4_deaths\", \"d4_items\", \"d5_level\", \"d5_xp\", \"d5_gold\", \"d5_lh\", \"d5_kills\", \"d5_deaths\", \"d5_items\", \"first_blood_time\", \"first_blood_team\", \"first_blood_player1\", \"first_blood_player2\", \"radiant_bottle_time\", \"radiant_courier_time\", \"radiant_flying_courier_time\", \"radiant_tpscroll_count\", \"radiant_boots_count\", \"radiant_ward_observer_count\", \"radiant_ward_sentry_count\", \"radiant_first_ward_time\", \"dire_bottle_time\", \"dire_courier_time\", \"dire_flying_courier_time\", \"dire_tpscroll_count\", \"dire_boots_count\", \"dire_ward_observer_count\", \"dire_ward_sentry_count\", \"dire_first_ward_time\", \"r1_hero\", \"r2_hero\", \"r3_hero\", \"r4_hero\", \"r5_hero\", \"r6_hero\", \"r7_hero\", \"r8_hero\", \"r9_hero\", \"r10_hero\", \"r11_hero\", \"r12_hero\", \"r13_hero\", \"r14_hero\", \"r15_hero\", \"r16_hero\", \"r17_hero\", \"r18_hero\", \"r19_hero\", \"r20_hero\", \"r21_hero\", \"r22_hero\", \"r23_hero\", \"r24_hero\", \"r25_hero\", \"r26_hero\", \"r27_hero\", \"r28_hero\", \"r29_hero\", \"r30_hero\", \"r31_hero\", \"r32_hero\", \"r33_hero\", \"r34_hero\", \"r35_hero\", \"r36_hero\", \"r37_hero\", \"r38_hero\", \"r39_hero\", \"r40_hero\", \"r41_hero\", \"r42_hero\", \"r43_hero\", \"r44_hero\", \"r45_hero\", \"r46_hero\", \"r47_hero\", \"r48_hero\", \"r49_hero\", \"r50_hero\", \"r51_hero\", \"r52_hero\", \"r53_hero\", \"r54_hero\", \"r55_hero\", \"r56_hero\", \"r57_hero\", \"r58_hero\", \"r59_hero\", \"r60_hero\", \"r61_hero\", \"r62_hero\", \"r63_hero\", \"r64_hero\", \"r65_hero\", \"r66_hero\", \"r67_hero\", \"r68_hero\", \"r69_hero\", \"r70_hero\", \"r71_hero\", \"r72_hero\", \"r73_hero\", \"r74_hero\", \"r75_hero\", \"r76_hero\", \"r77_hero\", \"r78_hero\", \"r79_hero\", \"r80_hero\", \"r81_hero\", \"r82_hero\", \"r83_hero\", \"r84_hero\", \"r85_hero\", \"r86_hero\", \"r87_hero\", \"r88_hero\", \"r89_hero\", \"r90_hero\", \"r91_hero\", \"r92_hero\", \"r93_hero\", \"r94_hero\", \"r95_hero\", \"r96_hero\", \"r97_hero\", \"r98_hero\", \"r99_hero\", \"r100_hero\", \"r101_hero\", \"r102_hero\", \"r103_hero\", \"r104_hero\", \"r105_hero\", \"r106_hero\", \"r107_hero\", \"r108_hero\", \"r109_hero\", \"r110_hero\", \"r111_hero\", \"r112_hero\", \"r113_hero\", \"lobby_type_0\", \"lobby_type_1\", \"lobby_type_7\", \"cumKillsRD_D2\", \"cumKillsRD_D\", \"GoldRD_D2\", \"GoldRD_D\", \"XpRD_D2\", \"XpRD_LD\"], \"hoffset\": 0, \"location\": \"mouse\", \"type\": \"tooltip\", \"id\": \"el2696140567943080336pts\"}], \"data\": {\"data01\": [[0.0, 0.04343866501342595], [1.0, -0.001705142111257298], [2.0, 0.02084503409787244], [3.0, 0.08466054124526572], [4.0, 0.05079288063156598], [5.0, -0.00509112417224215], [6.0, -0.026397898571421347], [7.0, 0.03786239524077758], [8.0, 0.01918302492327302], [9.0, 0.006202300914325171], [10.0, 0.08185628707607753], [11.0, 0.05687549841535872], [12.0, -0.010282447379282003], [13.0, -0.029249477204991152], [14.0, 0.02328291574307087], [15.0, 0.006577227863646518], [16.0, 0.01737180869265604], [17.0, 0.05432699759003162], [18.0, 0.05800243628325038], [19.0, -0.007988424232712885], [20.0, -0.031279345539883326], [21.0, 0.04468620633414526], [22.0, 0.012368212807059159], [23.0, 0.032872350552853535], [24.0, 0.055162377494871434], [25.0, 0.057934639114027145], [26.0, -0.011307217344837204], [27.0, -0.037716417595541535], [28.0, 0.03398720286802103], [29.0, 0.035772313601415466], [30.0, 0.013329412275467526], [31.0, 0.06101564324380741], [32.0, 0.043677883789217234], [33.0, -0.012094868945103995], [34.0, -0.03634134542467395], [35.0, 0.04852170028705332], [36.0, -0.013168142117334584], [37.0, -0.012388860539733336], [38.0, -0.08150778524271493], [39.0, -0.05325112452364768], [40.0, 0.012434403364277938], [41.0, 0.03357293795500361], [42.0, -0.030589057175367817], [43.0, -0.006983283344704031], [44.0, -0.024355307166050316], [45.0, -0.09191816101268903], [46.0, -0.056185907242755816], [47.0, 0.014673807805073437], [48.0, 0.027549859930011474], [49.0, -0.041074135350320895], [50.0, -0.0010703429739588799], [51.0, -0.044070146214212236], [52.0, -0.03679420300789202], [53.0, -0.06698254579256653], [54.0, -0.0015906587822146232], [55.0, 0.022845883309598157], [56.0, -0.03974269347807829], [57.0, -0.01944998662406794], [58.0, -0.004503243133027334], [59.0, -0.07610839811798041], [60.0, -0.05645346967908379], [61.0, 0.010204710919884875], [62.0, 0.028438358994540152], [63.0, -0.04229466277683008], [64.0, -0.0007257586917263519], [65.0, -0.04182655703745765], [66.0, -0.05661083396585451], [67.0, -0.06243958861870004], [68.0, 0.00025018381715973984], [69.0, 0.0413637731684287], [70.0, -0.04430441006329099], [71.0, 0.004546798803041796], [72.0, 0.0033841188248591096], [73.0, -0.002329321035437579], [74.0, -0.037907018936319876], [75.0, -0.003998686927639658], [76.0, -0.030975112773046886], [77.0, 0.03665170165622784], [78.0, -0.041654370165183405], [79.0, 0.02622663109434148], [80.0, -0.0076993738950903185], [81.0, -0.000823744233946271], [82.0, -0.040990739044905716], [83.0, 0.005958778220305869], [84.0, 0.019422505471510424], [85.0, -0.010421586682746018], [86.0, 0.0410812665255505], [87.0, -0.0174554432807253], [88.0, 0.007226499303826192], [89.0, -0.006525361618573388], [90.0, 0.03249148563683502], [91.0, 0.0], [92.0, 0.036633668758320824], [93.0, -0.13539816057492163], [94.0, -0.06477779260323838], [95.0, -0.021397585508479557], [96.0, 0.02662737883192611], [97.0, 0.029112667702740683], [98.0, 0.13856985260892923], [99.0, 0.05507776193121345], [100.0, -0.007614285713023931], [101.0, -0.008658463073237685], [102.0, 0.047681787935845904], [103.0, -0.021620010224688582], [104.0, -0.09319853259409584], [105.0, 0.008891852639581877], [106.0, -0.034500641584801185], [107.0, -0.0018185020282853747], [108.0, -0.026793355397504024], [109.0, 0.015565626301343258], [110.0, 0.02249737336897395], [111.0, 0.008953065884176471], [112.0, -0.11248998050740967], [113.0, 0.07601237130926362], [114.0, -0.001209149534553118], [115.0, 0.0], [116.0, -0.15283920438631568], [117.0, -0.07834216802802536], [118.0, -0.0098188803231899], [119.0, 0.08872090297557292], [120.0, -0.006939068896118171], [121.0, 0.019002486586566798], [122.0, 0.026647554186052202], [123.0, 0.045883753935802574], [124.0, -0.07263095430602783], [125.0, -0.02935724314764153], [126.0, -0.018881192475443797], [127.0, 0.02200516414352026], [128.0, 0.011156860877373666], [129.0, 0.03044592713969998], [130.0, -0.21150511767179528], [131.0, 0.03717171354800524], [132.0, -0.04451931505565348], [133.0, 0.10329772966718742], [134.0, -0.024501406587228658], [135.0, 0.0010703826734452355], [136.0, -0.001314384328804943], [137.0, -0.016777934697237703], [138.0, -0.11587665166921923], [139.0, 0.01694167730727831], [140.0, 0.03095874160639729], [141.0, -0.01426333608799834], [142.0, 0.019816119055028888], [143.0, 0.049169423533978705], [144.0, -0.03581691068829402], [145.0, -0.0276640773159885], [146.0, -0.07824065661237388], [147.0, -0.011058269638459533], [148.0, 0.12410782832855408], [149.0, -0.04020983920321127], [150.0, 0.01189667397444962], [151.0, 0.01045991699616193], [152.0, -0.05301784895393844], [153.0, 0.04848964808373938], [154.0, -0.02190240651714622], [155.0, -0.017205322721245763], [156.0, -0.013070626474708243], [157.0, -0.020298434143483743], [158.0, 0.16360142276400755], [159.0, -0.010857349496940248], [160.0, 0.08201298779034745], [161.0, 0.04892727002029711], [162.0, 0.12190551663318878], [163.0, 0.009935433918045137], [164.0, 0.0530287573812335], [165.0, -0.007948950509785993], [166.0, -0.02325367280742661], [167.0, -0.06255482726339454], [168.0, 0.033069149942552764], [169.0, -0.0017261469318314477], [170.0, -0.03260185228497803], [171.0, -0.012533182574527717], [172.0, 0.003181277537282552], [173.0, 0.03398722230298177], [174.0, 0.015914392389184247], [175.0, -0.008439243767245566], [176.0, 0.04589054257887874], [177.0, -0.06471035363964749], [178.0, -0.03491803295446905], [179.0, 0.005638733748987111], [180.0, -0.011929174694570076], [181.0, -0.009691393829634649], [182.0, 0.035677201688073305], [183.0, 0.02195100255344405], [184.0, 0.026816053943929035], [185.0, 0.037065458696058956], [186.0, -0.019639458333663838], [187.0, 0.01090799927261999], [188.0, -0.03427482365566722], [189.0, -0.02260391885314092], [190.0, -0.06644060716958644], [191.0, 0.05738753385560041], [192.0, -0.07929972982113749], [193.0, 0.06676794492338915], [194.0, 0.01875417562269879], [195.0, -0.04875431758692161], [196.0, -0.0023737428859068543], [197.0, 0.01272551940603005], [198.0, 0.0], [199.0, 0.0], [200.0, -0.0063082813412410335], [201.0, 0.04393786207153275], [202.0, 0.0], [203.0, -0.003213849525892959], [204.0, -0.03497502471790447], [205.0, 0.027464167932828878], [206.0, -0.003911300354477009], [207.0, -0.006648233324910291], [208.0, 0.3025258300365734], [209.0, 0.016521358500612513], [210.0, 0.12388925004710116], [211.0, 0.019371416462265527], [212.0, 0.2629359504866758]]}, \"id\": \"el2696140567942658320\"});\n",
       "            })\n",
       "         });\n",
       "}\n",
       "</script>"
      ],
      "text/plain": [
       "<IPython.core.display.HTML object>"
      ]
     },
     "execution_count": 116,
     "metadata": {},
     "output_type": "execute_result"
    }
   ],
   "source": [
    "import mpld3\n",
    "\n",
    "mpld3.enable_notebook()\n",
    "fig, ax = plt.subplots(subplot_kw=dict(axisbg='#EEEEEE'))\n",
    "\n",
    "somefig=ax.plot(clf4.coef_[0],'ro-')\n",
    "#x=range(len(allColumns))\n",
    "#plt.xticks(clf2.coef_[0],allColumns, rotation='vertical')\n",
    "\n",
    "#labels = ['point {0}'.format(i + 1) for i in range(N)]\n",
    "tooltip = mpld3.plugins.PointLabelTooltip(somefig[0], labels=Reduced4testCols)\n",
    "mpld3.plugins.connect(fig, tooltip)\n",
    "mpld3.display()"
   ]
  },
  {
   "cell_type": "code",
   "execution_count": null,
   "metadata": {
    "collapsed": true
   },
   "outputs": [],
   "source": []
  },
  {
   "cell_type": "raw",
   "metadata": {
    "collapsed": true
   },
   "source": [
    "    scores4 = cross_val_score(GradientBoostingClassifier2(n_estimators=40,random_state=1),\n",
    "                            X_concat2, Y, cv=KFold(len(X_concat2),\n",
    "                            n_folds=5, shuffle=True, random_state=241),scoring='roc_auc')"
   ]
  },
  {
   "cell_type": "raw",
   "metadata": {
    "collapsed": false
   },
   "source": [
    "scores4.mean()"
   ]
  },
  {
   "cell_type": "raw",
   "metadata": {
    "collapsed": true
   },
   "source": [
    "from sklearn.svm import SVC"
   ]
  },
  {
   "cell_type": "raw",
   "metadata": {
    "collapsed": true
   },
   "source": [
    "from sklearn.preprocessing import MinMaxScaler"
   ]
  },
  {
   "cell_type": "raw",
   "metadata": {
    "collapsed": true
   },
   "source": [
    "MinMaxScaler1 = MinMaxScaler()\n",
    "X_concat_sc = MinMaxScaler1.fit_transform(X_concat)"
   ]
  },
  {
   "cell_type": "raw",
   "metadata": {
    "collapsed": false
   },
   "source": [
    "scores5 = cross_val_score(SVC(random_state=1,cache_size=9000),\n",
    "                            X_concat_sc, Y, cv=KFold(len(X_concat2),\n",
    "                            n_folds=5, shuffle=True, random_state=241),scoring='roc_auc')"
   ]
  },
  {
   "cell_type": "raw",
   "metadata": {
    "collapsed": false
   },
   "source": [
    "X_concat2_sc_df=pandas.DataFrame(X_concat2_sc)"
   ]
  },
  {
   "cell_type": "raw",
   "metadata": {
    "collapsed": false
   },
   "source": [
    "X_concat2_sc_df.head()"
   ]
  },
  {
   "cell_type": "raw",
   "metadata": {
    "collapsed": false
   },
   "source": [
    "X_concat2_sc_df.shape"
   ]
  },
  {
   "cell_type": "raw",
   "metadata": {
    "collapsed": false
   },
   "source": [
    "Y.shape"
   ]
  },
  {
   "cell_type": "raw",
   "metadata": {
    "collapsed": true
   },
   "source": [
    "X_concat2_sc_df_sample=X_concat2_sc_df.sample(10000)"
   ]
  },
  {
   "cell_type": "raw",
   "metadata": {
    "collapsed": true
   },
   "source": [
    "Y_sample = Y.sample(10000)"
   ]
  },
  {
   "cell_type": "raw",
   "metadata": {
    "collapsed": true
   },
   "source": [
    "scores5 = cross_val_score(SVC(random_state=1,cache_size=9000),\n",
    "                            X_concat2_sc_df_sample, Y_sample, cv=KFold(len(X_concat2_sc_df_sample),\n",
    "                            n_folds=5, shuffle=True, random_state=241),scoring='roc_auc')"
   ]
  },
  {
   "cell_type": "raw",
   "metadata": {
    "collapsed": false
   },
   "source": [
    "scores5.mean()"
   ]
  },
  {
   "cell_type": "raw",
   "metadata": {
    "collapsed": true
   },
   "source": [
    "from sklearn.ensemble import RandomForestClassifier"
   ]
  },
  {
   "cell_type": "raw",
   "metadata": {
    "collapsed": false
   },
   "source": [
    "scores6 = cross_val_score(RandomForestClassifier(random_state=1,n_estimators=400),\n",
    "                            X_concat2_sc, Y, cv=KFold(len(X_concat2_sc),\n",
    "                            n_folds=5, shuffle=True, random_state=241),scoring='roc_auc')"
   ]
  },
  {
   "cell_type": "raw",
   "metadata": {
    "collapsed": false
   },
   "source": [
    "scores6.mean()"
   ]
  },
  {
   "cell_type": "markdown",
   "metadata": {
    "collapsed": true
   },
   "source": [
    "### Добавление полиномиальных характеристик"
   ]
  },
  {
   "cell_type": "raw",
   "metadata": {
    "collapsed": true
   },
   "source": [
    "from sklearn.preprocessing import PolynomialFeatures"
   ]
  },
  {
   "cell_type": "raw",
   "metadata": {
    "collapsed": true
   },
   "source": [
    "poly = PolynomialFeatures(degree=2,interaction_only=True)"
   ]
  },
  {
   "cell_type": "raw",
   "metadata": {
    "collapsed": false
   },
   "source": [
    "X_concat.shape"
   ]
  },
  {
   "cell_type": "raw",
   "metadata": {
    "collapsed": false
   },
   "source": [
    "Xtr_s2_p=poly.fit_transform(Xtr_s2)\n",
    "#Xts_s2_p=poly.fit_transform(Xts_s2)"
   ]
  },
  {
   "cell_type": "raw",
   "metadata": {
    "collapsed": false
   },
   "source": [
    "#reset_selective X_concat3"
   ]
  },
  {
   "cell_type": "raw",
   "metadata": {
    "collapsed": false
   },
   "source": [
    "X_tr_s2 = np.hstack((X_pick,Xtr_s2_p))\n",
    "#X_concat3_test = np.hstack((X_pick_test,Xts_s2_p))"
   ]
  },
  {
   "cell_type": "raw",
   "metadata": {
    "collapsed": false
   },
   "source": [
    "X_tr_s2 = np.hstack((X_tr_s2,X_pick3))\n",
    "#X_concat3_test = np.hstack((X_concat3_test,X_pick3_test))"
   ]
  },
  {
   "cell_type": "raw",
   "metadata": {
    "collapsed": true
   },
   "source": [
    "clf5=LogisticRegression(C=0.05,penalty='l2',random_state=1, n_jobs=-1)"
   ]
  },
  {
   "cell_type": "raw",
   "metadata": {
    "collapsed": false
   },
   "source": [
    "clf5.fit(X_tr_s2,Y)"
   ]
  },
  {
   "cell_type": "raw",
   "metadata": {
    "collapsed": false
   },
   "source": [
    "trainReduced2.columns"
   ]
  },
  {
   "cell_type": "raw",
   "metadata": {
    "collapsed": true
   },
   "source": [
    "PolyFeaturesolumns = ['r1_level','r1_xp','r1_gold','r1_lh',\n",
    "                      'r1_kills','r1_deaths','r1_items',\n",
    "                      'radiant_tpscroll_count','radiant_boots_count',\n",
    "                     'radiant_ward_observer_count','radiant_ward_sentry_count']"
   ]
  },
  {
   "cell_type": "code",
   "execution_count": null,
   "metadata": {
    "collapsed": true
   },
   "outputs": [],
   "source": []
  }
 ],
 "metadata": {
  "kernelspec": {
   "display_name": "Python 2",
   "language": "python",
   "name": "python2"
  },
  "language_info": {
   "codemirror_mode": {
    "name": "ipython",
    "version": 2
   },
   "file_extension": ".py",
   "mimetype": "text/x-python",
   "name": "python",
   "nbconvert_exporter": "python",
   "pygments_lexer": "ipython2",
   "version": "2.7.10"
  }
 },
 "nbformat": 4,
 "nbformat_minor": 0
}
